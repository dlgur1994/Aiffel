{
 "cells": [
  {
   "cell_type": "markdown",
   "id": "answering-upgrade",
   "metadata": {},
   "source": [
    "## libaray import"
   ]
  },
  {
   "cell_type": "code",
   "execution_count": 164,
   "id": "indoor-crossing",
   "metadata": {},
   "outputs": [],
   "source": [
    "import os\n",
    "import pandas as pd\n",
    "import numpy as np\n",
    "from scipy.sparse import csr_matrix\n",
    "from implicit.als import AlternatingLeastSquares"
   ]
  },
  {
   "cell_type": "markdown",
   "id": "active-morocco",
   "metadata": {},
   "source": [
    "## preprocess"
   ]
  },
  {
   "cell_type": "code",
   "execution_count": 165,
   "id": "configured-briefing",
   "metadata": {},
   "outputs": [
    {
     "data": {
      "text/html": [
       "<div>\n",
       "<style scoped>\n",
       "    .dataframe tbody tr th:only-of-type {\n",
       "        vertical-align: middle;\n",
       "    }\n",
       "\n",
       "    .dataframe tbody tr th {\n",
       "        vertical-align: top;\n",
       "    }\n",
       "\n",
       "    .dataframe thead th {\n",
       "        text-align: right;\n",
       "    }\n",
       "</style>\n",
       "<table border=\"1\" class=\"dataframe\">\n",
       "  <thead>\n",
       "    <tr style=\"text-align: right;\">\n",
       "      <th></th>\n",
       "      <th>user_id</th>\n",
       "      <th>movie_id</th>\n",
       "      <th>rating</th>\n",
       "      <th>timestamp</th>\n",
       "    </tr>\n",
       "  </thead>\n",
       "  <tbody>\n",
       "    <tr>\n",
       "      <th>0</th>\n",
       "      <td>1</td>\n",
       "      <td>1193</td>\n",
       "      <td>5</td>\n",
       "      <td>978300760</td>\n",
       "    </tr>\n",
       "    <tr>\n",
       "      <th>1</th>\n",
       "      <td>1</td>\n",
       "      <td>661</td>\n",
       "      <td>3</td>\n",
       "      <td>978302109</td>\n",
       "    </tr>\n",
       "    <tr>\n",
       "      <th>2</th>\n",
       "      <td>1</td>\n",
       "      <td>914</td>\n",
       "      <td>3</td>\n",
       "      <td>978301968</td>\n",
       "    </tr>\n",
       "    <tr>\n",
       "      <th>3</th>\n",
       "      <td>1</td>\n",
       "      <td>3408</td>\n",
       "      <td>4</td>\n",
       "      <td>978300275</td>\n",
       "    </tr>\n",
       "    <tr>\n",
       "      <th>4</th>\n",
       "      <td>1</td>\n",
       "      <td>2355</td>\n",
       "      <td>5</td>\n",
       "      <td>978824291</td>\n",
       "    </tr>\n",
       "  </tbody>\n",
       "</table>\n",
       "</div>"
      ],
      "text/plain": [
       "   user_id  movie_id  rating  timestamp\n",
       "0        1      1193       5  978300760\n",
       "1        1       661       3  978302109\n",
       "2        1       914       3  978301968\n",
       "3        1      3408       4  978300275\n",
       "4        1      2355       5  978824291"
      ]
     },
     "execution_count": 165,
     "metadata": {},
     "output_type": "execute_result"
    }
   ],
   "source": [
    "rating_file_path=os.getenv('HOME') + '/aiffel/recommendata_iu/data/ml-1m/ratings.dat'\n",
    "ratings_cols = ['user_id', 'movie_id', 'rating', 'timestamp']\n",
    "ratings = pd.read_csv(rating_file_path, sep='::', names=ratings_cols, engine='python', encoding = \"ISO-8859-1\")\n",
    "orginal_data_size = len(ratings)\n",
    "ratings.head()"
   ]
  },
  {
   "cell_type": "code",
   "execution_count": 166,
   "id": "active-retirement",
   "metadata": {},
   "outputs": [
    {
     "name": "stdout",
     "output_type": "stream",
     "text": [
      "orginal_data_size: 1000209, filtered_data_size: 836478\n",
      "Ratio of Remaining Data is 83.63%\n"
     ]
    }
   ],
   "source": [
    "# 3점 이상만 남긴다.\n",
    "ratings = ratings[ratings['rating']>=3]\n",
    "filtered_data_size = len(ratings)\n",
    "\n",
    "print(f'orginal_data_size: {orginal_data_size}, filtered_data_size: {filtered_data_size}')\n",
    "print(f'Ratio of Remaining Data is {filtered_data_size / orginal_data_size:.2%}')"
   ]
  },
  {
   "cell_type": "code",
   "execution_count": 167,
   "id": "banner-scale",
   "metadata": {},
   "outputs": [
    {
     "data": {
      "text/html": [
       "<div>\n",
       "<style scoped>\n",
       "    .dataframe tbody tr th:only-of-type {\n",
       "        vertical-align: middle;\n",
       "    }\n",
       "\n",
       "    .dataframe tbody tr th {\n",
       "        vertical-align: top;\n",
       "    }\n",
       "\n",
       "    .dataframe thead th {\n",
       "        text-align: right;\n",
       "    }\n",
       "</style>\n",
       "<table border=\"1\" class=\"dataframe\">\n",
       "  <thead>\n",
       "    <tr style=\"text-align: right;\">\n",
       "      <th></th>\n",
       "      <th>user_id</th>\n",
       "      <th>movie_id</th>\n",
       "      <th>count</th>\n",
       "      <th>timestamp</th>\n",
       "    </tr>\n",
       "  </thead>\n",
       "  <tbody>\n",
       "    <tr>\n",
       "      <th>0</th>\n",
       "      <td>1</td>\n",
       "      <td>1193</td>\n",
       "      <td>5</td>\n",
       "      <td>978300760</td>\n",
       "    </tr>\n",
       "    <tr>\n",
       "      <th>1</th>\n",
       "      <td>1</td>\n",
       "      <td>661</td>\n",
       "      <td>3</td>\n",
       "      <td>978302109</td>\n",
       "    </tr>\n",
       "    <tr>\n",
       "      <th>2</th>\n",
       "      <td>1</td>\n",
       "      <td>914</td>\n",
       "      <td>3</td>\n",
       "      <td>978301968</td>\n",
       "    </tr>\n",
       "    <tr>\n",
       "      <th>3</th>\n",
       "      <td>1</td>\n",
       "      <td>3408</td>\n",
       "      <td>4</td>\n",
       "      <td>978300275</td>\n",
       "    </tr>\n",
       "    <tr>\n",
       "      <th>4</th>\n",
       "      <td>1</td>\n",
       "      <td>2355</td>\n",
       "      <td>5</td>\n",
       "      <td>978824291</td>\n",
       "    </tr>\n",
       "    <tr>\n",
       "      <th>...</th>\n",
       "      <td>...</td>\n",
       "      <td>...</td>\n",
       "      <td>...</td>\n",
       "      <td>...</td>\n",
       "    </tr>\n",
       "    <tr>\n",
       "      <th>1000203</th>\n",
       "      <td>6040</td>\n",
       "      <td>1090</td>\n",
       "      <td>3</td>\n",
       "      <td>956715518</td>\n",
       "    </tr>\n",
       "    <tr>\n",
       "      <th>1000205</th>\n",
       "      <td>6040</td>\n",
       "      <td>1094</td>\n",
       "      <td>5</td>\n",
       "      <td>956704887</td>\n",
       "    </tr>\n",
       "    <tr>\n",
       "      <th>1000206</th>\n",
       "      <td>6040</td>\n",
       "      <td>562</td>\n",
       "      <td>5</td>\n",
       "      <td>956704746</td>\n",
       "    </tr>\n",
       "    <tr>\n",
       "      <th>1000207</th>\n",
       "      <td>6040</td>\n",
       "      <td>1096</td>\n",
       "      <td>4</td>\n",
       "      <td>956715648</td>\n",
       "    </tr>\n",
       "    <tr>\n",
       "      <th>1000208</th>\n",
       "      <td>6040</td>\n",
       "      <td>1097</td>\n",
       "      <td>4</td>\n",
       "      <td>956715569</td>\n",
       "    </tr>\n",
       "  </tbody>\n",
       "</table>\n",
       "<p>836478 rows × 4 columns</p>\n",
       "</div>"
      ],
      "text/plain": [
       "         user_id  movie_id  count  timestamp\n",
       "0              1      1193      5  978300760\n",
       "1              1       661      3  978302109\n",
       "2              1       914      3  978301968\n",
       "3              1      3408      4  978300275\n",
       "4              1      2355      5  978824291\n",
       "...          ...       ...    ...        ...\n",
       "1000203     6040      1090      3  956715518\n",
       "1000205     6040      1094      5  956704887\n",
       "1000206     6040       562      5  956704746\n",
       "1000207     6040      1096      4  956715648\n",
       "1000208     6040      1097      4  956715569\n",
       "\n",
       "[836478 rows x 4 columns]"
      ]
     },
     "execution_count": 167,
     "metadata": {},
     "output_type": "execute_result"
    }
   ],
   "source": [
    "# rating 컬럼의 이름을 count로 바꿉니다.\n",
    "ratings.rename(columns={'rating':'count'}, inplace=True)\n",
    "ratings"
   ]
  },
  {
   "cell_type": "code",
   "execution_count": 168,
   "id": "isolated-midwest",
   "metadata": {},
   "outputs": [
    {
     "data": {
      "text/html": [
       "<div>\n",
       "<style scoped>\n",
       "    .dataframe tbody tr th:only-of-type {\n",
       "        vertical-align: middle;\n",
       "    }\n",
       "\n",
       "    .dataframe tbody tr th {\n",
       "        vertical-align: top;\n",
       "    }\n",
       "\n",
       "    .dataframe thead th {\n",
       "        text-align: right;\n",
       "    }\n",
       "</style>\n",
       "<table border=\"1\" class=\"dataframe\">\n",
       "  <thead>\n",
       "    <tr style=\"text-align: right;\">\n",
       "      <th></th>\n",
       "      <th>user_id</th>\n",
       "      <th>movie_id</th>\n",
       "      <th>count</th>\n",
       "    </tr>\n",
       "  </thead>\n",
       "  <tbody>\n",
       "    <tr>\n",
       "      <th>0</th>\n",
       "      <td>1</td>\n",
       "      <td>1193</td>\n",
       "      <td>5</td>\n",
       "    </tr>\n",
       "    <tr>\n",
       "      <th>1</th>\n",
       "      <td>1</td>\n",
       "      <td>661</td>\n",
       "      <td>3</td>\n",
       "    </tr>\n",
       "    <tr>\n",
       "      <th>2</th>\n",
       "      <td>1</td>\n",
       "      <td>914</td>\n",
       "      <td>3</td>\n",
       "    </tr>\n",
       "    <tr>\n",
       "      <th>3</th>\n",
       "      <td>1</td>\n",
       "      <td>3408</td>\n",
       "      <td>4</td>\n",
       "    </tr>\n",
       "    <tr>\n",
       "      <th>4</th>\n",
       "      <td>1</td>\n",
       "      <td>2355</td>\n",
       "      <td>5</td>\n",
       "    </tr>\n",
       "    <tr>\n",
       "      <th>...</th>\n",
       "      <td>...</td>\n",
       "      <td>...</td>\n",
       "      <td>...</td>\n",
       "    </tr>\n",
       "    <tr>\n",
       "      <th>1000203</th>\n",
       "      <td>6040</td>\n",
       "      <td>1090</td>\n",
       "      <td>3</td>\n",
       "    </tr>\n",
       "    <tr>\n",
       "      <th>1000205</th>\n",
       "      <td>6040</td>\n",
       "      <td>1094</td>\n",
       "      <td>5</td>\n",
       "    </tr>\n",
       "    <tr>\n",
       "      <th>1000206</th>\n",
       "      <td>6040</td>\n",
       "      <td>562</td>\n",
       "      <td>5</td>\n",
       "    </tr>\n",
       "    <tr>\n",
       "      <th>1000207</th>\n",
       "      <td>6040</td>\n",
       "      <td>1096</td>\n",
       "      <td>4</td>\n",
       "    </tr>\n",
       "    <tr>\n",
       "      <th>1000208</th>\n",
       "      <td>6040</td>\n",
       "      <td>1097</td>\n",
       "      <td>4</td>\n",
       "    </tr>\n",
       "  </tbody>\n",
       "</table>\n",
       "<p>836478 rows × 3 columns</p>\n",
       "</div>"
      ],
      "text/plain": [
       "         user_id  movie_id  count\n",
       "0              1      1193      5\n",
       "1              1       661      3\n",
       "2              1       914      3\n",
       "3              1      3408      4\n",
       "4              1      2355      5\n",
       "...          ...       ...    ...\n",
       "1000203     6040      1090      3\n",
       "1000205     6040      1094      5\n",
       "1000206     6040       562      5\n",
       "1000207     6040      1096      4\n",
       "1000208     6040      1097      4\n",
       "\n",
       "[836478 rows x 3 columns]"
      ]
     },
     "execution_count": 168,
     "metadata": {},
     "output_type": "execute_result"
    }
   ],
   "source": [
    "# timestamp 삭제\n",
    "ratings.drop('timestamp', axis=1, inplace=True)\n",
    "ratings"
   ]
  },
  {
   "cell_type": "code",
   "execution_count": 169,
   "id": "following-johns",
   "metadata": {},
   "outputs": [
    {
     "data": {
      "text/html": [
       "<div>\n",
       "<style scoped>\n",
       "    .dataframe tbody tr th:only-of-type {\n",
       "        vertical-align: middle;\n",
       "    }\n",
       "\n",
       "    .dataframe tbody tr th {\n",
       "        vertical-align: top;\n",
       "    }\n",
       "\n",
       "    .dataframe thead th {\n",
       "        text-align: right;\n",
       "    }\n",
       "</style>\n",
       "<table border=\"1\" class=\"dataframe\">\n",
       "  <thead>\n",
       "    <tr style=\"text-align: right;\">\n",
       "      <th></th>\n",
       "      <th>movie_id</th>\n",
       "      <th>title</th>\n",
       "      <th>genre</th>\n",
       "    </tr>\n",
       "  </thead>\n",
       "  <tbody>\n",
       "    <tr>\n",
       "      <th>0</th>\n",
       "      <td>1</td>\n",
       "      <td>Toy Story (1995)</td>\n",
       "      <td>Animation|Children's|Comedy</td>\n",
       "    </tr>\n",
       "    <tr>\n",
       "      <th>1</th>\n",
       "      <td>2</td>\n",
       "      <td>Jumanji (1995)</td>\n",
       "      <td>Adventure|Children's|Fantasy</td>\n",
       "    </tr>\n",
       "    <tr>\n",
       "      <th>2</th>\n",
       "      <td>3</td>\n",
       "      <td>Grumpier Old Men (1995)</td>\n",
       "      <td>Comedy|Romance</td>\n",
       "    </tr>\n",
       "    <tr>\n",
       "      <th>3</th>\n",
       "      <td>4</td>\n",
       "      <td>Waiting to Exhale (1995)</td>\n",
       "      <td>Comedy|Drama</td>\n",
       "    </tr>\n",
       "    <tr>\n",
       "      <th>4</th>\n",
       "      <td>5</td>\n",
       "      <td>Father of the Bride Part II (1995)</td>\n",
       "      <td>Comedy</td>\n",
       "    </tr>\n",
       "  </tbody>\n",
       "</table>\n",
       "</div>"
      ],
      "text/plain": [
       "   movie_id                               title                         genre\n",
       "0         1                    Toy Story (1995)   Animation|Children's|Comedy\n",
       "1         2                      Jumanji (1995)  Adventure|Children's|Fantasy\n",
       "2         3             Grumpier Old Men (1995)                Comedy|Romance\n",
       "3         4            Waiting to Exhale (1995)                  Comedy|Drama\n",
       "4         5  Father of the Bride Part II (1995)                        Comedy"
      ]
     },
     "execution_count": 169,
     "metadata": {},
     "output_type": "execute_result"
    }
   ],
   "source": [
    "# 영화 제목을 보기 위해 메타 데이터를 읽어옵니다.\n",
    "movie_file_path=os.getenv('HOME') + '/aiffel/recommendata_iu/data/ml-1m/movies.dat'\n",
    "cols = ['movie_id', 'title', 'genre'] \n",
    "movies = pd.read_csv(movie_file_path, sep='::', names=cols, engine='python', encoding='ISO-8859-1')\n",
    "movies.head()"
   ]
  },
  {
   "cell_type": "markdown",
   "id": "collectible-train",
   "metadata": {},
   "source": [
    "## 분석"
   ]
  },
  {
   "cell_type": "code",
   "execution_count": 170,
   "id": "treated-geneva",
   "metadata": {},
   "outputs": [
    {
     "data": {
      "text/plain": [
       "3628"
      ]
     },
     "execution_count": 170,
     "metadata": {},
     "output_type": "execute_result"
    }
   ],
   "source": [
    "# ratings에 있는 유니크한 영화 개수\n",
    "new_ratings['title'].nunique()"
   ]
  },
  {
   "cell_type": "code",
   "execution_count": 171,
   "id": "insured-playing",
   "metadata": {},
   "outputs": [
    {
     "data": {
      "text/plain": [
       "6040"
      ]
     },
     "execution_count": 171,
     "metadata": {},
     "output_type": "execute_result"
    }
   ],
   "source": [
    "# rating에 있는 유니크한 사용자 수\n",
    "new_ratings['user_id'].nunique()"
   ]
  },
  {
   "cell_type": "code",
   "execution_count": 172,
   "id": "collaborative-houston",
   "metadata": {
    "scrolled": true
   },
   "outputs": [
    {
     "data": {
      "text/html": [
       "<div>\n",
       "<style scoped>\n",
       "    .dataframe tbody tr th:only-of-type {\n",
       "        vertical-align: middle;\n",
       "    }\n",
       "\n",
       "    .dataframe tbody tr th {\n",
       "        vertical-align: top;\n",
       "    }\n",
       "\n",
       "    .dataframe thead th {\n",
       "        text-align: right;\n",
       "    }\n",
       "</style>\n",
       "<table border=\"1\" class=\"dataframe\">\n",
       "  <thead>\n",
       "    <tr style=\"text-align: right;\">\n",
       "      <th></th>\n",
       "      <th>movie_id</th>\n",
       "      <th>count</th>\n",
       "      <th>title</th>\n",
       "      <th>genre</th>\n",
       "    </tr>\n",
       "  </thead>\n",
       "  <tbody>\n",
       "    <tr>\n",
       "      <th>2600</th>\n",
       "      <td>2858</td>\n",
       "      <td>14449</td>\n",
       "      <td>American Beauty (1999)</td>\n",
       "      <td>Comedy|Drama</td>\n",
       "    </tr>\n",
       "    <tr>\n",
       "      <th>249</th>\n",
       "      <td>260</td>\n",
       "      <td>13178</td>\n",
       "      <td>Star Wars: Episode IV - A New Hope (1977)</td>\n",
       "      <td>Action|Adventure|Fantasy|Sci-Fi</td>\n",
       "    </tr>\n",
       "    <tr>\n",
       "      <th>1080</th>\n",
       "      <td>1196</td>\n",
       "      <td>12648</td>\n",
       "      <td>Star Wars: Episode V - The Empire Strikes Back...</td>\n",
       "      <td>Action|Adventure|Drama|Sci-Fi|War</td>\n",
       "    </tr>\n",
       "    <tr>\n",
       "      <th>1810</th>\n",
       "      <td>2028</td>\n",
       "      <td>11348</td>\n",
       "      <td>Saving Private Ryan (1998)</td>\n",
       "      <td>Action|Drama|War</td>\n",
       "    </tr>\n",
       "    <tr>\n",
       "      <th>1094</th>\n",
       "      <td>1210</td>\n",
       "      <td>11303</td>\n",
       "      <td>Star Wars: Episode VI - Return of the Jedi (1983)</td>\n",
       "      <td>Action|Adventure|Romance|Sci-Fi|War</td>\n",
       "    </tr>\n",
       "    <tr>\n",
       "      <th>1082</th>\n",
       "      <td>1198</td>\n",
       "      <td>11179</td>\n",
       "      <td>Raiders of the Lost Ark (1981)</td>\n",
       "      <td>Action|Adventure</td>\n",
       "    </tr>\n",
       "    <tr>\n",
       "      <th>573</th>\n",
       "      <td>593</td>\n",
       "      <td>11096</td>\n",
       "      <td>Silence of the Lambs, The (1991)</td>\n",
       "      <td>Drama|Thriller</td>\n",
       "    </tr>\n",
       "    <tr>\n",
       "      <th>2325</th>\n",
       "      <td>2571</td>\n",
       "      <td>10903</td>\n",
       "      <td>Matrix, The (1999)</td>\n",
       "      <td>Action|Sci-Fi|Thriller</td>\n",
       "    </tr>\n",
       "    <tr>\n",
       "      <th>2507</th>\n",
       "      <td>2762</td>\n",
       "      <td>10703</td>\n",
       "      <td>Sixth Sense, The (1999)</td>\n",
       "      <td>Thriller</td>\n",
       "    </tr>\n",
       "    <tr>\n",
       "      <th>569</th>\n",
       "      <td>589</td>\n",
       "      <td>10513</td>\n",
       "      <td>Terminator 2: Judgment Day (1991)</td>\n",
       "      <td>Action|Sci-Fi|Thriller</td>\n",
       "    </tr>\n",
       "    <tr>\n",
       "      <th>587</th>\n",
       "      <td>608</td>\n",
       "      <td>10465</td>\n",
       "      <td>Fargo (1996)</td>\n",
       "      <td>Crime|Drama|Thriller</td>\n",
       "    </tr>\n",
       "    <tr>\n",
       "      <th>509</th>\n",
       "      <td>527</td>\n",
       "      <td>10317</td>\n",
       "      <td>Schindler's List (1993)</td>\n",
       "      <td>Drama|War</td>\n",
       "    </tr>\n",
       "    <tr>\n",
       "      <th>106</th>\n",
       "      <td>110</td>\n",
       "      <td>10125</td>\n",
       "      <td>Braveheart (1995)</td>\n",
       "      <td>Action|Drama|War</td>\n",
       "    </tr>\n",
       "    <tr>\n",
       "      <th>305</th>\n",
       "      <td>318</td>\n",
       "      <td>10085</td>\n",
       "      <td>Shawshank Redemption, The (1994)</td>\n",
       "      <td>Drama</td>\n",
       "    </tr>\n",
       "    <tr>\n",
       "      <th>1152</th>\n",
       "      <td>1270</td>\n",
       "      <td>10081</td>\n",
       "      <td>Back to the Future (1985)</td>\n",
       "      <td>Comedy|Sci-Fi</td>\n",
       "    </tr>\n",
       "    <tr>\n",
       "      <th>785</th>\n",
       "      <td>858</td>\n",
       "      <td>9965</td>\n",
       "      <td>Godfather, The (1972)</td>\n",
       "      <td>Action|Crime|Drama</td>\n",
       "    </tr>\n",
       "    <tr>\n",
       "      <th>1081</th>\n",
       "      <td>1197</td>\n",
       "      <td>9866</td>\n",
       "      <td>Princess Bride, The (1987)</td>\n",
       "      <td>Action|Adventure|Comedy|Romance</td>\n",
       "    </tr>\n",
       "    <tr>\n",
       "      <th>462</th>\n",
       "      <td>480</td>\n",
       "      <td>9601</td>\n",
       "      <td>Jurassic Park (1993)</td>\n",
       "      <td>Action|Adventure|Sci-Fi</td>\n",
       "    </tr>\n",
       "    <tr>\n",
       "      <th>1455</th>\n",
       "      <td>1617</td>\n",
       "      <td>9515</td>\n",
       "      <td>L.A. Confidential (1997)</td>\n",
       "      <td>Crime|Film-Noir|Mystery|Thriller</td>\n",
       "    </tr>\n",
       "    <tr>\n",
       "      <th>2155</th>\n",
       "      <td>2396</td>\n",
       "      <td>9503</td>\n",
       "      <td>Shakespeare in Love (1998)</td>\n",
       "      <td>Comedy|Romance</td>\n",
       "    </tr>\n",
       "    <tr>\n",
       "      <th>1419</th>\n",
       "      <td>1580</td>\n",
       "      <td>9057</td>\n",
       "      <td>Men in Black (1997)</td>\n",
       "      <td>Action|Adventure|Comedy|Sci-Fi</td>\n",
       "    </tr>\n",
       "    <tr>\n",
       "      <th>283</th>\n",
       "      <td>296</td>\n",
       "      <td>9053</td>\n",
       "      <td>Pulp Fiction (1994)</td>\n",
       "      <td>Crime|Drama</td>\n",
       "    </tr>\n",
       "    <tr>\n",
       "      <th>2734</th>\n",
       "      <td>2997</td>\n",
       "      <td>8964</td>\n",
       "      <td>Being John Malkovich (1999)</td>\n",
       "      <td>Comedy</td>\n",
       "    </tr>\n",
       "    <tr>\n",
       "      <th>1147</th>\n",
       "      <td>1265</td>\n",
       "      <td>8727</td>\n",
       "      <td>Groundhog Day (1993)</td>\n",
       "      <td>Comedy|Romance</td>\n",
       "    </tr>\n",
       "    <tr>\n",
       "      <th>1003</th>\n",
       "      <td>1097</td>\n",
       "      <td>8696</td>\n",
       "      <td>E.T. the Extra-Terrestrial (1982)</td>\n",
       "      <td>Children's|Drama|Fantasy|Sci-Fi</td>\n",
       "    </tr>\n",
       "    <tr>\n",
       "      <th>342</th>\n",
       "      <td>356</td>\n",
       "      <td>8679</td>\n",
       "      <td>Forrest Gump (1994)</td>\n",
       "      <td>Comedy|Romance|War</td>\n",
       "    </tr>\n",
       "    <tr>\n",
       "      <th>1122</th>\n",
       "      <td>1240</td>\n",
       "      <td>8571</td>\n",
       "      <td>Terminator, The (1984)</td>\n",
       "      <td>Action|Sci-Fi|Thriller</td>\n",
       "    </tr>\n",
       "    <tr>\n",
       "      <th>0</th>\n",
       "      <td>1</td>\n",
       "      <td>8475</td>\n",
       "      <td>Toy Story (1995)</td>\n",
       "      <td>Animation|Children's|Comedy</td>\n",
       "    </tr>\n",
       "    <tr>\n",
       "      <th>2462</th>\n",
       "      <td>2716</td>\n",
       "      <td>8282</td>\n",
       "      <td>Ghostbusters (1984)</td>\n",
       "      <td>Comedy|Horror</td>\n",
       "    </tr>\n",
       "    <tr>\n",
       "      <th>1098</th>\n",
       "      <td>1214</td>\n",
       "      <td>8244</td>\n",
       "      <td>Alien (1979)</td>\n",
       "      <td>Action|Horror|Sci-Fi|Thriller</td>\n",
       "    </tr>\n",
       "  </tbody>\n",
       "</table>\n",
       "</div>"
      ],
      "text/plain": [
       "      movie_id  count                                              title  \\\n",
       "2600      2858  14449                             American Beauty (1999)   \n",
       "249        260  13178          Star Wars: Episode IV - A New Hope (1977)   \n",
       "1080      1196  12648  Star Wars: Episode V - The Empire Strikes Back...   \n",
       "1810      2028  11348                         Saving Private Ryan (1998)   \n",
       "1094      1210  11303  Star Wars: Episode VI - Return of the Jedi (1983)   \n",
       "1082      1198  11179                     Raiders of the Lost Ark (1981)   \n",
       "573        593  11096                   Silence of the Lambs, The (1991)   \n",
       "2325      2571  10903                                 Matrix, The (1999)   \n",
       "2507      2762  10703                            Sixth Sense, The (1999)   \n",
       "569        589  10513                  Terminator 2: Judgment Day (1991)   \n",
       "587        608  10465                                       Fargo (1996)   \n",
       "509        527  10317                            Schindler's List (1993)   \n",
       "106        110  10125                                  Braveheart (1995)   \n",
       "305        318  10085                   Shawshank Redemption, The (1994)   \n",
       "1152      1270  10081                          Back to the Future (1985)   \n",
       "785        858   9965                              Godfather, The (1972)   \n",
       "1081      1197   9866                         Princess Bride, The (1987)   \n",
       "462        480   9601                               Jurassic Park (1993)   \n",
       "1455      1617   9515                           L.A. Confidential (1997)   \n",
       "2155      2396   9503                         Shakespeare in Love (1998)   \n",
       "1419      1580   9057                                Men in Black (1997)   \n",
       "283        296   9053                                Pulp Fiction (1994)   \n",
       "2734      2997   8964                        Being John Malkovich (1999)   \n",
       "1147      1265   8727                               Groundhog Day (1993)   \n",
       "1003      1097   8696                  E.T. the Extra-Terrestrial (1982)   \n",
       "342        356   8679                                Forrest Gump (1994)   \n",
       "1122      1240   8571                             Terminator, The (1984)   \n",
       "0            1   8475                                   Toy Story (1995)   \n",
       "2462      2716   8282                                Ghostbusters (1984)   \n",
       "1098      1214   8244                                       Alien (1979)   \n",
       "\n",
       "                                    genre  \n",
       "2600                         Comedy|Drama  \n",
       "249       Action|Adventure|Fantasy|Sci-Fi  \n",
       "1080    Action|Adventure|Drama|Sci-Fi|War  \n",
       "1810                     Action|Drama|War  \n",
       "1094  Action|Adventure|Romance|Sci-Fi|War  \n",
       "1082                     Action|Adventure  \n",
       "573                        Drama|Thriller  \n",
       "2325               Action|Sci-Fi|Thriller  \n",
       "2507                             Thriller  \n",
       "569                Action|Sci-Fi|Thriller  \n",
       "587                  Crime|Drama|Thriller  \n",
       "509                             Drama|War  \n",
       "106                      Action|Drama|War  \n",
       "305                                 Drama  \n",
       "1152                        Comedy|Sci-Fi  \n",
       "785                    Action|Crime|Drama  \n",
       "1081      Action|Adventure|Comedy|Romance  \n",
       "462               Action|Adventure|Sci-Fi  \n",
       "1455     Crime|Film-Noir|Mystery|Thriller  \n",
       "2155                       Comedy|Romance  \n",
       "1419       Action|Adventure|Comedy|Sci-Fi  \n",
       "283                           Crime|Drama  \n",
       "2734                               Comedy  \n",
       "1147                       Comedy|Romance  \n",
       "1003      Children's|Drama|Fantasy|Sci-Fi  \n",
       "342                    Comedy|Romance|War  \n",
       "1122               Action|Sci-Fi|Thriller  \n",
       "0             Animation|Children's|Comedy  \n",
       "2462                        Comedy|Horror  \n",
       "1098        Action|Horror|Sci-Fi|Thriller  "
      ]
     },
     "execution_count": 172,
     "metadata": {},
     "output_type": "execute_result"
    }
   ],
   "source": [
    "# 가장 인기 있는 영화 30개(인기순)\n",
    "# ratings에 있는 유니크한 영화 개수\n",
    "num_movie = ratings.movie_id.nunique()\n",
    "# ratings에 있는 유니크한 사용자 수\n",
    "num_user = ratings.user_id.nunique()\n",
    "\n",
    "merge_df = pd.merge(ratings, movies, on='movie_id', how='left')\n",
    "popular = merge_df.groupby('movie_id')['count'].sum().to_frame().reset_index()\n",
    "popular = pd.merge(popular, movies, on='movie_id', how='left')\n",
    "\n",
    "popular.sort_values(by='count', ascending=False)[:30]"
   ]
  },
  {
   "cell_type": "code",
   "execution_count": 173,
   "id": "turkish-andrews",
   "metadata": {},
   "outputs": [],
   "source": [
    "# title 로 movie_id 찾기\n",
    "def findId(title):\n",
    "    id = movies.loc[movies['title']==title, 'movie_id'].values\n",
    "    return id[0]"
   ]
  },
  {
   "cell_type": "code",
   "execution_count": 174,
   "id": "operating-master",
   "metadata": {},
   "outputs": [],
   "source": [
    "# movie_id 로 title 찾기\n",
    "def findTitle(id):\n",
    "    title = movies.loc[movies['movie_id']==id, 'title'].values\n",
    "    return title[0]"
   ]
  },
  {
   "cell_type": "markdown",
   "id": "apparent-conjunction",
   "metadata": {},
   "source": [
    "### 내가 선호하는 영화를 5가지 골라서 rating에 추가"
   ]
  },
  {
   "cell_type": "code",
   "execution_count": 175,
   "id": "removed-computer",
   "metadata": {},
   "outputs": [
    {
     "data": {
      "text/plain": [
       "title\n",
       "American Beauty (1999)                                   3211\n",
       "Star Wars: Episode IV - A New Hope (1977)                2910\n",
       "Star Wars: Episode V - The Empire Strikes Back (1980)    2885\n",
       "Star Wars: Episode VI - Return of the Jedi (1983)        2716\n",
       "Saving Private Ryan (1998)                               2561\n",
       "                                                         ... \n",
       "Big (1988)                                               1386\n",
       "Butch Cassidy and the Sundance Kid (1969)                1386\n",
       "Twelve Monkeys (1995)                                    1384\n",
       "Close Encounters of the Third Kind (1977)                1374\n",
       "Amadeus (1984)                                           1340\n",
       "Name: user_id, Length: 70, dtype: int64"
      ]
     },
     "execution_count": 175,
     "metadata": {},
     "output_type": "execute_result"
    }
   ],
   "source": [
    "# 내가 좋아하는 영화를 추가하기 위해 영화 데이터베이스에서 찾기\n",
    "\n",
    "# 가장 인기있는 70개 중에서 선택\n",
    "popular_movies.sort_values(ascending=False).head(70)"
   ]
  },
  {
   "cell_type": "code",
   "execution_count": 176,
   "id": "economic-justice",
   "metadata": {},
   "outputs": [
    {
     "data": {
      "text/plain": [
       "[480, 589, 356, 1036, 648]"
      ]
     },
     "execution_count": 176,
     "metadata": {},
     "output_type": "execute_result"
    }
   ],
   "source": [
    "my_favorite = ['Jurassic Park (1993)' , 'Terminator 2: Judgment Day (1991)' ,'Forrest Gump (1994)' ,'Die Hard (1988)' ,'Mission: Impossible (1996)']\n",
    "my_favorite_id = []\n",
    "for e in my_favorite:\n",
    "    my_favorite_id.append(findId(e))\n",
    "my_favorite_id"
   ]
  },
  {
   "cell_type": "code",
   "execution_count": 178,
   "id": "resistant-counter",
   "metadata": {},
   "outputs": [
    {
     "data": {
      "text/html": [
       "<div>\n",
       "<style scoped>\n",
       "    .dataframe tbody tr th:only-of-type {\n",
       "        vertical-align: middle;\n",
       "    }\n",
       "\n",
       "    .dataframe tbody tr th {\n",
       "        vertical-align: top;\n",
       "    }\n",
       "\n",
       "    .dataframe thead th {\n",
       "        text-align: right;\n",
       "    }\n",
       "</style>\n",
       "<table border=\"1\" class=\"dataframe\">\n",
       "  <thead>\n",
       "    <tr style=\"text-align: right;\">\n",
       "      <th></th>\n",
       "      <th>user_id</th>\n",
       "      <th>movie_id</th>\n",
       "      <th>count</th>\n",
       "    </tr>\n",
       "  </thead>\n",
       "  <tbody>\n",
       "    <tr>\n",
       "      <th>836473</th>\n",
       "      <td>6040</td>\n",
       "      <td>1090</td>\n",
       "      <td>3</td>\n",
       "    </tr>\n",
       "    <tr>\n",
       "      <th>836474</th>\n",
       "      <td>6040</td>\n",
       "      <td>1094</td>\n",
       "      <td>5</td>\n",
       "    </tr>\n",
       "    <tr>\n",
       "      <th>836475</th>\n",
       "      <td>6040</td>\n",
       "      <td>562</td>\n",
       "      <td>5</td>\n",
       "    </tr>\n",
       "    <tr>\n",
       "      <th>836476</th>\n",
       "      <td>6040</td>\n",
       "      <td>1096</td>\n",
       "      <td>4</td>\n",
       "    </tr>\n",
       "    <tr>\n",
       "      <th>836477</th>\n",
       "      <td>6040</td>\n",
       "      <td>1097</td>\n",
       "      <td>4</td>\n",
       "    </tr>\n",
       "    <tr>\n",
       "      <th>836478</th>\n",
       "      <td>me</td>\n",
       "      <td>480</td>\n",
       "      <td>5</td>\n",
       "    </tr>\n",
       "    <tr>\n",
       "      <th>836479</th>\n",
       "      <td>me</td>\n",
       "      <td>589</td>\n",
       "      <td>5</td>\n",
       "    </tr>\n",
       "    <tr>\n",
       "      <th>836480</th>\n",
       "      <td>me</td>\n",
       "      <td>356</td>\n",
       "      <td>5</td>\n",
       "    </tr>\n",
       "    <tr>\n",
       "      <th>836481</th>\n",
       "      <td>me</td>\n",
       "      <td>1036</td>\n",
       "      <td>5</td>\n",
       "    </tr>\n",
       "    <tr>\n",
       "      <th>836482</th>\n",
       "      <td>me</td>\n",
       "      <td>648</td>\n",
       "      <td>5</td>\n",
       "    </tr>\n",
       "  </tbody>\n",
       "</table>\n",
       "</div>"
      ],
      "text/plain": [
       "       user_id  movie_id  count\n",
       "836473    6040      1090      3\n",
       "836474    6040      1094      5\n",
       "836475    6040       562      5\n",
       "836476    6040      1096      4\n",
       "836477    6040      1097      4\n",
       "836478      me       480      5\n",
       "836479      me       589      5\n",
       "836480      me       356      5\n",
       "836481      me      1036      5\n",
       "836482      me       648      5"
      ]
     },
     "execution_count": 178,
     "metadata": {},
     "output_type": "execute_result"
    }
   ],
   "source": [
    "my_playlist = pd.DataFrame({'user_id': ['me']*5, 'movie_id': my_favorite_id, 'count':[5]*5})\n",
    "if not ratings.isin({'user_id':['me']})['user_id'].any():  \n",
    "    ratings = ratings.append(my_playlist) \n",
    "\n",
    "ratings.reset_index(inplace=True, drop=True)\n",
    "ratings.tail(10)"
   ]
  },
  {
   "cell_type": "code",
   "execution_count": 179,
   "id": "laden-landscape",
   "metadata": {},
   "outputs": [],
   "source": [
    "# 고유한 유저, 영화를 찾아내는 코드\n",
    "user_unique = ratings['user_id'].unique()\n",
    "movie_unique = ratings['movie_id'].unique()\n",
    "\n",
    "# 유저, 영화 indexing 하는 코드 idx는 index의 약자입니다.\n",
    "user_to_idx = {v:k for k,v in enumerate(user_unique)}\n",
    "movie_to_idx = {v:k for k,v in enumerate(movie_unique)}"
   ]
  },
  {
   "cell_type": "code",
   "execution_count": 182,
   "id": "controlled-float",
   "metadata": {},
   "outputs": [
    {
     "name": "stdout",
     "output_type": "stream",
     "text": [
      "6039\n",
      "107\n"
     ]
    }
   ],
   "source": [
    "# 인덱싱 확인\n",
    "print(user_to_idx['me'])    # 6038명의 유저 중 마지막으로 추가된 유저이니 6039이여아 한다 \n",
    "print(movie_to_idx[findId('Jurassic Park (1993)')])"
   ]
  },
  {
   "cell_type": "code",
   "execution_count": 183,
   "id": "classified-calendar",
   "metadata": {},
   "outputs": [
    {
     "name": "stdout",
     "output_type": "stream",
     "text": [
      "user_id indexing succes\n",
      "movie indexing succes\n"
     ]
    }
   ],
   "source": [
    "# indexing을 통해 데이터 컬럼 내 값을 바꾸는 코드\n",
    "# dictionary 자료형의 get 함수는 https://wikidocs.net/16 을 참고하세요.\n",
    "\n",
    "# user_to_idx.get을 통해 user_id 컬럼의 모든 값을 인덱싱한 Series를 구해 봅시다. \n",
    "# 혹시 정상적으로 인덱싱되지 않은 row가 있다면 인덱스가 NaN이 될 테니 dropna()로 제거합니다. \n",
    "temp_user_data = ratings['user_id'].map(user_to_idx.get).dropna()\n",
    "if len(temp_user_data) == len(ratings):\n",
    "    print('user_id indexing succes')\n",
    "    ratings['user_id'] = temp_user_data\n",
    "else:\n",
    "    print('user_id indexing fail')\n",
    "\n",
    "# movie_to_idx을 통해 title 컬럼도 동일한 방식으로 인덱싱해 줍니다. \n",
    "temp_movie_data = ratings['movie_id'].map(movie_to_idx.get).dropna()\n",
    "if len(temp_movie_data) == len(ratings):\n",
    "    print('movie indexing succes')\n",
    "    ratings['movie_id'] = temp_movie_data\n",
    "else:\n",
    "    print('movie indexing fail')"
   ]
  },
  {
   "cell_type": "markdown",
   "id": "indirect-capacity",
   "metadata": {},
   "source": [
    "### CSR matrix를 직접 만들어 봅시다"
   ]
  },
  {
   "cell_type": "code",
   "execution_count": 184,
   "id": "realistic-holder",
   "metadata": {},
   "outputs": [
    {
     "data": {
      "text/plain": [
       "<6040x3628 sparse matrix of type '<class 'numpy.longlong'>'\n",
       "\twith 836483 stored elements in Compressed Sparse Row format>"
      ]
     },
     "execution_count": 184,
     "metadata": {},
     "output_type": "execute_result"
    }
   ],
   "source": [
    "num_user = ratings['user_id'].nunique()\n",
    "num_movie = ratings['movie_id'].nunique()\n",
    "\n",
    "csr_data = csr_matrix((ratings['count'], (ratings.user_id, ratings.movie_id)), shape=(num_user, num_movie))\n",
    "csr_data"
   ]
  },
  {
   "cell_type": "markdown",
   "id": "handmade-merit",
   "metadata": {},
   "source": [
    "### als_model = AlternatingLeastSquares 모델을 직접 구성하여 훈련"
   ]
  },
  {
   "cell_type": "code",
   "execution_count": 185,
   "id": "modular-grenada",
   "metadata": {},
   "outputs": [],
   "source": [
    "# implicit 라이브러리에서 권장하고 있는 부분입니다. 학습 내용과는 무관합니다.\n",
    "os.environ['OPENBLAS_NUM_THREADS']='1'\n",
    "os.environ['KMP_DUPLICATE_LIB_OK']='True'\n",
    "os.environ['MKL_NUM_THREADS']='1'"
   ]
  },
  {
   "cell_type": "code",
   "execution_count": 186,
   "id": "third-piano",
   "metadata": {},
   "outputs": [
    {
     "data": {
      "application/vnd.jupyter.widget-view+json": {
       "model_id": "35ab128af43e4436ae6af72becc5b7e1",
       "version_major": 2,
       "version_minor": 0
      },
      "text/plain": [
       "  0%|          | 0/5 [00:00<?, ?it/s]"
      ]
     },
     "metadata": {},
     "output_type": "display_data"
    }
   ],
   "source": [
    "# Implicit AlternatingLeastSquares 모델의 선언\n",
    "als_model = AlternatingLeastSquares(factors=100, regularization=0.01, use_gpu=False, iterations=5, dtype=np.float32)\n",
    "\n",
    "# als 모델은 input으로 (item X user 꼴의 matrix를 받기 때문에 Transpose해줍니다.)\n",
    "csr_data_transpose = csr_data.T\n",
    "csr_data_transpose\n",
    "\n",
    "# 모델 훈련\n",
    "als_model.fit(csr_data_transpose)"
   ]
  },
  {
   "cell_type": "markdown",
   "id": "reasonable-night",
   "metadata": {},
   "source": [
    "### 내가 선호하는 5가지 영화 중 하나와 그 외의 영화 하나를 골라 훈련된 모델이 예측한 나의 선호도를 파악"
   ]
  },
  {
   "cell_type": "code",
   "execution_count": 196,
   "id": "opponent-outreach",
   "metadata": {},
   "outputs": [
    {
     "name": "stdout",
     "output_type": "stream",
     "text": [
      "0.6767865\n"
     ]
    }
   ],
   "source": [
    "# 내가 선호하는 영화\n",
    "me, jurassic_park = user_to_idx['me'], movie_to_idx[findId('Jurassic Park (1993)')]\n",
    "me_vector, jurassic_park_vector = als_model.user_factors[me], als_model.item_factors[jurassic_park]\n",
    "\n",
    "# me과 jurassic_park를 내적\n",
    "print(np.dot(me_vector, jurassic_park_vector))"
   ]
  },
  {
   "cell_type": "code",
   "execution_count": 197,
   "id": "twelve-impact",
   "metadata": {},
   "outputs": [
    {
     "name": "stdout",
     "output_type": "stream",
     "text": [
      "0.064954974\n"
     ]
    }
   ],
   "source": [
    "# 내가 선호하지 않는 영화\n",
    "me, american_beauty = user_to_idx['me'], movie_to_idx[findId('American Beauty (1999)')]\n",
    "me_vector, american_beauty_vector = als_model.user_factors[me], als_model.item_factors[american_beauty]\n",
    "\n",
    "# me과 american_beauty를 내적\n",
    "print(np.dot(me_vector, american_beauty_vector))"
   ]
  },
  {
   "cell_type": "markdown",
   "id": "pediatric-technical",
   "metadata": {},
   "source": [
    "### 내가 좋아하는 영화와 비슷한 영화를 추천"
   ]
  },
  {
   "cell_type": "code",
   "execution_count": 200,
   "id": "coastal-lucas",
   "metadata": {},
   "outputs": [
    {
     "data": {
      "text/plain": [
       "[('Muppet Treasure Island (1996)', 1.0),\n",
       " ('Kids (1995)', 0.83986074),\n",
       " ('Mary Reilly (1996)', 0.7586105),\n",
       " (\"Mr. Holland's Opus (1995)\", 0.66902196),\n",
       " (\"Antonia's Line (Antonia) (1995)\", 0.60271215),\n",
       " (\"Star Maker, The (Uomo delle stelle, L') (1995)\", 0.57837313),\n",
       " ('Postino, Il (The Postman) (1994)', 0.57640284),\n",
       " ('Bad Boys (1995)', 0.5022491),\n",
       " ('Birdcage, The (1996)', 0.49437332),\n",
       " ('Neon Bible, The (1995)', 0.49049452),\n",
       " ('Hudsucker Proxy, The (1994)', 0.47617492),\n",
       " ('Dunston Checks In (1996)', 0.4745544),\n",
       " ('Judgment Night (1993)', 0.47270435),\n",
       " ('Big Bully (1996)', 0.47044325),\n",
       " ('Striking Distance (1993)', 0.4695934)]"
      ]
     },
     "execution_count": 200,
     "metadata": {},
     "output_type": "execute_result"
    }
   ],
   "source": [
    "favorite_movie_id = findId('Jurassic Park (1993)')\n",
    "movie_id = movie_to_idx[favorite_movie_id]\n",
    "similar_movie_id = als_model.similar_items(movie_id, N=15)\n",
    "similar_movie = []\n",
    "for e in similar_movie_id:\n",
    "    similar_movie.append((findTitle(e[0]), e[1]))\n",
    "similar_movie "
   ]
  },
  {
   "cell_type": "markdown",
   "id": "promising-cocktail",
   "metadata": {},
   "source": [
    "### 내가 가장 좋아할 만한 영화들을 추천"
   ]
  },
  {
   "cell_type": "code",
   "execution_count": 201,
   "id": "domestic-parameter",
   "metadata": {},
   "outputs": [
    {
     "data": {
      "text/plain": [
       "[('Kids (1995)', 0.46823898),\n",
       " (\"Mr. Holland's Opus (1995)\", 0.40197235),\n",
       " ('Birdcage, The (1996)', 0.4011376),\n",
       " (\"Star Maker, The (Uomo delle stelle, L') (1995)\", 0.36892685),\n",
       " ('Tie That Binds, The (1995)', 0.36882907),\n",
       " ('Big Bully (1996)', 0.34779865),\n",
       " (\"Antonia's Line (Antonia) (1995)\", 0.2937768),\n",
       " ('Race the Sun (1996)', 0.286111),\n",
       " ('Johnny Mnemonic (1995)', 0.25616395),\n",
       " ('Dunston Checks In (1996)', 0.255159),\n",
       " ('French Kiss (1995)', 0.24417776),\n",
       " ('Copycat (1995)', 0.23878554),\n",
       " ('Mortal Kombat (1995)', 0.23864885),\n",
       " ('Cutthroat Island (1995)', 0.23755932),\n",
       " ('Two if by Sea (1996)', 0.23381609),\n",
       " ('It Takes Two (1995)', 0.22977525),\n",
       " ('Pocahontas (1995)', 0.21887803),\n",
       " (\"Young Poisoner's Handbook, The (1995)\", 0.20432085),\n",
       " ('Indian in the Cupboard, The (1995)', 0.19113736),\n",
       " ('Underground (1995)', 0.19103009)]"
      ]
     },
     "execution_count": 201,
     "metadata": {},
     "output_type": "execute_result"
    }
   ],
   "source": [
    "user = user_to_idx['me']\n",
    "\n",
    "movie_recommended_id = als_model.recommend(user, csr_data, N=20, filter_already_liked_items=True)\n",
    "movie_recommended = []\n",
    "for e in movie_recommended_id:\n",
    "    movie_recommended.append((findTitle(e[0]), e[1]))\n",
    "movie_recommended"
   ]
  },
  {
   "cell_type": "markdown",
   "id": "dietary-split",
   "metadata": {},
   "source": [
    "## 회고\n",
    "- 이번 프로젝트에서 어려웠던 점\n",
    "    - 추천 모델을 처음 접하게 되면서 CSR의 특징을 파악하는데 많은 시간이 걸렸다.\n",
    "- 프로젝트를 진행하면서 알아낸 점 혹은 아직 모호한 점\n",
    "    - 어느 정도 이해는 됐지만, 추천 기능을 업그레이드하는데는 어려움이 많을 것 같다.\n",
    "- 자기 다짐\n",
    "    - 새로운 것을 계속 배우면서 점점 쌓는 방식으로 해야겠다."
   ]
  },
  {
   "cell_type": "code",
   "execution_count": null,
   "id": "speaking-barrel",
   "metadata": {},
   "outputs": [],
   "source": []
  }
 ],
 "metadata": {
  "kernelspec": {
   "display_name": "Python 3",
   "language": "python",
   "name": "python3"
  },
  "language_info": {
   "codemirror_mode": {
    "name": "ipython",
    "version": 3
   },
   "file_extension": ".py",
   "mimetype": "text/x-python",
   "name": "python",
   "nbconvert_exporter": "python",
   "pygments_lexer": "ipython3",
   "version": "3.7.9"
  }
 },
 "nbformat": 4,
 "nbformat_minor": 5
}
