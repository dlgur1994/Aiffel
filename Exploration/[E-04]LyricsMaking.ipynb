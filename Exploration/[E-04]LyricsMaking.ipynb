{
 "cells": [
  {
   "cell_type": "code",
   "execution_count": 1,
   "id": "geological-chick",
   "metadata": {},
   "outputs": [],
   "source": [
    "import glob\n",
    "import os\n",
    "import re\n",
    "import tensorflow as tf\n",
    "from sklearn.model_selection import train_test_split"
   ]
  },
  {
   "cell_type": "code",
   "execution_count": 2,
   "id": "collective-palestine",
   "metadata": {},
   "outputs": [],
   "source": [
    "# 문장 전처리\n",
    "# 1. 소문자로 변환, 양쪽 공백을 제거\n",
    "# 2. 특수문자 양쪽에 공백 추가\n",
    "# 3. 여러개의 공백은 하나의 공백으로 변환\n",
    "# 4. a-zA-Z?.!,¿가 아닌 모든 문자를 하나의 공백으로 변환\n",
    "# 5. 양쪽 공백 제거\n",
    "# 6. 문장 시작에는 <start>, 끝에는 <end>를 추가\n",
    "def preprocess_sentence(sentence):\n",
    "    sentence = sentence.lower().strip() # 1\n",
    "    sentence = re.sub(r\"([?.!,¿])\", r\" \\1 \", sentence) # 2\n",
    "    sentence = re.sub(r'[\" \"]+', \" \", sentence) # 3\n",
    "    sentence = re.sub(r\"[^a-zA-Z?.!,¿]+\", \" \", sentence) # 4\n",
    "    sentence = sentence.strip() # 5\n",
    "    sentence = '<start> ' + sentence + ' <end>' # 6\n",
    "    return sentence"
   ]
  },
  {
   "cell_type": "code",
   "execution_count": 3,
   "id": "related-floating",
   "metadata": {},
   "outputs": [],
   "source": [
    "# 문장 토큰화\n",
    "def tokenize(corpus):\n",
    "    # 12000단어의 tokenizer 제작\n",
    "    # 12000단어에 포함되지 못한 단어는 '<unk>'로 변환\n",
    "    tokenizer = tf.keras.preprocessing.text.Tokenizer(\n",
    "        num_words = 17000, \n",
    "        filters = ' ',\n",
    "        oov_token = \"<unk>\"\n",
    "    )\n",
    "    tokenizer.fit_on_texts(corpus)\n",
    "    tensor = tokenizer.texts_to_sequences(corpus)   \n",
    "    tensor = tf.keras.preprocessing.sequence.pad_sequences(tensor, padding='post')    \n",
    "    return tensor, tokenizer"
   ]
  },
  {
   "cell_type": "code",
   "execution_count": 4,
   "id": "buried-smile",
   "metadata": {},
   "outputs": [],
   "source": [
    "# 모델 정의\n",
    "class TextGenerator(tf.keras.Model):\n",
    "    def __init__(self, vocab_size, embedding_size, hidden_size):\n",
    "        super().__init__()\n",
    "        \n",
    "        self.embedding = tf.keras.layers.Embedding(vocab_size, embedding_size)\n",
    "        self.rnn_1 = tf.keras.layers.LSTM(hidden_size, return_sequences=True)\n",
    "        self.rnn_2 = tf.keras.layers.LSTM(hidden_size, return_sequences=True)\n",
    "        self.linear = tf.keras.layers.Dense(vocab_size)\n",
    "        \n",
    "    def call(self, x):\n",
    "        out = self.embedding(x)\n",
    "        out = self.rnn_1(out)\n",
    "        out = self.rnn_2(out)\n",
    "        out = self.linear(out)\n",
    "        \n",
    "        return out"
   ]
  },
  {
   "cell_type": "code",
   "execution_count": 5,
   "id": "disabled-helena",
   "metadata": {},
   "outputs": [],
   "source": [
    "# 문장 생성\n",
    "def generate_text(model, tokenizer, init_sentence=\"<start>\", max_len=20):\n",
    "    test_input = tokenizer.texts_to_sequences([init_sentence])\n",
    "    test_tensor = tf.convert_to_tensor(test_input, dtype=tf.int64)\n",
    "    end_token = tokenizer.word_index[\"<end>\"]\n",
    "\n",
    "    # 1. 입력받은 문장의 텐서를 입력\n",
    "    # 2. 예측된 값 중 가장 높은 확률인 word index를 추출\n",
    "    # 3. 2에서 예측된 word index를 문장 뒤에 추가\n",
    "    # 4. 모델이 <end>를 예측했거나, max_len에 도달했다면 문장 생성 종료\n",
    "    while True:\n",
    "        # 1\n",
    "        predict = model(test_tensor) \n",
    "        # 2\n",
    "        predict_word = tf.argmax(tf.nn.softmax(predict, axis=-1), axis=-1)[:, -1] \n",
    "        # 3 \n",
    "        test_tensor = tf.concat([test_tensor, tf.expand_dims(predict_word, axis=0)], axis=-1)\n",
    "        # 4\n",
    "        if predict_word.numpy()[0] == end_token: break\n",
    "        if test_tensor.shape[1] >= max_len: break\n",
    "\n",
    "    generated = \"\"\n",
    "    # tokenizer를 이용해 word index를 단어로 하나씩 변환\n",
    "    for word_index in test_tensor[0].numpy():\n",
    "        generated += tokenizer.index_word[word_index] + \" \"\n",
    "\n",
    "    return generated"
   ]
  },
  {
   "cell_type": "code",
   "execution_count": 6,
   "id": "suited-asian",
   "metadata": {},
   "outputs": [],
   "source": [
    "# file load\n",
    "txt_file_path = os.getenv('HOME')+'/aiffel/Exploration/4_LyricsMaking/lyricist/data/lyrics/*'\n",
    "txt_list = glob.glob(txt_file_path)"
   ]
  },
  {
   "cell_type": "code",
   "execution_count": 7,
   "id": "pregnant-strength",
   "metadata": {},
   "outputs": [],
   "source": [
    "# raw_corpus에 txt 파일 저장\n",
    "raw_corpus = []\n",
    "for txt_file in txt_list:\n",
    "    with open(txt_file, \"r\") as f:\n",
    "        raw = f.read().splitlines()\n",
    "        raw_corpus.extend(raw)\n",
    "\n",
    "# print(\"데이터 크기:\", len(raw_corpus))\n",
    "# print(\"Examples:\\n\", raw_corpus[:3])"
   ]
  },
  {
   "cell_type": "code",
   "execution_count": 8,
   "id": "relative-bargain",
   "metadata": {},
   "outputs": [],
   "source": [
    "# 문장 전처리\n",
    "corpus = []\n",
    "for sentence in raw_corpus:\n",
    "    if len(sentence)==0:\n",
    "        continue\n",
    "    # 토큰 갯수가 15개 초과되면 제외\n",
    "    if len(set(sentence.split(' '))) > 15:\n",
    "        continue\n",
    "    preprocessed_sentence = preprocess_sentence(sentence)\n",
    "    corpus.append(preprocessed_sentence)\n",
    "        \n",
    "# print(corpus[:10])\n",
    "# print(len(corpus))\n",
    "\n",
    "# 문장 토큰화\n",
    "tensor, tokenizer = tokenize(corpus)\n",
    "# print(tensor,tokenizer)\n",
    "# print(tensor[:3, :10])\n",
    "# for idx in tokenizer.index_word:\n",
    "#     print(idx, \":\", tokenizer.index_word[idx])\n",
    "#     if idx >= 10: break"
   ]
  },
  {
   "cell_type": "code",
   "execution_count": 9,
   "id": "attached-shore",
   "metadata": {},
   "outputs": [],
   "source": [
    "# input 생성\n",
    "src_input = tensor[:, :-1]\n",
    "tgt_input = tensor[:, 1:]    \n",
    "# print(src_input[0])\n",
    "# print(tgt_input[0])"
   ]
  },
  {
   "cell_type": "code",
   "execution_count": 10,
   "id": "basic-premiere",
   "metadata": {},
   "outputs": [],
   "source": [
    "# 데이터셋 객체 생성\n",
    "BUFFER_SIZE = len(src_input)\n",
    "BATCH_SIZE = 256\n",
    "steps_per_epoch = BUFFER_SIZE // BATCH_SIZE\n",
    "VOCAB_SIZE = tokenizer.num_words + 1 # tokenizer가 구축한 단어사전 12000개와, 여기 포함되지 않은 0:<pad>를 포함하여 12001개\n",
    "\n",
    "dataset = tf.data.Dataset.from_tensor_slices((src_input, tgt_input))\n",
    "dataset = dataset.shuffle(BUFFER_SIZE)\n",
    "# dataset = dataset.batch(BATCH_SIZE, drop_remainder=True)\n",
    "# dataset"
   ]
  },
  {
   "cell_type": "code",
   "execution_count": 11,
   "id": "union-seller",
   "metadata": {},
   "outputs": [],
   "source": [
    "# train set과 validation set 나누기\n",
    "embedding_size = 256\n",
    "hidden_size = 1024\n",
    "model = TextGenerator(VOCAB_SIZE, embedding_size , hidden_size)\n",
    "train_size = int(0.8 * len(dataset))\n",
    "train_dataset = dataset.take(train_size).batch(BATCH_SIZE, drop_remainder=True)\n",
    "val_dataset = dataset.skip(train_size).batch(BATCH_SIZE, drop_remainder=True)"
   ]
  },
  {
   "cell_type": "code",
   "execution_count": 13,
   "id": "overhead-romania",
   "metadata": {},
   "outputs": [
    {
     "name": "stdout",
     "output_type": "stream",
     "text": [
      "Epoch 1/8\n",
      "535/535 [==============================] - 865s 2s/step - loss: 0.8872 - val_loss: 0.8026\n",
      "Epoch 2/8\n",
      "535/535 [==============================] - 876s 2s/step - loss: 0.7913 - val_loss: 0.7463\n",
      "Epoch 3/8\n",
      "535/535 [==============================] - 878s 2s/step - loss: 0.7389 - val_loss: 0.6975\n",
      "Epoch 4/8\n",
      "535/535 [==============================] - 877s 2s/step - loss: 0.6913 - val_loss: 0.6579\n",
      "Epoch 5/8\n",
      "535/535 [==============================] - 877s 2s/step - loss: 0.6508 - val_loss: 0.6164\n",
      "Epoch 6/8\n",
      "535/535 [==============================] - 877s 2s/step - loss: 0.6181 - val_loss: 0.5839\n",
      "Epoch 7/8\n",
      "535/535 [==============================] - 877s 2s/step - loss: 0.5869 - val_loss: 0.5564\n",
      "Epoch 8/8\n",
      "535/535 [==============================] - 877s 2s/step - loss: 0.5588 - val_loss: 0.5322\n",
      "Model: \"text_generator\"\n",
      "_________________________________________________________________\n",
      "Layer (type)                 Output Shape              Param #   \n",
      "=================================================================\n",
      "embedding (Embedding)        multiple                  4352256   \n",
      "_________________________________________________________________\n",
      "lstm (LSTM)                  multiple                  5246976   \n",
      "_________________________________________________________________\n",
      "lstm_1 (LSTM)                multiple                  8392704   \n",
      "_________________________________________________________________\n",
      "dense (Dense)                multiple                  17426025  \n",
      "=================================================================\n",
      "Total params: 35,417,961\n",
      "Trainable params: 35,417,961\n",
      "Non-trainable params: 0\n",
      "_________________________________________________________________\n"
     ]
    }
   ],
   "source": [
    "# 학습\n",
    "optimizer = tf.keras.optimizers.Adam()\n",
    "loss = tf.keras.losses.SparseCategoricalCrossentropy(from_logits=True, reduction='none')\n",
    "model.compile(loss=loss, optimizer=optimizer)\n",
    "model.fit(train_dataset, epochs=8, validation_data=val_dataset)\n",
    "model.summary()"
   ]
  },
  {
   "cell_type": "code",
   "execution_count": 16,
   "id": "satisfied-temperature",
   "metadata": {},
   "outputs": [
    {
     "data": {
      "text/plain": [
       "'<start> i love you so much , i love you so much , i love you so much , i '"
      ]
     },
     "execution_count": 16,
     "metadata": {},
     "output_type": "execute_result"
    }
   ],
   "source": [
    "# 문장 생성\n",
    "generate_text(model, tokenizer, init_sentence=\"<start> i love\", max_len=20)"
   ]
  },
  {
   "cell_type": "markdown",
   "id": "still-compromise",
   "metadata": {},
   "source": [
    "# 회고\n",
    "이번 프로젝트에서 어려웠던 점<br/>\n",
    "우선 학습 시간이 너무 길어서 다양한 조작을 시도해보기 어려웠고, tf.data.Dataset을 처음 접해봐서 dataset을 편집하는데 많은 시간이 걸렸다.\n",
    "\n",
    "프로젝트를 진행하면서 알아낸 점 혹은 아직 모호한 점<br/>\n",
    "LSTM이 어떤 구조로 학습을 진행하는지 아직 이해를 못했다.\n",
    "\n",
    "자기 다짐<br/>\n",
    "LSTM의 내부 구조에 대해 좀 더 알아봐야겠다"
   ]
  }
 ],
 "metadata": {
  "kernelspec": {
   "display_name": "Python 3",
   "language": "python",
   "name": "python3"
  },
  "language_info": {
   "codemirror_mode": {
    "name": "ipython",
    "version": 3
   },
   "file_extension": ".py",
   "mimetype": "text/x-python",
   "name": "python",
   "nbconvert_exporter": "python",
   "pygments_lexer": "ipython3",
   "version": "3.7.9"
  }
 },
 "nbformat": 4,
 "nbformat_minor": 5
}
