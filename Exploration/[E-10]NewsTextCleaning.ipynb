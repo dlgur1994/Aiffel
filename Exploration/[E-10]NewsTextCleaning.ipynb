{
 "cells": [
  {
   "cell_type": "markdown",
   "id": "partial-relations",
   "metadata": {},
   "source": [
    "## Step 0. 라이브러리 불러오기"
   ]
  },
  {
   "cell_type": "code",
   "execution_count": 4,
   "id": "running-dynamics",
   "metadata": {},
   "outputs": [
    {
     "name": "stderr",
     "output_type": "stream",
     "text": [
      "[nltk_data] Downloading package stopwords to /aiffel/nltk_data...\n",
      "[nltk_data]   Package stopwords is already up-to-date!\n"
     ]
    }
   ],
   "source": [
    "import nltk\n",
    "nltk.download('stopwords')\n",
    "\n",
    "import numpy as np\n",
    "import pandas as pd\n",
    "import os\n",
    "import re\n",
    "import matplotlib.pyplot as plt\n",
    "from nltk.corpus import stopwords\n",
    "from bs4 import BeautifulSoup \n",
    "from tensorflow.keras.preprocessing.text import Tokenizer \n",
    "from tensorflow.keras.preprocessing.sequence import pad_sequences\n",
    "import urllib.request\n",
    "\n",
    "import multiprocessing as mp   # 멀티 프로세싱\n",
    "from multiprocessing import Pool\n",
    "import numpy as np\n",
    "import time\n",
    "from functools import partial  # map을 할 때 함수에 여러 인자를 넣도록"
   ]
  },
  {
   "cell_type": "markdown",
   "id": "technological-amazon",
   "metadata": {},
   "source": [
    "## Step 1. 데이터 수집하기"
   ]
  },
  {
   "cell_type": "code",
   "execution_count": 139,
   "id": "green-catalog",
   "metadata": {},
   "outputs": [],
   "source": [
    "urllib.request.urlretrieve(\"https://raw.githubusercontent.com/sunnysai12345/News_Summary/master/news_summary_more.csv\", filename=\"news_summary_more.csv\")\n",
    "data = pd.read_csv('news_summary_more.csv', encoding='iso-8859-1')"
   ]
  },
  {
   "cell_type": "code",
   "execution_count": 140,
   "id": "elect-travel",
   "metadata": {},
   "outputs": [
    {
     "data": {
      "text/html": [
       "<div>\n",
       "<style scoped>\n",
       "    .dataframe tbody tr th:only-of-type {\n",
       "        vertical-align: middle;\n",
       "    }\n",
       "\n",
       "    .dataframe tbody tr th {\n",
       "        vertical-align: top;\n",
       "    }\n",
       "\n",
       "    .dataframe thead th {\n",
       "        text-align: right;\n",
       "    }\n",
       "</style>\n",
       "<table border=\"1\" class=\"dataframe\">\n",
       "  <thead>\n",
       "    <tr style=\"text-align: right;\">\n",
       "      <th></th>\n",
       "      <th>headlines</th>\n",
       "      <th>text</th>\n",
       "    </tr>\n",
       "  </thead>\n",
       "  <tbody>\n",
       "    <tr>\n",
       "      <th>10120</th>\n",
       "      <td>Artistes' association expels Alok Nath followi...</td>\n",
       "      <td>The Cine and TV Artistes' Association (CINTAA)...</td>\n",
       "    </tr>\n",
       "    <tr>\n",
       "      <th>63038</th>\n",
       "      <td>TN better prepared to handle heavy rains than ...</td>\n",
       "      <td>Tamil Nadu's Municipal Administration Minister...</td>\n",
       "    </tr>\n",
       "    <tr>\n",
       "      <th>63798</th>\n",
       "      <td>BJP claims Donald Trump won after using PM Mod...</td>\n",
       "      <td>Addressing a gathering in Himachal Pradesh for...</td>\n",
       "    </tr>\n",
       "    <tr>\n",
       "      <th>75786</th>\n",
       "      <td>ISIS used eBay, PayPal to channel money to US:...</td>\n",
       "      <td>The Islamic State used PayPal and fake eBay tr...</td>\n",
       "    </tr>\n",
       "    <tr>\n",
       "      <th>85221</th>\n",
       "      <td>SRK's 1997 Paris doodle to be sold for Ã¢ÂÂ¹2...</td>\n",
       "      <td>A doodle made by Shah Rukh Khan from his 1997 ...</td>\n",
       "    </tr>\n",
       "    <tr>\n",
       "      <th>34461</th>\n",
       "      <td>Alibaba buys Chinese chipmaker for internet-li...</td>\n",
       "      <td>Jack Ma-led Alibaba has bought Chinese chipmak...</td>\n",
       "    </tr>\n",
       "    <tr>\n",
       "      <th>98192</th>\n",
       "      <td>Cricketers Ian, Greg Chappell ask Adani to qui...</td>\n",
       "      <td>Cricket legends Ian and Greg Chappell are amon...</td>\n",
       "    </tr>\n",
       "    <tr>\n",
       "      <th>35833</th>\n",
       "      <td>Andhra CM Naidu compares NDA government to 'Br...</td>\n",
       "      <td>Interacting with TDP leaders, Andhra Pradesh C...</td>\n",
       "    </tr>\n",
       "    <tr>\n",
       "      <th>16932</th>\n",
       "      <td>My wife didn't want me to do kissing scenes: A...</td>\n",
       "      <td>Actor Ayushmann Khurrana has revealed that his...</td>\n",
       "    </tr>\n",
       "    <tr>\n",
       "      <th>92955</th>\n",
       "      <td>Birds sing shorter songs in response to traffi...</td>\n",
       "      <td>Birds sing shorter songs in response to traffi...</td>\n",
       "    </tr>\n",
       "  </tbody>\n",
       "</table>\n",
       "</div>"
      ],
      "text/plain": [
       "                                               headlines  \\\n",
       "10120  Artistes' association expels Alok Nath followi...   \n",
       "63038  TN better prepared to handle heavy rains than ...   \n",
       "63798  BJP claims Donald Trump won after using PM Mod...   \n",
       "75786  ISIS used eBay, PayPal to channel money to US:...   \n",
       "85221  SRK's 1997 Paris doodle to be sold for Ã¢ÂÂ¹2...   \n",
       "34461  Alibaba buys Chinese chipmaker for internet-li...   \n",
       "98192  Cricketers Ian, Greg Chappell ask Adani to qui...   \n",
       "35833  Andhra CM Naidu compares NDA government to 'Br...   \n",
       "16932  My wife didn't want me to do kissing scenes: A...   \n",
       "92955  Birds sing shorter songs in response to traffi...   \n",
       "\n",
       "                                                    text  \n",
       "10120  The Cine and TV Artistes' Association (CINTAA)...  \n",
       "63038  Tamil Nadu's Municipal Administration Minister...  \n",
       "63798  Addressing a gathering in Himachal Pradesh for...  \n",
       "75786  The Islamic State used PayPal and fake eBay tr...  \n",
       "85221  A doodle made by Shah Rukh Khan from his 1997 ...  \n",
       "34461  Jack Ma-led Alibaba has bought Chinese chipmak...  \n",
       "98192  Cricket legends Ian and Greg Chappell are amon...  \n",
       "35833  Interacting with TDP leaders, Andhra Pradesh C...  \n",
       "16932  Actor Ayushmann Khurrana has revealed that his...  \n",
       "92955  Birds sing shorter songs in response to traffi...  "
      ]
     },
     "execution_count": 140,
     "metadata": {},
     "output_type": "execute_result"
    }
   ],
   "source": [
    "data.sample(10)"
   ]
  },
  {
   "cell_type": "markdown",
   "id": "novel-intellectual",
   "metadata": {},
   "source": [
    "## Step 2. 데이터 전처리하기 (추상적 요약)"
   ]
  },
  {
   "cell_type": "code",
   "execution_count": 7,
   "id": "utility-delay",
   "metadata": {},
   "outputs": [
    {
     "name": "stdout",
     "output_type": "stream",
     "text": [
      "98401\n"
     ]
    }
   ],
   "source": [
    "# 데이터 총 갯수 확인\n",
    "print(len(data))"
   ]
  },
  {
   "cell_type": "code",
   "execution_count": 8,
   "id": "cleared-coverage",
   "metadata": {},
   "outputs": [
    {
     "name": "stdout",
     "output_type": "stream",
     "text": [
      "Text 열에서 중복을 배제한 유일한 샘플의 수 : 98280\n",
      "Summary 열에서 중복을 배제한 유일한 샘플의 수 : 98360\n"
     ]
    }
   ],
   "source": [
    "# 중복 샘플 유무를 확인\n",
    "print('Text 열에서 중복을 배제한 유일한 샘플의 수 :', data['headlines'].nunique())\n",
    "print('Summary 열에서 중복을 배제한 유일한 샘플의 수 :', data['text'].nunique())"
   ]
  },
  {
   "cell_type": "code",
   "execution_count": 9,
   "id": "reverse-first",
   "metadata": {},
   "outputs": [
    {
     "name": "stdout",
     "output_type": "stream",
     "text": [
      "전체 샘플수 : 98360\n"
     ]
    }
   ],
   "source": [
    "# 중복 샘플 제거\n",
    "data.drop_duplicates(subset = ['text'], inplace=True)\n",
    "print('전체 샘플수 :', (len(data)))"
   ]
  },
  {
   "cell_type": "code",
   "execution_count": 10,
   "id": "assisted-basis",
   "metadata": {},
   "outputs": [
    {
     "name": "stdout",
     "output_type": "stream",
     "text": [
      "headlines    0\n",
      "text         0\n",
      "dtype: int64\n"
     ]
    }
   ],
   "source": [
    "# null 값 유무 확인\n",
    "print(data.isnull().sum())"
   ]
  },
  {
   "cell_type": "code",
   "execution_count": 11,
   "id": "angry-viking",
   "metadata": {},
   "outputs": [
    {
     "name": "stdout",
     "output_type": "stream",
     "text": [
      "정규화 사전의 수:  120\n"
     ]
    }
   ],
   "source": [
    "# 정규화 사전 만들기\n",
    "contractions = {\"ain't\": \"is not\", \"aren't\": \"are not\",\"can't\": \"cannot\", \"'cause\": \"because\", \"could've\": \"could have\", \"couldn't\": \"could not\",\n",
    "                           \"didn't\": \"did not\",  \"doesn't\": \"does not\", \"don't\": \"do not\", \"hadn't\": \"had not\", \"hasn't\": \"has not\", \"haven't\": \"have not\",\n",
    "                           \"he'd\": \"he would\",\"he'll\": \"he will\", \"he's\": \"he is\", \"how'd\": \"how did\", \"how'd'y\": \"how do you\", \"how'll\": \"how will\", \"how's\": \"how is\",\n",
    "                           \"I'd\": \"I would\", \"I'd've\": \"I would have\", \"I'll\": \"I will\", \"I'll've\": \"I will have\",\"I'm\": \"I am\", \"I've\": \"I have\", \"i'd\": \"i would\",\n",
    "                           \"i'd've\": \"i would have\", \"i'll\": \"i will\",  \"i'll've\": \"i will have\",\"i'm\": \"i am\", \"i've\": \"i have\", \"isn't\": \"is not\", \"it'd\": \"it would\",\n",
    "                           \"it'd've\": \"it would have\", \"it'll\": \"it will\", \"it'll've\": \"it will have\",\"it's\": \"it is\", \"let's\": \"let us\", \"ma'am\": \"madam\",\n",
    "                           \"mayn't\": \"may not\", \"might've\": \"might have\",\"mightn't\": \"might not\",\"mightn't've\": \"might not have\", \"must've\": \"must have\",\n",
    "                           \"mustn't\": \"must not\", \"mustn't've\": \"must not have\", \"needn't\": \"need not\", \"needn't've\": \"need not have\",\"o'clock\": \"of the clock\",\n",
    "                           \"oughtn't\": \"ought not\", \"oughtn't've\": \"ought not have\", \"shan't\": \"shall not\", \"sha'n't\": \"shall not\", \"shan't've\": \"shall not have\",\n",
    "                           \"she'd\": \"she would\", \"she'd've\": \"she would have\", \"she'll\": \"she will\", \"she'll've\": \"she will have\", \"she's\": \"she is\",\n",
    "                           \"should've\": \"should have\", \"shouldn't\": \"should not\", \"shouldn't've\": \"should not have\", \"so've\": \"so have\",\"so's\": \"so as\",\n",
    "                           \"this's\": \"this is\",\"that'd\": \"that would\", \"that'd've\": \"that would have\", \"that's\": \"that is\", \"there'd\": \"there would\",\n",
    "                           \"there'd've\": \"there would have\", \"there's\": \"there is\", \"here's\": \"here is\",\"they'd\": \"they would\", \"they'd've\": \"they would have\",\n",
    "                           \"they'll\": \"they will\", \"they'll've\": \"they will have\", \"they're\": \"they are\", \"they've\": \"they have\", \"to've\": \"to have\",\n",
    "                           \"wasn't\": \"was not\", \"we'd\": \"we would\", \"we'd've\": \"we would have\", \"we'll\": \"we will\", \"we'll've\": \"we will have\", \"we're\": \"we are\",\n",
    "                           \"we've\": \"we have\", \"weren't\": \"were not\", \"what'll\": \"what will\", \"what'll've\": \"what will have\", \"what're\": \"what are\",\n",
    "                           \"what's\": \"what is\", \"what've\": \"what have\", \"when's\": \"when is\", \"when've\": \"when have\", \"where'd\": \"where did\", \"where's\": \"where is\",\n",
    "                           \"where've\": \"where have\", \"who'll\": \"who will\", \"who'll've\": \"who will have\", \"who's\": \"who is\", \"who've\": \"who have\",\n",
    "                           \"why's\": \"why is\", \"why've\": \"why have\", \"will've\": \"will have\", \"won't\": \"will not\", \"won't've\": \"will not have\",\n",
    "                           \"would've\": \"would have\", \"wouldn't\": \"would not\", \"wouldn't've\": \"would not have\", \"y'all\": \"you all\",\n",
    "                           \"y'all'd\": \"you all would\",\"y'all'd've\": \"you all would have\",\"y'all're\": \"you all are\",\"y'all've\": \"you all have\",\n",
    "                           \"you'd\": \"you would\", \"you'd've\": \"you would have\", \"you'll\": \"you will\", \"you'll've\": \"you will have\",\n",
    "                           \"you're\": \"you are\", \"you've\": \"you have\"}\n",
    "\n",
    "print(\"정규화 사전의 수: \", len(contractions))"
   ]
  },
  {
   "cell_type": "code",
   "execution_count": 12,
   "id": "competent-italic",
   "metadata": {},
   "outputs": [],
   "source": [
    "# 데이터 전처리 함수\n",
    "def preprocess_sentence(sentence, remove_stopwords=True):\n",
    "    sentence = sentence.lower() # 텍스트 소문자화\n",
    "    sentence = BeautifulSoup(sentence, \"lxml\").text # <br />, <a href = ...> 등의 html 태그 제거\n",
    "    sentence = re.sub(r'\\([^)]*\\)', '', sentence) # 괄호로 닫힌 문자열 (...) 제거 Ex) my husband (and myself!) for => my husband for\n",
    "    sentence = re.sub('\"','', sentence) # 쌍따옴표 \" 제거\n",
    "    sentence = ' '.join([contractions[t] if t in contractions else t for t in sentence.split(\" \")]) # 약어 정규화\n",
    "    sentence = re.sub(r\"'s\\b\",\"\", sentence) # 소유격 제거. Ex) roland's -> roland\n",
    "    sentence = re.sub(\"[^a-zA-Z]\", \" \", sentence) # 영어 외 문자(숫자, 특수문자 등) 공백으로 변환\n",
    "    sentence = re.sub('[m]{2,}', 'mm', sentence) # m이 3개 이상이면 2개로 변경. Ex) ummmmmmm yeah -> umm yeah\n",
    "    \n",
    "    # 불용어 제거 (Text)\n",
    "    if remove_stopwords:\n",
    "        tokens = ' '.join(word for word in sentence.split() if not word in stopwords.words('english') if len(word) > 1)\n",
    "    # 불용어 미제거 (Summary)\n",
    "    else:\n",
    "        tokens = ' '.join(word for word in sentence.split() if len(word) > 1)\n",
    "    return tokens"
   ]
  },
  {
   "cell_type": "code",
   "execution_count": 13,
   "id": "suspected-incidence",
   "metadata": {},
   "outputs": [
    {
     "name": "stdout",
     "output_type": "stream",
     "text": [
      "183.33729529380798  seconds\n",
      "['saurav kant alumnus upgrad iiit pg program machine learning artificial intelligence sr systems engineer infosys almost years work experience program upgrad degree career support helped transition data scientist tech mahindra salary hike upgrad online power learning powered lakh careers'\n",
      " 'kunal shah credit card bill payment platform cred gave users chance win free food swiggy one year pranav kaushik delhi techie bagged reward spending cred coins users get one cred coin per rupee bill paid used avail rewards brands like ixigo bookmyshow ubereats cult fit'\n",
      " 'new zealand defeated india wickets fourth odi hamilton thursday win first match five match odi series india lost international match rohit sharma captaincy consecutive victories dating back march match witnessed india getting seventh lowest total odi cricket history'\n",
      " ...\n",
      " 'according reports new version science fiction film matrix development michael jordan reportedly play lead role film screenwriter zak penn talks write script film reports added actor keanu reeves starred original film followed two sequels'\n",
      " 'new music video shows rapper snoop dogg aiming toy gun clown character parodying us president donald trump video also shows tv airing news conference headline ronald klump wants deport doggs airing live clown house video remixed version song lavender'\n",
      " 'madhesi morcha alliance seven political parties withdrawn support pm pushpa kamal dahal led nepal government failed meet seven day ultimatum fulfil demands including endorsement revised constitution amendment bill morcha seats parliament despite withdrawal support immediate threat government']\n",
      "5.928539991378784  seconds\n",
      "['upgrad learner switches to career in ml al with salary hike'\n",
      " 'delhi techie wins free food from swiggy for one year on cred'\n",
      " 'new zealand end rohit sharma led india match winning streak' ...\n",
      " 'the matrix film to get reboot reports'\n",
      " 'snoop dogg aims gun at clown dressed as trump in new video'\n",
      " 'madhesi morcha withdraws support to nepalese government']\n"
     ]
    }
   ],
   "source": [
    "# 멀티 프로세싱 이용한 clean 텍스트 만들기\n",
    "start = time.time()\n",
    "\n",
    "# num_cores 만큼 쪼개진 데이터를 전처리하여 반환합니다\n",
    "def appendTexts(sentences, remove_stopwords):\n",
    "  texts = []\n",
    "  for s in sentences:\n",
    "    texts += preprocess_sentence(s, remove_stopwords),\n",
    "  return texts\n",
    "\n",
    "def preprocess_data(data, remove_stopwords=True):\n",
    "  start_time = time.time()\n",
    "  num_cores = mp.cpu_count()  # 컴퓨터의 코어 수를 구합니다\n",
    "\n",
    "  text_data_split = np.array_split(data, num_cores)  # 코어 수만큼 데이터를 배분하여 병렬적으로 처리할 수 있게 합니다\n",
    "  pool = Pool(num_cores)\n",
    "\n",
    "  processed_data = np.concatenate(pool.map(partial(appendTexts, remove_stopwords=remove_stopwords), text_data_split))  # 각자 작업한 데이터를 하나로 합쳐줍니다\n",
    "  pool.close()\n",
    "  pool.join()\n",
    "  print(time.time() - start_time, \" seconds\")\n",
    "  return processed_data\n",
    "\n",
    "clean_text = preprocess_data(data['text'])  \n",
    "print(clean_text)\n",
    "\n",
    "clean_summary = preprocess_data(data['headlines'], remove_stopwords=False)\n",
    "print(clean_summary)"
   ]
  },
  {
   "cell_type": "code",
   "execution_count": 14,
   "id": "honey-education",
   "metadata": {},
   "outputs": [],
   "source": [
    "# 텍스트 cleaning 적용\n",
    "data['text'] = clean_text\n",
    "data['headlines'] = clean_summary\n",
    "\n",
    "# 빈 값을 Null 값으로 변환\n",
    "data.replace('', np.nan, inplace=True)"
   ]
  },
  {
   "cell_type": "code",
   "execution_count": 15,
   "id": "powered-electric",
   "metadata": {},
   "outputs": [
    {
     "data": {
      "text/plain": [
       "headlines    0\n",
       "text         0\n",
       "dtype: int64"
      ]
     },
     "execution_count": 15,
     "metadata": {},
     "output_type": "execute_result"
    }
   ],
   "source": [
    "# null 값 생성유무 확인\n",
    "data.isnull().sum()"
   ]
  },
  {
   "cell_type": "markdown",
   "id": "medical-wright",
   "metadata": {},
   "source": [
    "### 샘플의 최대길이 정하기"
   ]
  },
  {
   "cell_type": "code",
   "execution_count": 16,
   "id": "reasonable-aluminum",
   "metadata": {},
   "outputs": [
    {
     "name": "stdout",
     "output_type": "stream",
     "text": [
      "텍스트의 최소 길이 : 1\n",
      "텍스트의 최대 길이 : 60\n",
      "텍스트의 평균 길이 : 35.09968483123221\n",
      "헤드라인의 최소 길이 : 1\n",
      "헤드라인의 최대 길이 : 16\n",
      "헤드라인의 평균 길이 : 9.299532330215534\n"
     ]
    },
    {
     "data": {
      "image/png": "[encoded data removed]",
      "text/plain": [
       "<Figure size 432x288 with 2 Axes>"
      ]
     },
     "metadata": {
      "needs_background": "light"
     },
     "output_type": "display_data"
    },
    {
     "data": {
      "image/png": "[encoded data removed]",
      "text/plain": [
       "<Figure size 432x288 with 1 Axes>"
      ]
     },
     "metadata": {
      "needs_background": "light"
     },
     "output_type": "display_data"
    },
    {
     "data": {
      "image/png": "[encoded data removed]",
      "text/plain": [
       "<Figure size 432x288 with 1 Axes>"
      ]
     },
     "metadata": {
      "needs_background": "light"
     },
     "output_type": "display_data"
    }
   ],
   "source": [
    "# 길이 분포 출력\n",
    "import matplotlib.pyplot as plt\n",
    "\n",
    "text_len = [len(s.split()) for s in data['text']]\n",
    "headlines_len = [len(s.split()) for s in data['headlines']]\n",
    "\n",
    "print('텍스트의 최소 길이 : {}'.format(np.min(text_len)))\n",
    "print('텍스트의 최대 길이 : {}'.format(np.max(text_len)))\n",
    "print('텍스트의 평균 길이 : {}'.format(np.mean(text_len)))\n",
    "print('헤드라인의 최소 길이 : {}'.format(np.min(headlines_len)))\n",
    "print('헤드라인의 최대 길이 : {}'.format(np.max(headlines_len)))\n",
    "print('헤드라인의 평균 길이 : {}'.format(np.mean(headlines_len)))\n",
    "\n",
    "plt.subplot(1,2,1)\n",
    "plt.boxplot(headlines_len)\n",
    "plt.title('headlines')\n",
    "plt.subplot(1,2,2)\n",
    "plt.boxplot(text_len)\n",
    "plt.title('text')\n",
    "plt.tight_layout()\n",
    "plt.show()\n",
    "\n",
    "plt.title('headlines')\n",
    "plt.hist(headlines_len, bins = 40)\n",
    "plt.xlabel('length of samples')\n",
    "plt.ylabel('number of samples')\n",
    "plt.show()\n",
    "\n",
    "plt.title('text')\n",
    "plt.hist(text_len, bins = 40)\n",
    "plt.xlabel('length of samples')\n",
    "plt.ylabel('number of samples')\n",
    "plt.show()"
   ]
  },
  {
   "cell_type": "code",
   "execution_count": 17,
   "id": "improving-tennis",
   "metadata": {},
   "outputs": [],
   "source": [
    "# text와 headline 최대길이 설정\n",
    "text_max_len = 41\n",
    "headlines_max_len = 12"
   ]
  },
  {
   "cell_type": "code",
   "execution_count": 18,
   "id": "weekly-pizza",
   "metadata": {},
   "outputs": [],
   "source": [
    "# 전체 샘플 중 길이가 %s 이하인 샘플의 비율 구하는 함수 정의\n",
    "def below_threshold_len(max_len, nested_list):\n",
    "  cnt = 0\n",
    "  for s in nested_list:\n",
    "    if(len(s.split()) <= max_len):\n",
    "        cnt = cnt + 1\n",
    "  print('전체 샘플 중 길이가 %s 이하인 샘플의 비율: %s'%(max_len, (cnt / len(nested_list))))"
   ]
  },
  {
   "cell_type": "code",
   "execution_count": 19,
   "id": "wrapped-gates",
   "metadata": {},
   "outputs": [
    {
     "name": "stdout",
     "output_type": "stream",
     "text": [
      "전체 샘플 중 길이가 41 이하인 샘플의 비율: 0.9549613664091094\n",
      "전체 샘플 중 길이가 12 이하인 샘플의 비율: 0.9880337535583571\n"
     ]
    }
   ],
   "source": [
    "# 전체 샘플 중 길이가 %s 이하인 샘플의 비율\n",
    "below_threshold_len(text_max_len, data['text'])\n",
    "below_threshold_len(headlines_max_len,  data['headlines'])"
   ]
  },
  {
   "cell_type": "code",
   "execution_count": 20,
   "id": "hired-mounting",
   "metadata": {},
   "outputs": [
    {
     "name": "stdout",
     "output_type": "stream",
     "text": [
      "전체 샘플수 : 92800\n"
     ]
    }
   ],
   "source": [
    "# 정해진 길이보다 길면 데이터 제외\n",
    "data = data[data['text'].apply(lambda x: len(x.split()) <= text_max_len)]\n",
    "data = data[data['headlines'].apply(lambda x: len(x.split()) <= headlines_max_len)]\n",
    "print('전체 샘플수 :', (len(data)))"
   ]
  },
  {
   "cell_type": "markdown",
   "id": "beginning-influence",
   "metadata": {},
   "source": [
    "### 시작 토큰과 종료 토큰 추가하기"
   ]
  },
  {
   "cell_type": "code",
   "execution_count": 21,
   "id": "forced-redhead",
   "metadata": {},
   "outputs": [
    {
     "data": {
      "text/html": [
       "<div>\n",
       "<style scoped>\n",
       "    .dataframe tbody tr th:only-of-type {\n",
       "        vertical-align: middle;\n",
       "    }\n",
       "\n",
       "    .dataframe tbody tr th {\n",
       "        vertical-align: top;\n",
       "    }\n",
       "\n",
       "    .dataframe thead th {\n",
       "        text-align: right;\n",
       "    }\n",
       "</style>\n",
       "<table border=\"1\" class=\"dataframe\">\n",
       "  <thead>\n",
       "    <tr style=\"text-align: right;\">\n",
       "      <th></th>\n",
       "      <th>headlines</th>\n",
       "      <th>text</th>\n",
       "      <th>decoder_input</th>\n",
       "      <th>decoder_target</th>\n",
       "    </tr>\n",
       "  </thead>\n",
       "  <tbody>\n",
       "    <tr>\n",
       "      <th>0</th>\n",
       "      <td>upgrad learner switches to career in ml al wit...</td>\n",
       "      <td>saurav kant alumnus upgrad iiit pg program mac...</td>\n",
       "      <td>sostoken upgrad learner switches to career in ...</td>\n",
       "      <td>upgrad learner switches to career in ml al wit...</td>\n",
       "    </tr>\n",
       "    <tr>\n",
       "      <th>2</th>\n",
       "      <td>new zealand end rohit sharma led india match w...</td>\n",
       "      <td>new zealand defeated india wickets fourth odi ...</td>\n",
       "      <td>sostoken new zealand end rohit sharma led indi...</td>\n",
       "      <td>new zealand end rohit sharma led india match w...</td>\n",
       "    </tr>\n",
       "    <tr>\n",
       "      <th>3</th>\n",
       "      <td>aegon life iterm insurance plan helps customer...</td>\n",
       "      <td>aegon life iterm insurance plan customers enjo...</td>\n",
       "      <td>sostoken aegon life iterm insurance plan helps...</td>\n",
       "      <td>aegon life iterm insurance plan helps customer...</td>\n",
       "    </tr>\n",
       "    <tr>\n",
       "      <th>5</th>\n",
       "      <td>rahat fateh ali khan denies getting notice for...</td>\n",
       "      <td>pakistani singer rahat fateh ali khan denied r...</td>\n",
       "      <td>sostoken rahat fateh ali khan denies getting n...</td>\n",
       "      <td>rahat fateh ali khan denies getting notice for...</td>\n",
       "    </tr>\n",
       "    <tr>\n",
       "      <th>6</th>\n",
       "      <td>india get all out for their lowest odi total i...</td>\n",
       "      <td>india recorded lowest odi total new zealand ge...</td>\n",
       "      <td>sostoken india get all out for their lowest od...</td>\n",
       "      <td>india get all out for their lowest odi total i...</td>\n",
       "    </tr>\n",
       "  </tbody>\n",
       "</table>\n",
       "</div>"
      ],
      "text/plain": [
       "                                           headlines  \\\n",
       "0  upgrad learner switches to career in ml al wit...   \n",
       "2  new zealand end rohit sharma led india match w...   \n",
       "3  aegon life iterm insurance plan helps customer...   \n",
       "5  rahat fateh ali khan denies getting notice for...   \n",
       "6  india get all out for their lowest odi total i...   \n",
       "\n",
       "                                                text  \\\n",
       "0  saurav kant alumnus upgrad iiit pg program mac...   \n",
       "2  new zealand defeated india wickets fourth odi ...   \n",
       "3  aegon life iterm insurance plan customers enjo...   \n",
       "5  pakistani singer rahat fateh ali khan denied r...   \n",
       "6  india recorded lowest odi total new zealand ge...   \n",
       "\n",
       "                                       decoder_input  \\\n",
       "0  sostoken upgrad learner switches to career in ...   \n",
       "2  sostoken new zealand end rohit sharma led indi...   \n",
       "3  sostoken aegon life iterm insurance plan helps...   \n",
       "5  sostoken rahat fateh ali khan denies getting n...   \n",
       "6  sostoken india get all out for their lowest od...   \n",
       "\n",
       "                                      decoder_target  \n",
       "0  upgrad learner switches to career in ml al wit...  \n",
       "2  new zealand end rohit sharma led india match w...  \n",
       "3  aegon life iterm insurance plan helps customer...  \n",
       "5  rahat fateh ali khan denies getting notice for...  \n",
       "6  india get all out for their lowest odi total i...  "
      ]
     },
     "execution_count": 21,
     "metadata": {},
     "output_type": "execute_result"
    }
   ],
   "source": [
    "# 헤드라인 데이터에는 시작 토큰과 종료 토큰을 추가한다.\n",
    "data['decoder_input'] = data['headlines'].apply(lambda x : 'sostoken '+ x)\n",
    "data['decoder_target'] = data['headlines'].apply(lambda x : x + ' eostoken')\n",
    "data.head()"
   ]
  },
  {
   "cell_type": "code",
   "execution_count": 22,
   "id": "japanese-artwork",
   "metadata": {},
   "outputs": [],
   "source": [
    "# 인코더의 입력, 디코더의 입력과 레이블을 각각 다시 Numpy 타입으로 저장\n",
    "encoder_input = np.array(data['text']) # 인코더의 입력\n",
    "decoder_input = np.array(data['decoder_input']) # 디코더의 입력\n",
    "decoder_target = np.array(data['decoder_target']) # 디코더의 레이블"
   ]
  },
  {
   "cell_type": "code",
   "execution_count": 23,
   "id": "biblical-diving",
   "metadata": {},
   "outputs": [
    {
     "name": "stdout",
     "output_type": "stream",
     "text": [
      "[29611 83000 46106 ...    16  6130 45002]\n"
     ]
    }
   ],
   "source": [
    "# encoder_input과 크기와 형태가 같은 순서가 섞인 정수 시퀀스 생성\n",
    "indices = np.arange(encoder_input.shape[0])\n",
    "np.random.shuffle(indices)\n",
    "print(indices)"
   ]
  },
  {
   "cell_type": "code",
   "execution_count": 24,
   "id": "blessed-metro",
   "metadata": {},
   "outputs": [],
   "source": [
    "# 데이터의 샘플 순서를 재정의\n",
    "encoder_input = encoder_input[indices]\n",
    "decoder_input = decoder_input[indices]\n",
    "decoder_target = decoder_target[indices]"
   ]
  },
  {
   "cell_type": "code",
   "execution_count": 25,
   "id": "weighted-olive",
   "metadata": {},
   "outputs": [
    {
     "name": "stdout",
     "output_type": "stream",
     "text": [
      "훈련 데이터의 개수 : 74240\n",
      "훈련 레이블의 개수 : 74240\n",
      "테스트 데이터의 개수 : 18560\n",
      "테스트 레이블의 개수 : 18560\n"
     ]
    }
   ],
   "source": [
    "# 훈련 데이터와 테스트 데이터로 분리\n",
    "n_of_val = int(len(encoder_input)*0.2)\n",
    "\n",
    "encoder_input_train = encoder_input[:-n_of_val]\n",
    "decoder_input_train = decoder_input[:-n_of_val]\n",
    "decoder_target_train = decoder_target[:-n_of_val]\n",
    "\n",
    "encoder_input_test = encoder_input[-n_of_val:]\n",
    "decoder_input_test = decoder_input[-n_of_val:]\n",
    "decoder_target_test = decoder_target[-n_of_val:]\n",
    "\n",
    "print('훈련 데이터의 개수 :', len(encoder_input_train))\n",
    "print('훈련 레이블의 개수 :', len(decoder_input_train))\n",
    "print('테스트 데이터의 개수 :', len(encoder_input_test))\n",
    "print('테스트 레이블의 개수 :', len(decoder_input_test))"
   ]
  },
  {
   "cell_type": "markdown",
   "id": "brief-smooth",
   "metadata": {},
   "source": [
    "### 정수 인코딩"
   ]
  },
  {
   "cell_type": "code",
   "execution_count": 26,
   "id": "passive-crystal",
   "metadata": {},
   "outputs": [],
   "source": [
    "# 토크나이저 사용\n",
    "src_tokenizer = Tokenizer() # 토크나이저 정의\n",
    "src_tokenizer.fit_on_texts(encoder_input_train) # 입력된 데이터로부터 단어 집합 생성"
   ]
  },
  {
   "cell_type": "code",
   "execution_count": 27,
   "id": "continental-acting",
   "metadata": {},
   "outputs": [
    {
     "name": "stdout",
     "output_type": "stream",
     "text": [
      "단어 집합(vocabulary)의 크기 : 66975\n",
      "등장 빈도가 6번 이하인 희귀 단어의 수: 45593\n",
      "단어 집합에서 희귀 단어를 제외시킬 경우의 단어 집합의 크기 21382\n",
      "단어 집합에서 희귀 단어의 비율: 68.07465472191116\n",
      "전체 등장 빈도에서 희귀 단어 등장 빈도 비율: 3.5835781016014883\n"
     ]
    }
   ],
   "source": [
    "threshold = 7\n",
    "total_cnt = len(src_tokenizer.word_index) # 단어의 수\n",
    "rare_cnt = 0 # 등장 빈도수가 threshold보다 작은 단어의 개수를 카운트\n",
    "total_freq = 0 # 훈련 데이터의 전체 단어 빈도수 총 합\n",
    "rare_freq = 0 # 등장 빈도수가 threshold보다 작은 단어의 등장 빈도수의 총 합\n",
    "\n",
    "# 단어와 빈도수의 쌍(pair)을 key와 value로 받는다.\n",
    "for key, value in src_tokenizer.word_counts.items():\n",
    "    total_freq = total_freq + value\n",
    "\n",
    "    # 단어의 등장 빈도수가 threshold보다 작으면\n",
    "    if(value < threshold):\n",
    "        rare_cnt = rare_cnt + 1\n",
    "        rare_freq = rare_freq + value\n",
    "\n",
    "print('단어 집합(vocabulary)의 크기 :', total_cnt)\n",
    "print('등장 빈도가 %s번 이하인 희귀 단어의 수: %s'%(threshold - 1, rare_cnt))\n",
    "print('단어 집합에서 희귀 단어를 제외시킬 경우의 단어 집합의 크기 %s'%(total_cnt - rare_cnt))\n",
    "print(\"단어 집합에서 희귀 단어의 비율:\", (rare_cnt / total_cnt)*100)\n",
    "print(\"전체 등장 빈도에서 희귀 단어 등장 빈도 비율:\", (rare_freq / total_freq)*100)"
   ]
  },
  {
   "cell_type": "code",
   "execution_count": 28,
   "id": "elementary-principle",
   "metadata": {},
   "outputs": [],
   "source": [
    "# 단어 집합의 크기 제한\n",
    "src_vocab = 20000\n",
    "src_tokenizer = Tokenizer(num_words=src_vocab) # 단어 집합의 크기를 20,000으로 제한\n",
    "src_tokenizer.fit_on_texts(encoder_input_train) # 단어 집합 재생성."
   ]
  },
  {
   "cell_type": "code",
   "execution_count": 29,
   "id": "accompanied-devices",
   "metadata": {},
   "outputs": [
    {
     "name": "stdout",
     "output_type": "stream",
     "text": [
      "[[1209, 3187, 256, 1969, 2612, 176, 14, 1, 2613, 24, 1903, 4848, 4539, 27, 5970, 12418, 67, 1, 1209, 1969, 1001, 115, 2539, 403, 115, 684, 4578, 529, 4], [77, 1260, 1315, 75, 474, 1400, 1857, 562, 525, 721, 2062, 3322, 3, 13, 77, 1, 310, 797, 2777, 427, 180, 4579, 2154, 1315, 113, 1, 294, 1287], [155, 15, 116, 52, 948, 1763, 7041, 200, 1130, 600, 15, 1959, 1475, 323, 4499, 422, 15, 1685, 4357, 86, 53, 52, 620, 948, 2807, 2313, 152, 237, 2, 2604, 7361, 374, 1728, 5044, 3747, 140, 2070, 25, 1074]]\n"
     ]
    }
   ],
   "source": [
    "# 텍스트 시퀀스를 정수 시퀀스로 변환\n",
    "encoder_input_train = src_tokenizer.texts_to_sequences(encoder_input_train) \n",
    "encoder_input_test = src_tokenizer.texts_to_sequences(encoder_input_test)\n",
    "\n",
    "# 잘 진행되었는지 샘플 출력\n",
    "print(encoder_input_train[:3])"
   ]
  },
  {
   "cell_type": "code",
   "execution_count": 30,
   "id": "speaking-design",
   "metadata": {},
   "outputs": [],
   "source": [
    "# 타켓에도 토크나이저 사용\n",
    "tar_tokenizer = Tokenizer()\n",
    "tar_tokenizer.fit_on_texts(decoder_input_train)"
   ]
  },
  {
   "cell_type": "code",
   "execution_count": 31,
   "id": "personalized-democracy",
   "metadata": {},
   "outputs": [
    {
     "name": "stdout",
     "output_type": "stream",
     "text": [
      "단어 집합(vocabulary)의 크기 : 29184\n",
      "등장 빈도가 5번 이하인 희귀 단어의 수: 19086\n",
      "단어 집합에서 희귀 단어를 제외시킬 경우의 단어 집합의 크기 10098\n",
      "단어 집합에서 희귀 단어의 비율: 65.39884868421053\n",
      "전체 등장 빈도에서 희귀 단어 등장 빈도 비율: 4.816481230497684\n"
     ]
    }
   ],
   "source": [
    "threshold = 6\n",
    "total_cnt = len(tar_tokenizer.word_index) # 단어의 수\n",
    "rare_cnt = 0 # 등장 빈도수가 threshold보다 작은 단어의 개수를 카운트\n",
    "total_freq = 0 # 훈련 데이터의 전체 단어 빈도수 총 합\n",
    "rare_freq = 0 # 등장 빈도수가 threshold보다 작은 단어의 등장 빈도수의 총 합\n",
    "\n",
    "# 단어와 빈도수의 쌍(pair)을 key와 value로 받는다.\n",
    "for key, value in tar_tokenizer.word_counts.items():\n",
    "    total_freq = total_freq + value\n",
    "\n",
    "    # 단어의 등장 빈도수가 threshold보다 작으면\n",
    "    if(value < threshold):\n",
    "        rare_cnt = rare_cnt + 1\n",
    "        rare_freq = rare_freq + value\n",
    "\n",
    "print('단어 집합(vocabulary)의 크기 :', total_cnt)\n",
    "print('등장 빈도가 %s번 이하인 희귀 단어의 수: %s'%(threshold - 1, rare_cnt))\n",
    "print('단어 집합에서 희귀 단어를 제외시킬 경우의 단어 집합의 크기 %s'%(total_cnt - rare_cnt))\n",
    "print(\"단어 집합에서 희귀 단어의 비율:\", (rare_cnt / total_cnt)*100)\n",
    "print(\"전체 등장 빈도에서 희귀 단어 등장 빈도 비율:\", (rare_freq / total_freq)*100)"
   ]
  },
  {
   "cell_type": "code",
   "execution_count": 32,
   "id": "limited-terminal",
   "metadata": {},
   "outputs": [
    {
     "name": "stdout",
     "output_type": "stream",
     "text": [
      "input\n",
      "input  [[1, 49, 1941, 24, 21, 4, 511, 5681, 693, 7, 57, 8, 1107], [1, 31, 918, 1356, 91, 534, 994, 625, 1720, 2034, 573], [1, 22, 42, 849, 694, 8512, 1065], [1, 28, 763, 15, 242, 2701, 14, 519, 1159], [1, 58, 152, 7, 15, 3, 334, 5682, 4674]]\n",
      "target\n",
      "decoder  [[49, 1941, 24, 21, 4, 511, 5681, 693, 7, 57, 8, 1107, 2], [31, 918, 1356, 91, 534, 994, 625, 1720, 2034, 573, 2], [22, 42, 849, 694, 8512, 1065, 2], [28, 763, 15, 242, 2701, 14, 519, 1159, 2], [58, 152, 7, 15, 3, 334, 5682, 4674, 2]]\n"
     ]
    }
   ],
   "source": [
    "tar_vocab = 10000\n",
    "tar_tokenizer = Tokenizer(num_words=tar_vocab) \n",
    "tar_tokenizer.fit_on_texts(decoder_input_train)\n",
    "tar_tokenizer.fit_on_texts(decoder_target_train)\n",
    "\n",
    "# 텍스트 시퀀스를 정수 시퀀스로 변환\n",
    "decoder_input_train = tar_tokenizer.texts_to_sequences(decoder_input_train) \n",
    "decoder_target_train = tar_tokenizer.texts_to_sequences(decoder_target_train)\n",
    "decoder_input_test = tar_tokenizer.texts_to_sequences(decoder_input_test)\n",
    "decoder_target_test = tar_tokenizer.texts_to_sequences(decoder_target_test)\n",
    "\n",
    "# 잘 변환되었는지 확인\n",
    "print('input')\n",
    "print('input ',decoder_input_train[:5])\n",
    "print('target')\n",
    "print('decoder ',decoder_target_train[:5])"
   ]
  },
  {
   "cell_type": "code",
   "execution_count": 33,
   "id": "digital-tanzania",
   "metadata": {},
   "outputs": [
    {
     "name": "stdout",
     "output_type": "stream",
     "text": [
      "삭제할 훈련 데이터의 개수 : 0\n",
      "삭제할 테스트 데이터의 개수 : 1\n",
      "훈련 데이터의 개수 : 74240\n",
      "훈련 레이블의 개수 : 74240\n",
      "테스트 데이터의 개수 : 18559\n",
      "테스트 레이블의 개수 : 18559\n"
     ]
    }
   ],
   "source": [
    "# 빈 데이터 제거\n",
    "drop_train = [index for index, sentence in enumerate(decoder_input_train) if len(sentence) == 1]\n",
    "drop_test = [index for index, sentence in enumerate(decoder_input_test) if len(sentence) == 1]\n",
    "\n",
    "print('삭제할 훈련 데이터의 개수 :', len(drop_train))\n",
    "print('삭제할 테스트 데이터의 개수 :', len(drop_test))\n",
    "\n",
    "encoder_input_train = np.delete(encoder_input_train, drop_train, axis=0)\n",
    "decoder_input_train = np.delete(decoder_input_train, drop_train, axis=0)\n",
    "decoder_target_train = np.delete(decoder_target_train, drop_train, axis=0)\n",
    "\n",
    "encoder_input_test = np.delete(encoder_input_test, drop_test, axis=0)\n",
    "decoder_input_test = np.delete(decoder_input_test, drop_test, axis=0)\n",
    "decoder_target_test = np.delete(decoder_target_test, drop_test, axis=0)\n",
    "\n",
    "print('훈련 데이터의 개수 :', len(encoder_input_train))\n",
    "print('훈련 레이블의 개수 :', len(decoder_input_train))\n",
    "print('테스트 데이터의 개수 :', len(encoder_input_test))\n",
    "print('테스트 레이블의 개수 :', len(decoder_input_test))"
   ]
  },
  {
   "cell_type": "code",
   "execution_count": 34,
   "id": "tamil-jordan",
   "metadata": {},
   "outputs": [],
   "source": [
    "# 패딩하기\n",
    "encoder_input_train = pad_sequences(encoder_input_train, maxlen=text_max_len, padding='post')\n",
    "encoder_input_test = pad_sequences(encoder_input_test, maxlen=text_max_len, padding='post')\n",
    "decoder_input_train = pad_sequences(decoder_input_train, maxlen=headlines_max_len, padding='post')\n",
    "decoder_target_train = pad_sequences(decoder_target_train, maxlen=headlines_max_len, padding='post')\n",
    "decoder_input_test = pad_sequences(decoder_input_test, maxlen=headlines_max_len, padding='post')\n",
    "decoder_target_test = pad_sequences(decoder_target_test, maxlen=headlines_max_len, padding='post')"
   ]
  },
  {
   "cell_type": "markdown",
   "id": "worth-cleaning",
   "metadata": {},
   "source": [
    "## Step 3. 어텐션 메커니즘 사용하기 (추상적 요약)"
   ]
  },
  {
   "cell_type": "code",
   "execution_count": 37,
   "id": "elementary-convenience",
   "metadata": {},
   "outputs": [
    {
     "name": "stdout",
     "output_type": "stream",
     "text": [
      "WARNING:tensorflow:Layer lstm will not use cuDNN kernel since it doesn't meet the cuDNN kernel criteria. It will use generic GPU kernel as fallback when running on GPU\n",
      "WARNING:tensorflow:Layer lstm_1 will not use cuDNN kernel since it doesn't meet the cuDNN kernel criteria. It will use generic GPU kernel as fallback when running on GPU\n",
      "WARNING:tensorflow:Layer lstm_2 will not use cuDNN kernel since it doesn't meet the cuDNN kernel criteria. It will use generic GPU kernel as fallback when running on GPU\n"
     ]
    }
   ],
   "source": [
    "from tensorflow.keras.layers import Input, LSTM, Embedding, Dense, Concatenate\n",
    "from tensorflow.keras.models import Model\n",
    "from tensorflow.keras.callbacks import EarlyStopping, ModelCheckpoint\n",
    "\n",
    "\n",
    "# 인코더 설계 시작\n",
    "embedding_dim = 128\n",
    "hidden_size = 256\n",
    "\n",
    "# 인코더\n",
    "encoder_inputs = Input(shape=(text_max_len,))\n",
    "\n",
    "# 인코더의 임베딩 층\n",
    "enc_emb = Embedding(src_vocab, embedding_dim)(encoder_inputs)\n",
    "\n",
    "# 인코더의 LSTM 1\n",
    "encoder_lstm1 = LSTM(hidden_size, return_sequences=True, return_state=True ,dropout = 0.4, recurrent_dropout = 0.4)\n",
    "encoder_output1, state_h1, state_c1 = encoder_lstm1(enc_emb)\n",
    "\n",
    "# 인코더의 LSTM 2\n",
    "encoder_lstm2 = LSTM(hidden_size, return_sequences=True, return_state=True, dropout=0.4, recurrent_dropout=0.4)\n",
    "encoder_output2, state_h2, state_c2 = encoder_lstm2(encoder_output1)\n",
    "\n",
    "# 인코더의 LSTM 3\n",
    "encoder_lstm3 = LSTM(hidden_size, return_state=True, return_sequences=True, dropout=0.4, recurrent_dropout=0.4)\n",
    "encoder_outputs, state_h, state_c= encoder_lstm3(encoder_output2)"
   ]
  },
  {
   "cell_type": "code",
   "execution_count": 38,
   "id": "marked-toolbox",
   "metadata": {},
   "outputs": [
    {
     "name": "stdout",
     "output_type": "stream",
     "text": [
      "WARNING:tensorflow:Layer lstm_3 will not use cuDNN kernel since it doesn't meet the cuDNN kernel criteria. It will use generic GPU kernel as fallback when running on GPU\n"
     ]
    }
   ],
   "source": [
    "# 디코더 설계\n",
    "decoder_inputs = Input(shape=(None,))\n",
    "\n",
    "# 디코더의 임베딩 층\n",
    "dec_emb_layer = Embedding(tar_vocab, embedding_dim)\n",
    "dec_emb = dec_emb_layer(decoder_inputs)\n",
    "\n",
    "# 디코더의 LSTM\n",
    "decoder_lstm = LSTM(hidden_size, return_sequences=True, return_state=True, dropout=0.4, recurrent_dropout=0.2)\n",
    "decoder_outputs, _, _ = decoder_lstm(dec_emb, initial_state=[state_h, state_c])"
   ]
  },
  {
   "cell_type": "code",
   "execution_count": 39,
   "id": "human-transportation",
   "metadata": {},
   "outputs": [
    {
     "name": "stdout",
     "output_type": "stream",
     "text": [
      "Model: \"model\"\n",
      "__________________________________________________________________________________________________\n",
      "Layer (type)                    Output Shape         Param #     Connected to                     \n",
      "==================================================================================================\n",
      "input_1 (InputLayer)            [(None, 41)]         0                                            \n",
      "__________________________________________________________________________________________________\n",
      "embedding (Embedding)           (None, 41, 128)      2560000     input_1[0][0]                    \n",
      "__________________________________________________________________________________________________\n",
      "lstm (LSTM)                     [(None, 41, 256), (N 394240      embedding[0][0]                  \n",
      "__________________________________________________________________________________________________\n",
      "input_2 (InputLayer)            [(None, None)]       0                                            \n",
      "__________________________________________________________________________________________________\n",
      "lstm_1 (LSTM)                   [(None, 41, 256), (N 525312      lstm[0][0]                       \n",
      "__________________________________________________________________________________________________\n",
      "embedding_1 (Embedding)         (None, None, 128)    1280000     input_2[0][0]                    \n",
      "__________________________________________________________________________________________________\n",
      "lstm_2 (LSTM)                   [(None, 41, 256), (N 525312      lstm_1[0][0]                     \n",
      "__________________________________________________________________________________________________\n",
      "lstm_3 (LSTM)                   [(None, None, 256),  394240      embedding_1[0][0]                \n",
      "                                                                 lstm_2[0][1]                     \n",
      "                                                                 lstm_2[0][2]                     \n",
      "__________________________________________________________________________________________________\n",
      "dense (Dense)                   (None, None, 10000)  2570000     lstm_3[0][0]                     \n",
      "==================================================================================================\n",
      "Total params: 8,249,104\n",
      "Trainable params: 8,249,104\n",
      "Non-trainable params: 0\n",
      "__________________________________________________________________________________________________\n"
     ]
    }
   ],
   "source": [
    "# 디코더의 출력층\n",
    "decoder_softmax_layer = Dense(tar_vocab, activation='softmax')\n",
    "decoder_softmax_outputs = decoder_softmax_layer(decoder_outputs) \n",
    "\n",
    "# 모델 정의\n",
    "model = Model([encoder_inputs, decoder_inputs], decoder_softmax_outputs)\n",
    "model.summary()"
   ]
  },
  {
   "cell_type": "code",
   "execution_count": 40,
   "id": "former-latter",
   "metadata": {},
   "outputs": [],
   "source": [
    "# 어텐션 매커니즘\n",
    "urllib.request.urlretrieve(\"https://raw.githubusercontent.com/thushv89/attention_keras/master/src/layers/attention.py\", filename=\"attention.py\")\n",
    "from attention import AttentionLayer"
   ]
  },
  {
   "cell_type": "code",
   "execution_count": 41,
   "id": "shared-nashville",
   "metadata": {},
   "outputs": [
    {
     "name": "stdout",
     "output_type": "stream",
     "text": [
      "Model: \"model_1\"\n",
      "__________________________________________________________________________________________________\n",
      "Layer (type)                    Output Shape         Param #     Connected to                     \n",
      "==================================================================================================\n",
      "input_1 (InputLayer)            [(None, 41)]         0                                            \n",
      "__________________________________________________________________________________________________\n",
      "embedding (Embedding)           (None, 41, 128)      2560000     input_1[0][0]                    \n",
      "__________________________________________________________________________________________________\n",
      "lstm (LSTM)                     [(None, 41, 256), (N 394240      embedding[0][0]                  \n",
      "__________________________________________________________________________________________________\n",
      "input_2 (InputLayer)            [(None, None)]       0                                            \n",
      "__________________________________________________________________________________________________\n",
      "lstm_1 (LSTM)                   [(None, 41, 256), (N 525312      lstm[0][0]                       \n",
      "__________________________________________________________________________________________________\n",
      "embedding_1 (Embedding)         (None, None, 128)    1280000     input_2[0][0]                    \n",
      "__________________________________________________________________________________________________\n",
      "lstm_2 (LSTM)                   [(None, 41, 256), (N 525312      lstm_1[0][0]                     \n",
      "__________________________________________________________________________________________________\n",
      "lstm_3 (LSTM)                   [(None, None, 256),  394240      embedding_1[0][0]                \n",
      "                                                                 lstm_2[0][1]                     \n",
      "                                                                 lstm_2[0][2]                     \n",
      "__________________________________________________________________________________________________\n",
      "attention_layer (AttentionLayer ((None, None, 256),  131328      lstm_2[0][0]                     \n",
      "                                                                 lstm_3[0][0]                     \n",
      "__________________________________________________________________________________________________\n",
      "concat_layer (Concatenate)      (None, None, 512)    0           lstm_3[0][0]                     \n",
      "                                                                 attention_layer[0][0]            \n",
      "__________________________________________________________________________________________________\n",
      "dense_1 (Dense)                 (None, None, 10000)  5130000     concat_layer[0][0]               \n",
      "==================================================================================================\n",
      "Total params: 10,940,432\n",
      "Trainable params: 10,940,432\n",
      "Non-trainable params: 0\n",
      "__________________________________________________________________________________________________\n"
     ]
    }
   ],
   "source": [
    "# 어텐션 층(어텐션 함수)\n",
    "attn_layer = AttentionLayer(name='attention_layer')\n",
    "# 인코더와 디코더의 모든 time step의 hidden state를 어텐션 층에 전달하고 결과를 리턴\n",
    "attn_out, attn_states = attn_layer([encoder_outputs, decoder_outputs])\n",
    "\n",
    "# 어텐션의 결과와 디코더의 hidden state들을 연결\n",
    "decoder_concat_input = Concatenate(axis=-1, name='concat_layer')([decoder_outputs, attn_out])\n",
    "\n",
    "# 디코더의 출력층\n",
    "decoder_softmax_layer = Dense(tar_vocab, activation='softmax')\n",
    "decoder_softmax_outputs = decoder_softmax_layer(decoder_concat_input)\n",
    "\n",
    "# 모델 정의\n",
    "model = Model([encoder_inputs, decoder_inputs], decoder_softmax_outputs)\n",
    "model.summary()"
   ]
  },
  {
   "cell_type": "code",
   "execution_count": 37,
   "id": "industrial-shannon",
   "metadata": {},
   "outputs": [
    {
     "name": "stdout",
     "output_type": "stream",
     "text": [
      "Epoch 1/50\n",
      "290/290 [==============================] - 182s 602ms/step - loss: 6.0425 - val_loss: 5.2405\n",
      "Epoch 2/50\n",
      "290/290 [==============================] - 174s 602ms/step - loss: 5.1663 - val_loss: 4.8440\n",
      "Epoch 3/50\n",
      "290/290 [==============================] - 174s 601ms/step - loss: 4.7795 - val_loss: 4.5601\n",
      "Epoch 4/50\n",
      "290/290 [==============================] - 175s 602ms/step - loss: 4.4780 - val_loss: 4.3578\n",
      "Epoch 5/50\n",
      "290/290 [==============================] - 175s 602ms/step - loss: 4.2579 - val_loss: 4.2419\n",
      "Epoch 6/50\n",
      "290/290 [==============================] - 175s 602ms/step - loss: 4.0734 - val_loss: 4.1002\n",
      "Epoch 7/50\n",
      "290/290 [==============================] - 174s 602ms/step - loss: 3.9195 - val_loss: 4.0128\n",
      "Epoch 8/50\n",
      "290/290 [==============================] - 175s 603ms/step - loss: 3.7842 - val_loss: 3.9376\n",
      "Epoch 9/50\n",
      "290/290 [==============================] - 175s 602ms/step - loss: 3.6733 - val_loss: 3.8712\n",
      "Epoch 10/50\n",
      "290/290 [==============================] - 175s 602ms/step - loss: 3.5635 - val_loss: 3.8245\n",
      "Epoch 11/50\n",
      "290/290 [==============================] - 175s 602ms/step - loss: 3.4755 - val_loss: 3.7834\n",
      "Epoch 12/50\n",
      "290/290 [==============================] - 175s 603ms/step - loss: 3.3879 - val_loss: 3.7417\n",
      "Epoch 13/50\n",
      "290/290 [==============================] - 175s 604ms/step - loss: 3.3136 - val_loss: 3.7137\n",
      "Epoch 14/50\n",
      "290/290 [==============================] - 175s 603ms/step - loss: 3.2503 - val_loss: 3.6911\n",
      "Epoch 15/50\n",
      "290/290 [==============================] - 175s 604ms/step - loss: 3.1771 - val_loss: 3.6745\n",
      "Epoch 16/50\n",
      "290/290 [==============================] - 175s 604ms/step - loss: 3.1193 - val_loss: 3.6541\n",
      "Epoch 17/50\n",
      "290/290 [==============================] - 175s 605ms/step - loss: 3.0678 - val_loss: 3.6369\n",
      "Epoch 18/50\n",
      "290/290 [==============================] - 175s 603ms/step - loss: 3.0215 - val_loss: 3.6303\n",
      "Epoch 19/50\n",
      "290/290 [==============================] - 174s 601ms/step - loss: 2.9669 - val_loss: 3.6215\n",
      "Epoch 20/50\n",
      "290/290 [==============================] - 175s 603ms/step - loss: 2.9303 - val_loss: 3.6060\n",
      "Epoch 21/50\n",
      "290/290 [==============================] - 175s 603ms/step - loss: 2.8798 - val_loss: 3.5981\n",
      "Epoch 22/50\n",
      "290/290 [==============================] - 175s 602ms/step - loss: 2.8433 - val_loss: 3.5899\n",
      "Epoch 23/50\n",
      "290/290 [==============================] - 175s 603ms/step - loss: 2.8079 - val_loss: 3.5886\n",
      "Epoch 24/50\n",
      "290/290 [==============================] - 175s 602ms/step - loss: 2.7669 - val_loss: 3.5760\n",
      "Epoch 25/50\n",
      "290/290 [==============================] - 175s 603ms/step - loss: 2.7329 - val_loss: 3.5713\n",
      "Epoch 26/50\n",
      "290/290 [==============================] - 175s 604ms/step - loss: 2.7073 - val_loss: 3.5631\n",
      "Epoch 27/50\n",
      "290/290 [==============================] - 175s 603ms/step - loss: 2.6749 - val_loss: 3.5619\n",
      "Epoch 28/50\n",
      "290/290 [==============================] - 175s 604ms/step - loss: 2.6450 - val_loss: 3.5580\n",
      "Epoch 29/50\n",
      "290/290 [==============================] - 175s 604ms/step - loss: 2.6178 - val_loss: 3.5604\n",
      "Epoch 30/50\n",
      "290/290 [==============================] - 175s 603ms/step - loss: 2.5884 - val_loss: 3.5558\n",
      "Epoch 31/50\n",
      "290/290 [==============================] - 175s 603ms/step - loss: 2.5694 - val_loss: 3.5534\n",
      "Epoch 32/50\n",
      "290/290 [==============================] - 175s 605ms/step - loss: 2.5439 - val_loss: 3.5535\n",
      "Epoch 33/50\n",
      "290/290 [==============================] - 175s 603ms/step - loss: 2.5183 - val_loss: 3.5531\n",
      "Epoch 34/50\n",
      "290/290 [==============================] - 175s 605ms/step - loss: 2.4870 - val_loss: 3.5562\n",
      "Epoch 35/50\n",
      "290/290 [==============================] - 175s 603ms/step - loss: 2.4715 - val_loss: 3.5507\n",
      "Epoch 36/50\n",
      "290/290 [==============================] - 175s 603ms/step - loss: 2.4495 - val_loss: 3.5508\n",
      "Epoch 37/50\n",
      "290/290 [==============================] - 175s 603ms/step - loss: 2.4254 - val_loss: 3.5563\n",
      "Epoch 00037: early stopping\n"
     ]
    }
   ],
   "source": [
    "# 모델 훈련\n",
    "model.compile(optimizer='rmsprop', loss='sparse_categorical_crossentropy')\n",
    "es = EarlyStopping(monitor='val_loss', patience=2, verbose=1)\n",
    "history = model.fit(x=[encoder_input_train, decoder_input_train], y=decoder_target_train, \\\n",
    "          validation_data=([encoder_input_test, decoder_input_test], decoder_target_test), \\\n",
    "          batch_size=256, callbacks=[es], epochs=50)"
   ]
  },
  {
   "cell_type": "code",
   "execution_count": 38,
   "id": "alpha-broadcast",
   "metadata": {},
   "outputs": [
    {
     "data": {
      "image/png": "[encoded data removed]",
      "text/plain": [
       "<Figure size 432x288 with 1 Axes>"
      ]
     },
     "metadata": {
      "needs_background": "light"
     },
     "output_type": "display_data"
    }
   ],
   "source": [
    "# 모델 훈련 과정 시각화\n",
    "plt.plot(history.history['loss'], label='train')\n",
    "plt.plot(history.history['val_loss'], label='test')\n",
    "plt.legend()\n",
    "plt.show()"
   ]
  },
  {
   "cell_type": "markdown",
   "id": "healthy-adaptation",
   "metadata": {},
   "source": [
    "## Step 4. 실제 결과와 요약문 비교하기 (추상적 요약)"
   ]
  },
  {
   "cell_type": "code",
   "execution_count": 42,
   "id": "special-scholar",
   "metadata": {},
   "outputs": [],
   "source": [
    "# 인퍼런스 모델 규현\n",
    "src_index_to_word = src_tokenizer.index_word # 원문 단어 집합에서 정수 -> 단어를 얻음\n",
    "tar_word_to_index = tar_tokenizer.word_index # 요약 단어 집합에서 단어 -> 정수를 얻음\n",
    "tar_index_to_word = tar_tokenizer.index_word # 요약 단어 집합에서 정수 -> 단어를 얻음"
   ]
  },
  {
   "cell_type": "code",
   "execution_count": 43,
   "id": "sitting-trail",
   "metadata": {},
   "outputs": [],
   "source": [
    "# 인코더 설계\n",
    "encoder_model = Model(inputs=encoder_inputs, outputs=[encoder_outputs, state_h, state_c])\n",
    "\n",
    "# 이전 시점의 상태들을 저장하는 텐서\n",
    "decoder_state_input_h = Input(shape=(hidden_size,))\n",
    "decoder_state_input_c = Input(shape=(hidden_size,))\n",
    "\n",
    "dec_emb2 = dec_emb_layer(decoder_inputs)\n",
    "\n",
    "# 문장의 다음 단어를 예측하기 위해서 초기 상태(initial_state)를 이전 시점의 상태로 사용. 이는 뒤의 함수 decode_sequence()에 구현\n",
    "# 훈련 과정에서와 달리 LSTM의 리턴하는 은닉 상태와 셀 상태인 state_h와 state_c를 버리지 않음.\n",
    "decoder_outputs2, state_h2, state_c2 = decoder_lstm(dec_emb2, initial_state=[decoder_state_input_h, decoder_state_input_c])"
   ]
  },
  {
   "cell_type": "code",
   "execution_count": 44,
   "id": "assumed-powell",
   "metadata": {},
   "outputs": [],
   "source": [
    "# 어텐션 함수\n",
    "decoder_hidden_state_input = Input(shape=(text_max_len, hidden_size))\n",
    "attn_out_inf, attn_states_inf = attn_layer([decoder_hidden_state_input, decoder_outputs2])\n",
    "decoder_inf_concat = Concatenate(axis=-1, name='concat')([decoder_outputs2, attn_out_inf])\n",
    "\n",
    "# 디코더의 출력층\n",
    "decoder_outputs2 = decoder_softmax_layer(decoder_inf_concat) \n",
    "\n",
    "# 최종 디코더 모델\n",
    "decoder_model = Model(\n",
    "    [decoder_inputs] + [decoder_hidden_state_input,decoder_state_input_h, decoder_state_input_c],\n",
    "    [decoder_outputs2] + [state_h2, state_c2])"
   ]
  },
  {
   "cell_type": "code",
   "execution_count": 45,
   "id": "popular-sacramento",
   "metadata": {},
   "outputs": [],
   "source": [
    "def decode_sequence(input_seq):\n",
    "    # 입력으로부터 인코더의 상태를 얻음\n",
    "    e_out, e_h, e_c = encoder_model.predict(input_seq)\n",
    "\n",
    "     # <SOS>에 해당하는 토큰 생성\n",
    "    target_seq = np.zeros((1,1))\n",
    "    target_seq[0, 0] = tar_word_to_index['sostoken']\n",
    "\n",
    "    stop_condition = False\n",
    "    decoded_sentence = ''\n",
    "    while not stop_condition: # stop_condition이 True가 될 때까지 루프 반복\n",
    "\n",
    "        output_tokens, h, c = decoder_model.predict([target_seq] + [e_out, e_h, e_c])\n",
    "        sampled_token_index = np.argmax(output_tokens[0, -1, :])\n",
    "        sampled_token = tar_index_to_word[sampled_token_index]\n",
    "\n",
    "        if (sampled_token!='eostoken'):\n",
    "            decoded_sentence += ' '+sampled_token\n",
    "\n",
    "        #  <eos>에 도달하거나 최대 길이를 넘으면 중단.\n",
    "        if (sampled_token == 'eostoken'  or len(decoded_sentence.split()) >= (headlines_max_len-1)):\n",
    "            stop_condition = True\n",
    "\n",
    "        # 길이가 1인 타겟 시퀀스를 업데이트\n",
    "        target_seq = np.zeros((1,1))\n",
    "        target_seq[0, 0] = sampled_token_index\n",
    "\n",
    "        # 상태를 업데이트 합니다.\n",
    "        e_h, e_c = h, c\n",
    "\n",
    "    return decoded_sentence"
   ]
  },
  {
   "cell_type": "code",
   "execution_count": 46,
   "id": "silver-merchandise",
   "metadata": {},
   "outputs": [],
   "source": [
    "# 원문의 정수 시퀀스를 텍스트 시퀀스로 변환\n",
    "def seq2text(input_seq):\n",
    "    temp=''\n",
    "    for i in input_seq:\n",
    "        if (i!=0):\n",
    "            temp = temp + src_index_to_word[i]+' '\n",
    "    return temp\n",
    "\n",
    "# 요약문의 정수 시퀀스를 텍스트 시퀀스로 변환\n",
    "def seq2summary(input_seq):\n",
    "    temp=''\n",
    "    for i in input_seq:\n",
    "        if ((i!=0 and i!=tar_word_to_index['sostoken']) and i!=tar_word_to_index['eostoken']):\n",
    "            temp = temp + tar_index_to_word[i] + ' '\n",
    "    return temp"
   ]
  },
  {
   "cell_type": "code",
   "execution_count": 47,
   "id": "biblical-chassis",
   "metadata": {},
   "outputs": [
    {
     "name": "stdout",
     "output_type": "stream",
     "text": [
      "원문 : scientists discovered fossils elephant sized mammal lived alongside dinosaurs period million years ago named four legged creature belonged group mammal like reptiles called think one unexpected fossil discoveries europe one scientists said \n",
      "실제 요약 : fossils of like that lived with dinosaurs found \n",
      "예측 요약 :  massive vodafone def dares decades decades taxpayers engaged mascot turbulence bhattacharya\n",
      "\n",
      "\n",
      "원문 : elon musk led tunnelling startup boring company received permission dig tunnel state owned portion baltimore washington maryland us kilometre tunnel reportedly first part hyperloop system connecting new york washington dc earlier musk tweeted received approval build underground hyperloop connecting cities \n",
      "실제 요약 : musk boring company gets approval to dig km tunnel in us \n",
      "예측 요약 :  mentions dam burari burari inaugurate recovers recovers trends hang invested language\n",
      "\n",
      "\n",
      "원문 : actress priyanka chopra shared script next hindi film titled sky pink written filmmaker writer bose credited films like straw said priyanka start shooting finishes working salman khan starrer bharat \n",
      "실제 요약 : priyanka chopra next hindi film titled the sky is pink \n",
      "예측 요약 :  massive dal vodafone surprises gps swine swine mutual viv anthem presence\n",
      "\n",
      "\n",
      "원문 : attending jaipur literature festival speaker former jawaharlal nehru university professor gupta said best way solve problem poverty forget poor stating policies framed benefit entire society instead specific sections gupta added private sector perform better competitive economy \n",
      "실제 요약 : best way to counter poverty is to forget poor ex jnu prof \n",
      "예측 요약 :  society income ravana sri sri spat breakfast content content salt costumes\n",
      "\n",
      "\n",
      "원문 : increasing digitisation india country faces greater risk affected malicious software ransomware locks computer files till hackers demands met attacks harm services like online aadhaar database andhra pradesh police stations confirmed hit friday wannacry ransomware impact minimal documents also recorded offline \n",
      "실제 요약 : what is the impact of ransomware attacks in india \n",
      "예측 요약 :  even costumes millionaire vogue skirts depressed collected moves nehru nehru mera\n",
      "\n",
      "\n",
      "원문 : vice president rajya sabha chairman venkaiah naidu recently paid surprise visit upper house secretariat ordered introduction biometric attendance system finding staff members missing vice president also raised issue cleanliness secretariat directed officials ensure sanitation undertaking special cleanliness drive offices \n",
      "실제 요약 : vp pays surprise visit to rs office finds staff missing \n",
      "예측 요약 :  october card home strict justified diplomats finds stressed big stressed humanity\n",
      "\n",
      "\n",
      "원문 : pm narendra modi pitched shifting january december financial year madhya pradesh decided adopt january december financial year format present april march cycle bjp led government state become first country adopt change next budget madhya pradesh presented december \n",
      "실제 요약 : mp becomes st state to adopt jan dec as financial year \n",
      "예측 요약 :  waves turbulence engineer shorter youngest format relative kings relative nba suchitra\n",
      "\n",
      "\n",
      "원문 : actor shah rukh khan turned thursday owns land moon gifted two australian female fans old interview actor revealed also possesses certificates plots lunar republic society notably crater moon also named actor \n",
      "실제 요약 : shah rukh khan owns land on moon gifted to him by fans \n",
      "예측 요약 :  massive guatemala dal vp covers cm\n",
      "\n",
      "\n",
      "원문 : amitabh bachchan trolled tweet calling cake cutting candle blowing celebrations birthdays concept big tweeted cake candle english left practice us become slaves user posted amitabh photo seen cutting cake tweeted another tweet read practice \n",
      "실제 요약 : big trolled for calling cake cutting on day \n",
      "예측 요약 :  decisions teenage teddy racial rift object object operator district hurting waves\n",
      "\n",
      "\n",
      "원문 : delhi police announced plans deploy new squad motorcycles called raftaar control street crimes chain snatching molestation national capital consisting female cops squad particularly aimed ensuring women safety patrolling bikes gps enabled riders equipped body cameras officials said \n",
      "실제 요약 : delhi police to deploy bike squads with women cops \n",
      "예측 요약 :  massive chhattisgarh bones azim azim consumers angry angry things pope adultery\n",
      "\n",
      "\n",
      "원문 : government upper primary sanskrit school rajasthan district six classrooms four teachers single student student strength school established peaked began decline reportedly teachers report work water plants read newspapers chat among leave pm \n",
      "실제 요약 : rajasthan govt sanskrit school has teachers no students \n",
      "예측 요약 :  massive guatemala dal vp covers cm indoor indoor gal papua stocks\n",
      "\n",
      "\n",
      "원문 : market capitalisation google parent alphabet grew much billion billion monday reported quarterly earnings beat expectations alphabet valuation billion less amazon billion well short apple billion alphabet revenues second quarter jumped billion \n",
      "실제 요약 : alphabet cap hits bn bn less than amazon \n",
      "예측 요약 :  massive guatemala dal nizamuddin roorkee abduct faculty hima parmanu offender pakistan\n",
      "\n",
      "\n",
      "원문 : vij starred secret superstar said touch brother piyush ever since got married know rape charges added happen explained touch piyush wife issues \n",
      "실제 요약 : did not know about rape charges against piyush sister \n",
      "예측 요약 :  massive guatemala dal vp jadhav meal saif identical foundation changed workforce\n",
      "\n",
      "\n",
      "원문 : picture circulating online dog russia actually shot pakistan attempt reduce number stray animals image went viral amid fears russia would try kill stray dogs ahead fifa world cup however russian officials said animals would captured placed shelters \n",
      "실제 요약 : viral russia dog execution photo actually shot in pakistan \n",
      "예측 요약 :  waves tensions hundreds champ sara dsp artists mayer secy dravid particle\n",
      "\n",
      "\n",
      "원문 : sachin tendulkar brian lara play next month leading respective sides inauguration brian lara stadium west indies may sports minister smith announced match broadcast internationally tickets would go sale shortly stadium inaugurated year delay \n",
      "실제 요약 : tendulkar to play against brian lara led team in west indies \n",
      "예측 요약 :  massive stable types hired meddle breath bai sees warships actions down\n",
      "\n",
      "\n",
      "원문 : letter pm narendra modi delhi cm arvind kejriwal asked folded hands end strike ias officers cm listed various development projects allegedly stuck strike including monsoon preparations measures prevent diseases like chikungunya protest lieutenant governor anil baijal house entered th day \n",
      "실제 요약 : kejriwal requests pm with hands to end ias strike \n",
      "예측 요약 :  waves domino boyfriend justin hussein nabbed external flip integrity jasprit id\n",
      "\n",
      "\n",
      "원문 : bollywood actors shah rukh khan salman khan akshay kumar featured forbes celebrity list world highest paid celebrities srk ranked th list earnings crore salman stood st earnings crore akshay earned crore ranked th list \n",
      "실제 요약 : srk salman akshay in forbes highest paid celebrities list \n",
      "예측 요약 :  society income ravana sri sri spat peacock kota kota kota bryan\n",
      "\n",
      "\n",
      "원문 : technology major apple released security update patch vulnerability would let hackers control user iphone via wifi bug generally affects chips made broadcom used devices made various companies including htc lg google samsung apple google also released patch vulnerability android devices \n",
      "실제 요약 : apple fixes bug that let users phones be hacked via wifi \n",
      "예측 요약 :  october card home alcohol alcohol diplomats hit mallika hole rested communal\n",
      "\n",
      "\n",
      "원문 : shiv sena mp ravindra gaikwad reportedly booked ticket air india flight revoked ban parliamentarian travelled rajdhani express instead gaikwad private secretary krishna said travelled mumbai delhi train found convenient issue \n",
      "실제 요약 : gaikwad books flight ticket travels by train instead \n",
      "예측 요약 :  massive guatemala dal vp covers cm\n",
      "\n",
      "\n",
      "원문 : bjp wednesday called two day protests kerala two women age entered sabarimala temple kerala bjp president ps sreedharan pillai called entry conspiracy rulers destroy hindu temples however asked devotees get carried away register protest democratic means \n",
      "실제 요약 : bjp calls for protests after women below enter sabarimala \n",
      "예측 요약 :  society small resign called stretch imam bhagwat ben happiness courts row\n",
      "\n",
      "\n",
      "원문 : addressing media recent unprovoked ceasefire violations pakistan indian army brigadier ys sunday said showed extreme pakistan targeting civilians living along border damaging houses shelling added indian army evacuated villages moved civilians government school said \n",
      "실제 요약 : indian army calls pakistan army \n"
     ]
    },
    {
     "name": "stdout",
     "output_type": "stream",
     "text": [
      "예측 요약 :  waves turbulence engineer shorter youngest comment hunger hp clerics unique publishing\n",
      "\n",
      "\n",
      "원문 : anil kapoor talking struggles sonam kapoor regarding weight issues said years traumatic returned home singapore shocked said way walked agony climbing stairs face broke heart adding always \n",
      "실제 요약 : yrs were for sonam anil on her weight issues \n",
      "예측 요약 :  massive october fed slut ev michelin michelin secretary murali cabin leaving\n",
      "\n",
      "\n",
      "원문 : india online vendors association filed petition competition commission india flipkart alleging favouring brands select merchants adding flipkart abusing dominant position claimed flipkart offering discounts merchants wholesale arm flipkart responded allegations \n",
      "실제 요약 : sellers petition against flipkart over abuse of \n",
      "예측 요약 :  massive guatemala dal vp covers\n",
      "\n",
      "\n",
      "원문 : actress radhika apte said india ashamed sexuality human body anything human body sexuality problem added radhika seen akshay kumar starrer film padman said natural process like menstruation spoken \n",
      "실제 요약 : india is ashamed of sexuality and radhika \n",
      "예측 요약 :  massive october massive guatemala trash trash inspector sole pistol pistol spend\n",
      "\n",
      "\n",
      "원문 : bharatiya janata party wednesday dismissed bsp supremo mayawati allegations electronic voting machine tampering asked accept people mandate win evms right lose evms wrong shows defects union minister venkaiah naidu said also said people rejected mayawati party \n",
      "실제 요약 : there are defects in you not in evms bjp to mayawati \n",
      "예측 요약 :  kaif wi reunited meerut bibi sunanda sunanda standards cic cic block\n",
      "\n",
      "\n",
      "원문 : reacting ms dhoni lying waiting airport user tweeted everybody sitting legend sleeping like boss one whole world reason ms dhoni users reacted tweets like un give international person award msdhoni mahi never misses chance sleep \n",
      "실제 요약 : everybody sitting legend sleeping tweets user about dhoni \n",
      "예측 요약 :  society wing season basis seized angeles seized gym shahzad ours ours\n",
      "\n",
      "\n",
      "원문 : giant iceberg appeared coast small canadian town making sudden tourist attraction iceberg estimated measure metres highest point town although regularly float past mayor said particular iceberg appears grounded could remain place \n",
      "실제 요약 : giant iceberg appears off coast of small canadian town \n",
      "예측 요약 :  massive vodafone def decades hungary maiden sexism invested behind behind deals\n",
      "\n",
      "\n",
      "원문 : brazilian football legend pel hindustan times leadership summit revealed went airport first time went sell peanuts saw plane said want pilot one day added father person encouraged play football three time fifa world cup winner added \n",
      "실제 요약 : first time went to airport went to sell pel \n",
      "예측 요약 :  society criticises chabahar manmarziyaan technology kanpur kanpur kanpur kanpur pen kanpur\n",
      "\n",
      "\n",
      "원문 : alia bhatt varun dhawan remake david dhawan film coolie per reports film directed david first film produced david son varun brother rohit dhawan reports suggested earlier reports sara ali khan star opposite varun \n",
      "실제 요약 : alia varun to reunite for remake of coolie no reports \n",
      "예측 요약 :  massive guatemala dal vodafone welfare chicken chicken infants overnight collapsing makeup\n",
      "\n",
      "\n",
      "원문 : three member screening committee congress claimed despite party chief rahul gandhi insistence one ticket per family rule seems exist paper panel added several leaders might extract two tickets family members rule apply sitting mlas family members separated said \n",
      "실제 요약 : one family one ticket rule only on paper congress panel \n",
      "예측 요약 :  mentions dam posters schoolboy retiring retiring oracle jasoos subhash subhash farmer\n",
      "\n",
      "\n",
      "원문 : actor shakti kapoor said hopes people change perspective start looking transgenders equally shakti plays transgender character upcoming film added big budget film sure people understand accept message trying give \n",
      "실제 요약 : hope people change views treat transgenders equally shakti \n",
      "예측 요약 :  massive guatemala dal vp covers cm\n",
      "\n",
      "\n",
      "원문 : mukesh ambani led reliance jio recruit employees company chief human resources officer sanjay said company currently employs around lakh people adding company partnership colleges said embedded courses offered institutions students clear reliance ready \n",
      "실제 요약 : mukesh ambani jio to recruit people in fy \n",
      "예측 요약 :  costume costume tier nasa apart unemployment october slut equifax tejashwi tejashwi\n",
      "\n",
      "\n",
      "원문 : year old american student mistakenly locked inside cave hours survived cave walls drinking rainfall cave water also used energy bar bottles collect moisture rainfall discovered missing person report filed said really glad alive \n",
      "실제 요약 : man stuck in cave for hrs survives on rainfall cave water \n",
      "예측 요약 :  massive guatemala dal nizamuddin roorkee abduct faculty pack hima offender sporting\n",
      "\n",
      "\n",
      "원문 : asian development bank wednesday lowered india gdp forecast current fiscal bank attributed dull growth first half fiscal demonetisation challenges tax sector reforms also lowered gdp outlook next fiscal beginning april \n",
      "실제 요약 : lowers india gdp forecast for fy to \n",
      "예측 요약 :  massive guatemala dal vp covers cm\n",
      "\n",
      "\n",
      "원문 : north korea state media dismissed reports collapse nuclear test site killed people tunnel test site reportedly collapsed following north korea sixth nuclear test last month state media called false report intended defame country advances nuclear development \n",
      "실제 요약 : korea dismisses reports on deaths at nuke site \n",
      "예측 요약 :  october card jain kannada mentions government mistakenly prez literacy offensive raid\n",
      "\n",
      "\n",
      "원문 : supreme court wednesday ordered police must register fir cases encounter killings armed forces among cases extra judicial killings manipur court said would hear cases related armed forces first earlier court curtailed use excessive retaliatory force armed forces afspa \n",
      "실제 요약 : sc orders fir in encounter killings by armed forces \n",
      "예측 요약 :  pakoda facility cancer defend strict rishabh tip tip works format greatest\n",
      "\n",
      "\n",
      "원문 : challenging us sanctions iranian lawyers monday told international court justice us seeks damage economy severely possible urged un court order us lift sanctions imposed withdrawing nuclear deal us said would vigorously defend iran claims \n",
      "실제 요약 : us seeks to damage our economy iran tells un court \n",
      "예측 요약 :  functioning blogger delays delays ravana pilgrims dileep assaulted alphabet assaulted kiss\n",
      "\n",
      "\n",
      "원문 : west bengal bjp leader mukul roy prompted criticism promised smartphones young voters turned years party wins upcoming panchayat elections district central government advocating cashless transactions require smartphones said complaint registered regard \n",
      "실제 요약 : bjp leader offers smartphone if party wins wb rural polls \n",
      "예측 요약 :  massive guatemala dal vp materials ramesh evaluation cm cm tumour slams\n",
      "\n",
      "\n",
      "원문 : congress vice president rahul gandhi slammed bjp led gujarat government alleging purchased unit electricity private firms reducing government run power plants capability questioned pm narendra modi four private firms favoured purchasing power worth crore state \n",
      "실제 요약 : guj govt bought unit power for from pvt firms rahul \n",
      "예측 요약 :  jokingly costume observed uthappa missed missed zaira gurudwara teammate grass ileana\n",
      "\n",
      "\n",
      "원문 : rss chief mohan bhagwat wednesday said society found able competent contractor social welfare added danger might put entire contractor head sleep happen people work public welfare feeling worship country \n",
      "실제 요약 : modi is of social welfare rss chief bhagwat \n",
      "예측 요약 :  massive plus petitioner litre shocking oracle gujarati ireland common witness compare\n",
      "\n",
      "\n",
      "원문 : delhi daredevils sanju samson saved shot kolkata knight riders manish pandey going long boundary ipl match monday samson pulled mid air catch flicked ball back falling outside boundary line saving four runs dd kkr could take two runs due effort \n",
      "실제 요약 : video samson at boundary saves six for dd \n",
      "예측 요약 :  waves turbulence publicly daimler publicly attendant gal drilling pacific magnitude blockchain\n",
      "\n",
      "\n",
      "원문 : shah rukh khan said artist incomplete adding years working realised reason working happiness heart think complete boring done always think bring something new actor added \n",
      "실제 요약 : one should only work for the happiness of the heart srk \n",
      "예측 요약 :  massive danger danger patent documentary documentary families visas prosecutor unity inappropriate\n",
      "\n",
      "\n",
      "원문 : dj goa allegedly beaten group friends refused play requests beyond permissible hours according facebook post dj played songs requested group stopped later play guests requests enraged group assaulted closing time \n",
      "실제 요약 : goa dj beaten up for not playing requests after am \n"
     ]
    },
    {
     "name": "stdout",
     "output_type": "stream",
     "text": [
      "예측 요약 :  massive guatemala dal vp vp materials opts ramesh wework sellers letter\n",
      "\n",
      "\n",
      "원문 : rajkummar rao star sequel film per reports rajkummar offered film director tarun replaced karan johar reports suggested earlier reports janhvi kapoor sidharth malhotra star sequel starred priyanka chopra abhishek bachchan john abraham \n",
      "실제 요약 : rajkummar rao to star in the sequel to reports \n",
      "예측 요약 :  society extends slaughter slut psl lakhs paralysed demanded files system landing\n",
      "\n",
      "\n",
      "원문 : delhi high court directed former ranbaxy promoter shivinder singh pay money owed japanese drugmaker daiichi man honour pay money go court said asked shivinder come viable plan october pay share crore award \n",
      "실제 요약 : you are man of honour pay and go hc to \n",
      "예측 요약 :  massive vodafone def dares decades hungary maiden disputed mantra skier rebel\n",
      "\n",
      "\n",
      "원문 : former flipkart chief product officer punit soni said companies artificial intelligence machine learning nothing tweet also said number probably startups said healthcare startup robin founded last year use lot ai operations \n",
      "실제 요약 : startups doing ai are doing nothing ex flipkart cpo \n",
      "예측 요약 :  massive dal vodafone thousands refunds me flak thrones melbourne temp contract\n",
      "\n",
      "\n",
      "원문 : speaking ongoing row padmavati shahid kapoor said eventually padmavati come full force shahid added considered guilty even provided people judge said think anything padmavati unacceptable good taste \n",
      "실제 요약 : padmavati will come out and in full force shahid \n",
      "예측 요약 :  massive dal vodafone thousands shekhar database tamil ad brazilian try bhagwat\n",
      "\n",
      "\n",
      "원문 : sequoia capital sued zhao billionaire founder world largest crypto exchange binance alleging violation agreements sequoia talks zhao invest binance since august december offered funding higher valuation idg capital sequoia secured injunction barring zhao negotiating investors \n",
      "실제 요약 : crypto billionaire sued by sequoia over funding deal \n",
      "예측 요약 :  massive identity extremely extremely azam wear dcw owaisi period feud store\n",
      "\n",
      "\n",
      "원문 : head saudi arabia general entertainment authority said kingdom invest billion developing entertainment sector next decade investment part vision plan unveiled crown prince mohammed bin salman last year saudi lifted ban commercial cinemas \n",
      "실제 요약 : saudi arabia to invest lakh crore in entertainment sector \n",
      "예측 요약 :  massive dal shekhar encrypted cec pedo kxip bindra born agustawestland access\n",
      "\n",
      "\n",
      "원문 : volcanic activities may led mass extinction event million years ago triggered rise dinosaurs oxford study stated study found elevated mercury levels deposits extinction era reptiles emissions coincided known increases atmospheric co suggesting volcanic eruptions marking onset dinosaurs jurassic era \n",
      "실제 요약 : volcanic eruptions triggered of dinosaurs study \n",
      "예측 요약 :  launching hong planned handi handi secretary interested doping eiffel match match\n",
      "\n",
      "\n"
     ]
    }
   ],
   "source": [
    "for i in range(50, 100):\n",
    "    print(\"원문 :\", seq2text(encoder_input_test[i]))\n",
    "    print(\"실제 요약 :\", seq2summary(decoder_input_test[i]))\n",
    "    print(\"예측 요약 :\", decode_sequence(encoder_input_test[i].reshape(1, text_max_len)))\n",
    "    print(\"\\n\")"
   ]
  },
  {
   "cell_type": "markdown",
   "id": "elementary-luxembourg",
   "metadata": {},
   "source": [
    "## Step 5. Summa을 이용해서 추출적 요약해보기"
   ]
  },
  {
   "cell_type": "code",
   "execution_count": 113,
   "id": "quarterly-efficiency",
   "metadata": {},
   "outputs": [],
   "source": [
    "import requests\n",
    "from summa.summarizer import summarize"
   ]
  },
  {
   "cell_type": "code",
   "execution_count": 114,
   "id": "hazardous-river",
   "metadata": {},
   "outputs": [],
   "source": [
    "text = requests.get('http://rare-technologies.com/the_matrix_synopsis.txt').text"
   ]
  },
  {
   "cell_type": "code",
   "execution_count": 115,
   "id": "american-profit",
   "metadata": {},
   "outputs": [
    {
     "name": "stdout",
     "output_type": "stream",
     "text": [
      "The screen is filled with green, cascading code which gives way to the title, The Matrix.\r\n",
      "\r\n",
      "A phone rings and text appears on the screen: \"Call trans opt: received. 2-19-98 13:24:18 REC: Log>\" As a conversation takes place between Trinity (Carrie-Anne Moss) and Cypher (Joe Pantoliano), two free humans, a table of random green numbers are being scanned and individual numbers selected, creating a series of digits not unlike an ordinary phone number, as if a code is being deciphered or a call is being traced.\r\n",
      "\r\n",
      "Trinity discusses some unknown person. Cypher taunts Trinity, suggesting she enjoys watching him. Trinity counters that \"Morpheus (Laurence Fishburne) says he may be 'the One',\" just as the sound of a number being selected alerts Trinity that someone may be tracing their call. She ends the call.\r\n",
      "\r\n",
      "Armed policemen move down a darkened, decrepit hallway in the Heart O' the City Hotel, their flashlight beam bouncing just ahead of them. They come to room 303, kick down the door and find a woman dressed in black, facing away from them. It's Trinity. She brings her hands up from the laptop she's working on at their command.\r\n",
      "\r\n",
      "Outside the hotel a car drives up and three agents appear in neatly pressed black suits. They are Agent Smith (Hugo Weaving), Agent Brown (Paul Goddard), and Agent Jones (Robert Taylor). Agent Smith and the presiding police lieutenant argue. Agent Smith admonishes the policeman that they were given specific orders to contact the agents first, for their\n"
     ]
    }
   ],
   "source": [
    "print(text[:1500])"
   ]
  },
  {
   "cell_type": "markdown",
   "id": "tracked-indian",
   "metadata": {},
   "source": [
    "### summarize 사용하기"
   ]
  },
  {
   "cell_type": "code",
   "execution_count": 116,
   "id": "fatty-characteristic",
   "metadata": {},
   "outputs": [
    {
     "name": "stdout",
     "output_type": "stream",
     "text": [
      "Summary:\n",
      "Morpheus, Trinity, Neo, Apoc, Switch, Mouse and Cypher are jacked into the Matrix.\n",
      "Trinity brings the helicopter down to the floor that Morpheus is on and Neo opens fire on the three Agents.\n"
     ]
    }
   ],
   "source": [
    "print('Summary:')\n",
    "print(summarize(text, ratio=0.005))"
   ]
  },
  {
   "cell_type": "code",
   "execution_count": 117,
   "id": "pursuant-guyana",
   "metadata": {},
   "outputs": [
    {
     "name": "stdout",
     "output_type": "stream",
     "text": [
      "Summary:\n",
      "['Morpheus, Trinity, Neo, Apoc, Switch, Mouse and Cypher are jacked into the Matrix.', 'Trinity brings the helicopter down to the floor that Morpheus is on and Neo opens fire on the three Agents.']\n"
     ]
    }
   ],
   "source": [
    "print('Summary:')\n",
    "print(summarize(text, ratio=0.005, split=True))"
   ]
  },
  {
   "cell_type": "code",
   "execution_count": 118,
   "id": "offensive-belarus",
   "metadata": {},
   "outputs": [
    {
     "name": "stdout",
     "output_type": "stream",
     "text": [
      "Summary:\n",
      "Trinity takes Neo to Morpheus.\n",
      "Morpheus, Trinity, Neo, Apoc, Switch, Mouse and Cypher are jacked into the Matrix.\n",
      "Trinity brings the helicopter down to the floor that Morpheus is on and Neo opens fire on the three Agents.\n"
     ]
    }
   ],
   "source": [
    "print('Summary:')\n",
    "print(summarize(text, words=50))"
   ]
  },
  {
   "cell_type": "code",
   "execution_count": 146,
   "id": "recent-opera",
   "metadata": {},
   "outputs": [
    {
     "name": "stdout",
     "output_type": "stream",
     "text": [
      "원문 : Former Finance Minister Yashwant Sinha on Tuesday demanded a probe into the alleged diversion of loans worth Ã¢ÂÂ¹31,000 crore by Dewan Housing Finance (DHFL). All agencies including regulators of the government have failed to track nefarious deals, he said. This comes after a media report on Tuesday accused DHFL's controlling shareholders of diverting funds to shell companies to buy assets.\n",
      "실제 요약 : Yashwant Sinha demands probe into alleged fund diversion by DHFL\n",
      "예측 요약 : Former Finance Minister Yashwant Sinha on Tuesday demanded a probe into the alleged diversion of loans worth Ã¢ÂÂ¹31,000 crore by Dewan Housing Finance (DHFL).\n",
      "This comes after a media report on Tuesday accused DHFL's controlling shareholders of diverting funds to shell companies to buy assets.\n",
      "\n",
      "\n",
      "원문 : US-based Boeing on Wednesday reported annual sales worth $101.12 billion in 2018, the first time the planemaker's sales crossed the $100-billion mark in its 102-year history. The company said it expects to deliver between 895 and 905 commercial aircraft in 2019. Boeing retained its position as the world's largest planemaker for the seventh straight year, delivering 806 aircraft in 2018. \n",
      "실제 요약 : Boeing sales cross $100bn for 1st time in its 102-yr history\n",
      "예측 요약 : US-based Boeing on Wednesday reported annual sales worth $101.12 billion in 2018, the first time the planemaker's sales crossed the $100-billion mark in its 102-year history.\n",
      "Boeing retained its position as the world's largest planemaker for the seventh straight year, delivering 806 aircraft in 2018.\n",
      "\n",
      "\n",
      "원문 : text\n",
      "실제 요약 : headlines\n",
      "예측 요약 : \n",
      "\n",
      "\n",
      "원문 : OnePlus has emerged as India's best-selling premium smartphone brand of 2018, as per a report by Counterpoint. It captured 36% of the market share in the premium segment, in Q4 2018. Further, its OnePlus 6 emerged as the highest selling premium smartphone of 2018 followed by OnePlus 6T.\n",
      "실제 요약 : OnePlus named bestselling premium smartphone brand of 2018: Report\n",
      "예측 요약 : OnePlus has emerged as India's best-selling premium smartphone brand of 2018, as per a report by Counterpoint.\n",
      "It captured 36% of the market share in the premium segment, in Q4 2018.\n",
      "Further, its OnePlus 6 emerged as the highest selling premium smartphone of 2018 followed by OnePlus 6T.\n",
      "\n",
      "\n",
      "원문 : Filmmaker Pooja Bhatt, while talking about the presentation of women in her films, said, \"I can never look at a female body, even if it's naked, in a vulgar manner.\" \"Our audience can say...the women in my films are bold or sensual, but never ever vulgar,\" she added. Pooja further said her censor board is her \"own heart and mind\".\n",
      "실제 요약 : Can never look at female body, even if naked, in vulgar way: Pooja\n",
      "예측 요약 : Filmmaker Pooja Bhatt, while talking about the presentation of women in her films, said, \"I can never look at a female body, even if it's naked, in a vulgar manner.\" \"Our audience can say...the women in my films are bold or sensual, but never ever vulgar,\" she added.\n",
      "\n",
      "\n",
      "원문 : Actress Mishti, who has featured in 'Manikarnika: The Queen of Jhansi', has said the film's co-director Kangana Ranaut made false promises to the cast. \"Kangana had said, 'I want dates because all characters look jumbled up...I'm trying my best to give everybody a prominent space on screen.' After watching the movie, there is no scope for other characters,\" Mishti added. \n",
      "실제 요약 : Kangana made fake promises to cast: 'Manikarnika' actress Mishti\n",
      "예측 요약 : Actress Mishti, who has featured in 'Manikarnika: The Queen of Jhansi', has said the film's co-director Kangana Ranaut made false promises to the cast.\n",
      "\"Kangana had said, 'I want dates because all characters look jumbled up...I'm trying my best to give everybody a prominent space on screen.' After watching the movie, there is no scope for other characters,\" Mishti added.\n",
      "\n",
      "\n",
      "원문 : The high-powered committee led by PM Narendra Modi to select the next CBI Director will meet again on February 1, Congress leader Mallikarjun Kharge has said. The panel consisting of Kharge and Chief Justice of India Ranjan Gogoi met on January 24, but the meeting ended \"inconclusively\" after Kharge cited lack of details in the list of 80 IPS officers. \n",
      "실제 요약 : PM-led panel to meet on Friday to pick new CBI chief: Kharge\n",
      "예측 요약 : The high-powered committee led by PM Narendra Modi to select the next CBI Director will meet again on February 1, Congress leader Mallikarjun Kharge has said.\n",
      "The panel consisting of Kharge and Chief Justice of India Ranjan Gogoi met on January 24, but the meeting ended \"inconclusively\" after Kharge cited lack of details in the list of 80 IPS officers.\n",
      "\n",
      "\n",
      "원문 : Nevada State Athletic Commission has banned MMA fighters Conor McGregor and Khabib Nurmagomedov for six months and nine months respectively over their roles in the mass brawl that occurred after their fight at UFC 229 last October. McGregor and Khabib have been fined $50,000 (Ã¢ÂÂ¹35 lakh) and $500,000 (Ã¢ÂÂ¹3.5 crore) respectively. The brawl occurred after Nurmagomedov confronted McGregor's teammate.\n",
      "실제 요약 : McGregor fined Ã¢ÂÂ¹35 lakh, Khabib Ã¢ÂÂ¹3.5 crore for brawl; both banned\n",
      "예측 요약 : Nevada State Athletic Commission has banned MMA fighters Conor McGregor and Khabib Nurmagomedov for six months and nine months respectively over their roles in the mass brawl that occurred after their fight at UFC 229 last October.\n",
      "The brawl occurred after Nurmagomedov confronted McGregor's teammate.\n",
      "\n",
      "\n",
      "원문 : Pakistan captain Sarfaraz Ahmed, who has been banned for four matches over racist remarks, took an apparent dig at his critics by sharing a video of a child reciting 'log hai na' poem on Twitter. \"Pyaar karna hai to khud se kar...dushmani karne ke liye log hai na,\" the poem read. \"This is how the world is,\" Sarfaraz wrote.\n",
      "실제 요약 : Banned for 4 matches, Sarfaraz shares 'log hai na' poem for critics\n",
      "예측 요약 : Pakistan captain Sarfaraz Ahmed, who has been banned for four matches over racist remarks, took an apparent dig at his critics by sharing a video of a child reciting 'log hai na' poem on Twitter.\n",
      "\"Pyaar karna hai to khud se kar...dushmani karne ke liye log hai na,\" the poem read.\n",
      "\n",
      "\n",
      "원문 : Banned cricketer Sreesanth has told Supreme Court he initially confessed to Delhi Police about his alleged involvement in 2013 IPL spot-fixing scandal to escape continuous police torture. Sreesanth further said the bookie tried dragging him into spot-fixing but he didn't fall for it. Citing Sreesanth not informing BCCI about fixing approach, the apex court said Sreesanth's conduct \"wasn't good\".\n",
      "실제 요약 : Confessed to spot-fixing to escape police torture: Sreesanth to SC\n",
      "예측 요약 : Banned cricketer Sreesanth has told Supreme Court he initially confessed to Delhi Police about his alleged involvement in 2013 IPL spot-fixing scandal to escape continuous police torture.\n",
      "Sreesanth further said the bookie tried dragging him into spot-fixing but he didn't fall for it.\n",
      "Citing Sreesanth not informing BCCI about fixing approach, the apex court said Sreesanth's conduct \"wasn't good\".\n",
      "\n",
      "\n",
      "원문 : The Finance Ministry on Wednesday said the government will present an Interim Budget on February 1. The clarification came amid speculations that a full Budget may be presented during the session. The government recently assigned Piyush Goyal temporary additional charge of the Finance and Corporate Affairs ministries in the absence of Arun Jaitley, who is in the US for treatment.\n",
      "실제 요약 : Govt to present Interim Budget, not full Budget on February 1\n",
      "예측 요약 : The Finance Ministry on Wednesday said the government will present an Interim Budget on February 1.\n",
      "The government recently assigned Piyush Goyal temporary additional charge of the Finance and Corporate Affairs ministries in the absence of Arun Jaitley, who is in the US for treatment.\n",
      "\n",
      "\n",
      "원문 : US President Donald Trump on Wednesday called his country's top intelligence chiefs \"naive\" and \"wrong\" on Iran and added that they should perhaps \"go back to school\". Trump claimed Iran is testing rockets, calling the country \"a source of potential danger and conflict\". Top US intelligence officials on Tuesday said that Iran isn't currently taking steps towards building nuclear weapons.\n",
      "실제 요약 : US intelligence naive and wrong, should go back to school: Trump\n",
      "예측 요약 : US President Donald Trump on Wednesday called his country's top intelligence chiefs \"naive\" and \"wrong\" on Iran and added that they should perhaps \"go back to school\".\n",
      "Trump claimed Iran is testing rockets, calling the country \"a source of potential danger and conflict\".\n",
      "\n",
      "\n",
      "원문 : A senior priest at the Vatican who handled cases of sexual abuse has quit after being accused of sexual abuse by a former nun. The accused priest claimed he is innocent and said he would consider taking legal action. The Vatican said in a statement that a Church investigation of the case was underway.\n",
      "실제 요약 : Vatican priest handling sex abuse cases quits over alleged sex abuse\n",
      "예측 요약 : A senior priest at the Vatican who handled cases of sexual abuse has quit after being accused of sexual abuse by a former nun.\n",
      "The accused priest claimed he is innocent and said he would consider taking legal action.\n",
      "The Vatican said in a statement that a Church investigation of the case was underway.\n",
      "\n",
      "\n",
      "원문 : A 22-year-old writer turned down a job offer, claiming she was bullied to the point of tears during her two-hour interview by a UK company's CEO. Olivia Bland added the \"brutal\" interview brought back painful memories of her abusive relationship. \"I am so sorry that anyone has been hurt, it is never my intent,\" Web Applications CEO Craig Dean replied. \n",
      "실제 요약 : Woman rejects job after CEO bullies her in interview; he apologises\n",
      "예측 요약 : A 22-year-old writer turned down a job offer, claiming she was bullied to the point of tears during her two-hour interview by a UK company's CEO.\n",
      "\"I am so sorry that anyone has been hurt, it is never my intent,\" Web Applications CEO Craig Dean replied.\n",
      "\n",
      "\n",
      "원문 : Noida Police has arrested Sector 20 station in-charge Manoj Pant and three journalists for allegedly extorting money from a call centre owner for removing his name from an FIR. The four were caught while taking bribe money of Ã¢ÂÂ¹8 lakh, police said. Pant was the lead investigator in the Paytm extortion case involving Founder Vijay Shekhar Sharma's secretary Sonia Dhawan.\n",
      "실제 요약 : Police officer probing Paytm extortion case arrested for extortion\n",
      "예측 요약 : Noida Police has arrested Sector 20 station in-charge Manoj Pant and three journalists for allegedly extorting money from a call centre owner for removing his name from an FIR.\n",
      "The four were caught while taking bribe money of Ã¢ÂÂ¹8 lakh, police said.\n",
      "\n",
      "\n",
      "원문 : Airtel on Wednesday said that Qatar's sovereign wealth fund Qatar Investment Authority will invest $200 million through a primary equity issuance in Airtel Africa. India's second-largest telecom operator's Africa unit recently raised $1.25 billion from six investors. Airtel Africa, the holding company for Airtel's operations in 14 African countries, is preparing for an initial public offering.\n",
      "실제 요약 : Qatar to invest $200 million in Airtel Africa\n",
      "예측 요약 : Airtel on Wednesday said that Qatar's sovereign wealth fund Qatar Investment Authority will invest $200 million through a primary equity issuance in Airtel Africa.\n",
      "India's second-largest telecom operator's Africa unit recently raised $1.25 billion from six investors.\n",
      "Airtel Africa, the holding company for Airtel's operations in 14 African countries, is preparing for an initial public offering.\n",
      "\n",
      "\n",
      "원문 : Actor Shreyas Talpade said that 'Golmaal' filmmaker Rohit Shetty is still working on the script for the fifth instalment of the 'Golmaal' film franchise. \"He was telling us the other day that he...cracked some story. Once he's done with the...scripting, he'll take a call,Ã¢ÂÂ the actor added. The series features Shreyas along with Ajay Devgn, Arshad Warsi and Tusshar Kapoor.\n",
      "실제 요약 : Rohit Shetty still working on script for Golmaal 5: Shreyas\n",
      "예측 요약 : Actor Shreyas Talpade said that 'Golmaal' filmmaker Rohit Shetty is still working on the script for the fifth instalment of the 'Golmaal' film franchise.\n",
      "Once he's done with the...scripting, he'll take a call,Ã¢ÂÂ the actor added.\n",
      "The series features Shreyas along with Ajay Devgn, Arshad Warsi and Tusshar Kapoor.\n",
      "\n",
      "\n",
      "원문 : A 72-year-old man named Terry Sanderson has sued 'Avengers' actress Gwyneth Paltrow for allegedly crashing into him while skiing, and is seeking $3.1 million (over Ã¢ÂÂ¹22 crore) in damages. The lawsuit states the actress got up and skied away after knocking the man down, leaving him with broken ribs. The incident reportedly took place in 2016 in Utah, US. \n",
      "실제 요약 : Man sues Avengers actress Gwyneth for Ã¢ÂÂ¹22 crore over ski crash\n",
      "예측 요약 : A 72-year-old man named Terry Sanderson has sued 'Avengers' actress Gwyneth Paltrow for allegedly crashing into him while skiing, and is seeking $3.1 million (over Ã¢ÂÂ¹22 crore) in damages.\n",
      "The lawsuit states the actress got up and skied away after knocking the man down, leaving him with broken ribs.\n",
      "\n",
      "\n",
      "원문 : Yami Gautam was felicitated by Border Security Force (BSF) in Amritsar for her performance in 'Uri: The Surgical Strike'. \"BSF is the first line of defence of our country and it gives me...pride to have met them,\" Yami said. The film, which also stars Vicky Kaushal, is based on the Indian Army's surgical strike operation which took place in 2016.\n",
      "실제 요약 : Yami Gautam felicitated by BSF for performance in 'Uri...'\n",
      "예측 요약 : Yami Gautam was felicitated by Border Security Force (BSF) in Amritsar for her performance in 'Uri: The Surgical Strike'.\n",
      "\"BSF is the first line of defence of our country and it gives me...pride to have met them,\" Yami said.\n",
      "The film, which also stars Vicky Kaushal, is based on the Indian Army's surgical strike operation which took place in 2016.\n",
      "\n",
      "\n",
      "원문 : Social media giant Facebook has hired privacy critic Nate Cardozo, formerly the top legal counsel for US privacy watchdog EFF, as a privacy policy manager for WhatsApp. Cardozo had called Facebook a \"faceless corporation\" whose business model depends on user's confusion and indifference about privacy, in October 2015. Facebook has also hired attorney Robyn Greene as its privacy policy manager.\n",
      "실제 요약 : Facebook hires its privacy critic as privacy policy manager\n",
      "예측 요약 : Social media giant Facebook has hired privacy critic Nate Cardozo, formerly the top legal counsel for US privacy watchdog EFF, as a privacy policy manager for WhatsApp. Cardozo had called Facebook a \"faceless corporation\" whose business model depends on user's confusion and indifference about privacy, in October 2015.\n",
      "\n",
      "\n",
      "원문 : Apple CEO Tim Cook said the company plans to lower some iPhones' prices in markets with currencies that weakened against the US dollar in the past year. \"WeÃ¢ÂÂve decided to go back to (iPhone prices) more commensurate with...local prices...a year ago,\" Cook added. The price cuts, in hopes of increasing sales, are reportedly occurring for second time in 12 years.\n",
      "실제 요약 : Apple to cut some iPhones' prices outside US over strong dollar\n",
      "예측 요약 : Apple CEO Tim Cook said the company plans to lower some iPhones' prices in markets with currencies that weakened against the US dollar in the past year.\n",
      "\"WeÃ¢ÂÂve decided to go back to (iPhone prices) more commensurate with...local prices...a year ago,\" Cook added.\n",
      "\n",
      "\n",
      "원문 : Scientists in Australia's Flinders University are testing a wetsuit prototype that could protect its wearer after a shark attack. The suit, made of synthetic material similar to the material used in bulletproof vests, could help reduce blood loss after a shark attack. \"The majority of fatalities from shark bites is due to blood loss...shock from blood loss,\" a scientist said.\n",
      "실제 요약 : Scientists test wetsuit to protect wearer after shark attack\n",
      "예측 요약 : The suit, made of synthetic material similar to the material used in bulletproof vests, could help reduce blood loss after a shark attack.\n",
      "\"The majority of fatalities from shark bites is due to blood loss...shock from blood loss,\" a scientist said.\n",
      "\n",
      "\n",
      "원문 : BJP National Secretary Rahul Sinha on Wednesday asked the party workers in West Bengal to come armed with sticks to PM Narendra Modi's rally in the state on February 2. His statement came a day after clashes broke out following BJP chief Amit Shah's WB rally. Sinha added the TMC is indulged in violence as they're afraid of BJP's strength.\n",
      "실제 요약 : Come armed with sticks for PM Modi's rally in WB: BJP leader\n",
      "예측 요약 : BJP National Secretary Rahul Sinha on Wednesday asked the party workers in West Bengal to come armed with sticks to PM Narendra Modi's rally in the state on February 2.\n",
      "Sinha added the TMC is indulged in violence as they're afraid of BJP's strength.\n",
      "\n",
      "\n",
      "원문 : BJP President Amit Shah on Wednesday took a dig at the Opposition parties saying that the 'mahagathbandhan' for the Opposition is 4B - \"Bua-Bhatija-Bhai-Behen\". He added that 4B for the BJP meant \"Badhta Bharat, Banta Bharat\". He said Opposition's government cannot take the country ahead and \"only Modiji can provide a 'mazboot' (strong) government\".\n",
      "실제 요약 : '4B' for Opposition is 'Bua-Bhatija-Bhai-Behen': Amit Shah\n",
      "예측 요약 : BJP President Amit Shah on Wednesday took a dig at the Opposition parties saying that the 'mahagathbandhan' for the Opposition is 4B - \"Bua-Bhatija-Bhai-Behen\".\n",
      "He added that 4B for the BJP meant \"Badhta Bharat, Banta Bharat\".\n",
      "He said Opposition's government cannot take the country ahead and \"only Modiji can provide a 'mazboot' (strong) government\".\n",
      "\n",
      "\n",
      "원문 : German automaker Volkswagen Group has retained the car industry's top spot in global sales, beating its Japanese rival Toyota. Volkswagen's sales, including its MAN and Scania heavy trucks and buses, rose 0.9% to 10.83 million in 2018, the company had said. Toyota came second with around 10.6 million deliveries, including its affiliated brands Daihatsu and Hino, in 2018.\n",
      "실제 요약 : Volkswagen retains top spot in global sales, beats Toyota\n",
      "예측 요약 : German automaker Volkswagen Group has retained the car industry's top spot in global sales, beating its Japanese rival Toyota.\n",
      "Volkswagen's sales, including its MAN and Scania heavy trucks and buses, rose 0.9% to 10.83 million in 2018, the company had said.\n",
      "Toyota came second with around 10.6 million deliveries, including its affiliated brands Daihatsu and Hino, in 2018.\n",
      "\n",
      "\n",
      "원문 : Ousted Nissan Chairman Carlos Ghosn has said his arrest over alleged financial misconduct was led by \"plot and treason\" by the Japanese carmaker's executives who opposed its deeper integration with Renault and Mitsubishi. Ghosn added he had discussed the integration plans with Nissan's CEO in September, a month before his arrest. He further said he wouldn't flee if granted bail.\n",
      "실제 요약 : Plot, treason by Nissan executives led to my arrest: Ghosn\n",
      "예측 요약 : Ousted Nissan Chairman Carlos Ghosn has said his arrest over alleged financial misconduct was led by \"plot and treason\" by the Japanese carmaker's executives who opposed its deeper integration with Renault and Mitsubishi.\n",
      "Ghosn added he had discussed the integration plans with Nissan's CEO in September, a month before his arrest.\n",
      "\n",
      "\n",
      "원문 : The government has cut down customs duty on import of parts and components for electric vehicles to 10-15%, down from the previous 15-30%. The Central Board of Indirect Taxes and Customs said disassembled parts will attract 10% duty, whereas 15% will be levied on pre-assembled packs. However, fully built electric vehicles will continue to attract 25% import duty.\n",
      "실제 요약 : Govt cuts customs duty on electric vehicle parts to 10-15%\n",
      "예측 요약 : The government has cut down customs duty on import of parts and components for electric vehicles to 10-15%, down from the previous 15-30%.\n",
      "The Central Board of Indirect Taxes and Customs said disassembled parts will attract 10% duty, whereas 15% will be levied on pre-assembled packs.\n",
      "However, fully built electric vehicles will continue to attract 25% import duty.\n",
      "\n",
      "\n",
      "원문 : Government officials on Wednesday said that a swine flu outbreak has killed 76 people this year in Rajasthan. Colder weather has worsened the seasonal outbreak of the H1N1 virus in the country, officials added. Rajasthan recorded more than a third of all swine flu deaths in India with Jodhpur being the worst affected area in the state, officials said.\n",
      "실제 요약 : Swine flu outbreak kills 76 in Rajasthan\n",
      "예측 요약 : Government officials on Wednesday said that a swine flu outbreak has killed 76 people this year in Rajasthan.\n",
      "Rajasthan recorded more than a third of all swine flu deaths in India with Jodhpur being the worst affected area in the state, officials said.\n",
      "\n",
      "\n",
      "원문 : North Korea is \"unlikely to completely give up its nuclear weapons and production capabilities\", Director of US' National Intelligence, Daniel Coats, said. \"North Korean leaders view nuclear arms as critical to regime survival,\" he added. His statements come despite North Korea's agreement with the US at the Singapore summit last year to denuclearise the Korean Peninsula. \n",
      "실제 요약 : N Korea unlikely to give up nuclear weapons: US intelligence chief\n",
      "예측 요약 : North Korea is \"unlikely to completely give up its nuclear weapons and production capabilities\", Director of US' National Intelligence, Daniel Coats, said.\n",
      "\"North Korean leaders view nuclear arms as critical to regime survival,\" he added.\n",
      "His statements come despite North Korea's agreement with the US at the Singapore summit last year to denuclearise the Korean Peninsula.\n",
      "\n",
      "\n",
      "원문 : Jet Airways on Wednesday denied it was directed by GE Capital Aviation Services to ground its aircraft due to non-payment of dues. The airline said it's in the process of delivering three aircraft to lessors due to the expiry of lease terms. Further, three aircraft have been temporarily grounded to carry out an engine normalisation exercise, it added.\n",
      "실제 요약 : Jet Airways denies being told to ground aircraft\n",
      "예측 요약 : Jet Airways on Wednesday denied it was directed by GE Capital Aviation Services to ground its aircraft due to non-payment of dues.\n",
      "The airline said it's in the process of delivering three aircraft to lessors due to the expiry of lease terms.\n",
      "Further, three aircraft have been temporarily grounded to carry out an engine normalisation exercise, it added.\n",
      "\n",
      "\n",
      "원문 : Retired Justice Srikrishna's enquiry panel has found that ex-CEO Chanda Kochhar violated ICICI Bank's code of conduct. The bank said it'll treat Kochhar's exit as termination and will take back all bonuses paid to her from April 2009 until March 2018. The CBI recently filed a case against Kochhar, her husband, and Videocon MD in the ICICI-Videocon loan case.\n",
      "실제 요약 : ICICI fires Chanda Kochhar, to take back bonuses paid in last 9 yrs\n",
      "예측 요약 : Retired Justice Srikrishna's enquiry panel has found that ex-CEO Chanda Kochhar violated ICICI Bank's code of conduct.\n",
      "The bank said it'll treat Kochhar's exit as termination and will take back all bonuses paid to her from April 2009 until March 2018.\n",
      "The CBI recently filed a case against Kochhar, her husband, and Videocon MD in the ICICI-Videocon loan case.\n",
      "\n",
      "\n",
      "원문 : Ex-India cricketer Jacob Martin has been shifted to general ward from the ICU after being on a ventilator for nearly a month following a road accident, wherein he severely injured his lungs. Martin's wife Khyati mentioned there are chances that Jacob will be in hospital for two more months. BCCI, CSK and various cricketers provided financial assistance for Martin's treatment.\n",
      "실제 요약 : Ex-cricketer Martin out of ICU after being on ventilator for a month\n",
      "예측 요약 : Ex-India cricketer Jacob Martin has been shifted to general ward from the ICU after being on a ventilator for nearly a month following a road accident, wherein he severely injured his lungs.\n",
      "Martin's wife Khyati mentioned there are chances that Jacob will be in hospital for two more months.\n",
      "\n",
      "\n",
      "원문 : Sri Lanka all-rounder Thisara Perera has written to Sri Lanka Cricket CEO Ashley de Silva, asking the board to intervene after ODI captain Lasith Malinga's wife Tanya targeted him on Facebook. Tanya accused Perera of meeting country's Sports Minister to secure his place in the team. \"We've become laughing stock of whole country...because of one person's personal vendetta,\" Perera wrote.\n",
      "실제 요약 : Malinga's wife targets Perera on Facebook, he seeks board's help\n",
      "예측 요약 : Sri Lanka all-rounder Thisara Perera has written to Sri Lanka Cricket CEO Ashley de Silva, asking the board to intervene after ODI captain Lasith Malinga's wife Tanya targeted him on Facebook.\n",
      "Tanya accused Perera of meeting country's Sports Minister to secure his place in the team.\n",
      "\"We've become laughing stock of whole country...because of one person's personal vendetta,\" Perera wrote.\n",
      "\n",
      "\n",
      "원문 : Goa CM and ex-Defence Minister Manohar Parrikar has written a letter to Congress President Rahul Gandhi over his claim that Parrikar told him he has nothing to do with new Rafale deal. Parrikar wrote, \"Kindly do not use your visit to an ailing person to feed political opportunism.\" In their five-minute meeting, they didn't discuss anything about Rafale, he added.\n",
      "실제 요약 : Don't use visit to ailing man for political gains: Goa CM to Rahul\n",
      "예측 요약 : Goa CM and ex-Defence Minister Manohar Parrikar has written a letter to Congress President Rahul Gandhi over his claim that Parrikar told him he has nothing to do with new Rafale deal.\n",
      "Parrikar wrote, \"Kindly do not use your visit to an ailing person to feed political opportunism.\" In their five-minute meeting, they didn't discuss anything about Rafale, he added.\n",
      "\n",
      "\n",
      "원문 : Prime Minister Narendra Modi stopped his speech at the inauguration of the new terminal building at Surat airport after observing that a cameraman had fainted. PM Modi then asked his officers to urgently arrange for an ambulance for the cameraman. \"It's good that PM was paying attention to his surroundings during his speech,\" the cameraman later said from a hospital. \n",
      "실제 요약 : PM Modi stops speech after cameraman faints, asks officers to help\n",
      "예측 요약 : Prime Minister Narendra Modi stopped his speech at the inauguration of the new terminal building at Surat airport after observing that a cameraman had fainted.\n",
      "PM Modi then asked his officers to urgently arrange for an ambulance for the cameraman.\n",
      "\"It's good that PM was paying attention to his surroundings during his speech,\" the cameraman later said from a hospital.\n",
      "\n",
      "\n",
      "원문 : A couple got divorced minutes after their wedding ceremony got over in Gujarat's Gondal as a disagreement broke out and relatives from both sides started throwing dishes at each other during lunch. The advocates representing both sides arrived at the marriage hall and got the couple divorced within minutes. The couple even reportedly returned the gifts exchanged during the ceremony.\n",
      "실제 요약 : Couple divorces minutes after marriage as families fight over lunch\n",
      "예측 요약 : A couple got divorced minutes after their wedding ceremony got over in Gujarat's Gondal as a disagreement broke out and relatives from both sides started throwing dishes at each other during lunch.\n",
      "The advocates representing both sides arrived at the marriage hall and got the couple divorced within minutes.\n",
      "\n",
      "\n",
      "원문 : Gujarat Education Minister Bhupendrasinh Chudasma has written a congratulatory message to a yoga ashram run by rape-convict Asaram's organisation for observing February 14 as \"Matru-Pitru Pujan Divas\" (Mother-Father worship day). After the Congress termed the letter as \"unfortunate\", saying it \"shows the nexus between BJP and godman\", Chudasma clarified, \"All I have done is sent best wishes.\" \n",
      "실제 요약 : Minister praises rape-convict Asaram over Matru-Pitru Divas\n",
      "예측 요약 : Gujarat Education Minister Bhupendrasinh Chudasma has written a congratulatory message to a yoga ashram run by rape-convict Asaram's organisation for observing February 14 as \"Matru-Pitru Pujan Divas\" (Mother-Father worship day).\n",
      "After the Congress termed the letter as \"unfortunate\", saying it \"shows the nexus between BJP and godman\", Chudasma clarified, \"All I have done is sent best wishes.\" \n",
      "\n",
      "\n",
      "원문 : Venezuelan President NicolÃÂ¡s Maduro has claimed that his American counterpart Donald Trump ordered the Colombian government and the Colombian mafia to kill him. \"If something happens to me, Trump and Colombian President IvÃÂ¡n MÃÂ¡rquez will bear responsibility,\" he added. The US has blamed Maduro for the economic crisis in Venezuela and recognised opposition leader Juan GuaidÃÂ³ as interim President.\n",
      "실제 요약 : Trump ordered to kill me: Venezuela President Maduro\n",
      "예측 요약 : Venezuelan President NicolÃÂ¡s Maduro has claimed that his American counterpart Donald Trump ordered the Colombian government and the Colombian mafia to kill him.\n",
      "\"If something happens to me, Trump and Colombian President IvÃÂ¡n MÃÂ¡rquez will bear responsibility,\" he added.\n",
      "The US has blamed Maduro for the economic crisis in Venezuela and recognised opposition leader Juan GuaidÃÂ³ as interim President.\n",
      "\n",
      "\n",
      "원문 : Eight Asian billionaires aged 90 or above on the Bloomberg Billionaires Index of world's 500 richest people have a combined net worth of $125 billion. The richest among them is Hong Kong's Li Ka Shing with a net worth of $30.5 billion. India's 90-year-old Pallonji Mistry, who controls 18.3% of Tata Sons through Shapoorji Pallonji Group, is worth $20.1 billion.\n",
      "실제 요약 : 8 Asian billionaires aged over 90, including Mistry, control $125bn\n",
      "예측 요약 : Eight Asian billionaires aged 90 or above on the Bloomberg Billionaires Index of world's 500 richest people have a combined net worth of $125 billion.\n",
      "The richest among them is Hong Kong's Li Ka Shing with a net worth of $30.5 billion.\n",
      "\n",
      "\n",
      "원문 : Tamil Nadu food safety officials on Wednesday raided and seized 1,000 kgs of banned plastic items from Hotel Saravana Bhavan in Chennai's Vadapalani. Officials began a surprise check in the branch at 8 am. The state government had banned single-use plastics from January 1 and said the banned items should be handed over at the offices of the city corporation.\n",
      "실제 요약 : 1,000 kg banned plastic seized from Saravana Bhavan in Chennai\n",
      "예측 요약 : Tamil Nadu food safety officials on Wednesday raided and seized 1,000 kgs of banned plastic items from Hotel Saravana Bhavan in Chennai's Vadapalani.\n",
      "The state government had banned single-use plastics from January 1 and said the banned items should be handed over at the offices of the city corporation.\n",
      "\n",
      "\n",
      "원문 : Actress Shamita Shetty was verbally abused and her driver was slapped in an incident of road rage in Mumbai on Tuesday, as per reports. The incident reportedly took place after a motorist who was accompanied by two friends, rammed his vehicle into Shamita's car. The men allegedly manhandled and threatened Shamita's driver when he stepped out to inspect the damage. \n",
      "실제 요약 : Shamita Shetty abused, driver slapped after accident: Report\n",
      "예측 요약 : Actress Shamita Shetty was verbally abused and her driver was slapped in an incident of road rage in Mumbai on Tuesday, as per reports.\n",
      "The incident reportedly took place after a motorist who was accompanied by two friends, rammed his vehicle into Shamita's car.\n",
      "\n",
      "\n",
      "원문 : Actress Vaani Kapoor said that trolling has become a norm on social media, adding, \"There's no one who hasn't got trolled on social media.\" \"Everybody is out there to pull the other person down but it'll only bother [you] if you let it bother you,\" Vaani added. She further said, social media offers a platform \"where people enjoy belittling everybody\". \n",
      "실제 요약 : Trolling has become the norm on social media: Vaani\n",
      "예측 요약 : Actress Vaani Kapoor said that trolling has become a norm on social media, adding, \"There's no one who hasn't got trolled on social media.\" \"Everybody is out there to pull the other person down but it'll only bother [you] if you let it bother you,\" Vaani added.\n",
      "\n",
      "\n",
      "원문 : Actress Sushmita Sen took to Instagram to share a joke on the subject of marriage. \"Whoever invented marriage was creepy as hell. Like I love you so much IÃ¢ÂÂm gonna get the government involved so you canÃ¢ÂÂt leave,\" Sushmita's post read. \"This is an insult to [the] beauty of marriage,\" an Instagram user commented on her post.\n",
      "실제 요약 : Whoever invented marriage was creepy as hell: Sushmita posts joke\n",
      "예측 요약 : Actress Sushmita Sen took to Instagram to share a joke on the subject of marriage.\n",
      "\"Whoever invented marriage was creepy as hell.\n",
      "Like I love you so much IÃ¢ÂÂm gonna get the government involved so you canÃ¢ÂÂt leave,\" Sushmita's post read.\n",
      "\"This is an insult to [the] beauty of marriage,\" an Instagram user commented on her post.\n",
      "\n",
      "\n",
      "원문 : Television actor Karanvir Bohra, who flew to Russia on Tuesday to attend a film festival, has been detained in Moscow due to passport damage. \"They [are] contemplating to deport me back to India,\" the actor wrote on Twitter. The Indian embassy in Russia's capital responded to his tweet and said that they were looking into the issue. \n",
      "실제 요약 : Actor Karanvir Bohra detained in Russia over passport damage\n",
      "예측 요약 : Television actor Karanvir Bohra, who flew to Russia on Tuesday to attend a film festival, has been detained in Moscow due to passport damage.\n",
      "\"They [are] contemplating to deport me back to India,\" the actor wrote on Twitter.\n",
      "The Indian embassy in Russia's capital responded to his tweet and said that they were looking into the issue.\n",
      "\n",
      "\n",
      "원문 : While speaking about winning awards for his films, Shah Rukh Khan said, \"If I don't get an award, that award is at a loss.\" \"Sometimes, the prestige of an award increases when I receive it,\" the actor jokingly added. Shah Rukh further said that he was \"extremely ambitious\" but in a \"fair manner\". \n",
      "실제 요약 : If I don't get an award, that award is at loss: SRK\n",
      "예측 요약 : While speaking about winning awards for his films, Shah Rukh Khan said, \"If I don't get an award, that award is at a loss.\" \"Sometimes, the prestige of an award increases when I receive it,\" the actor jokingly added.\n",
      "Shah Rukh further said that he was \"extremely ambitious\" but in a \"fair manner\".\n",
      "\n",
      "\n",
      "원문 : Actress Patralekhaa will make her debut in the Kannada film industry with the action-comedy film 'Where is my Kannadaka?' \"I can definitely say that itÃ¢ÂÂs a kind of role that I havenÃ¢ÂÂt portrayed on screen so far and that makes it special for me,\" the actress said in a statement. Shooting for the film will reportedly begin in April.\n",
      "실제 요약 : Actress Patralekhaa to make her Kannada film debut \n",
      "예측 요약 : Actress Patralekhaa will make her debut in the Kannada film industry with the action-comedy film 'Where is my Kannadaka?' \"I can definitely say that itÃ¢ÂÂs a kind of role that I havenÃ¢ÂÂt portrayed on screen so far and that makes it special for me,\" the actress said in a statement.\n",
      "\n",
      "\n",
      "원문 : Gmail on Tuesday faced a global outage, which also affected India, wherein certain users complained they faced a '404 error' message while trying to sign-in to their accounts. The error message read: \"The requested URL was not found on this server. That's all we know.\" Google responded saying \"problem with Gmail should be resolved (now). We apologise for the inconvenience\".\n",
      "실제 요약 : Gmail faces temporary global outage, users face '404 error'\n",
      "예측 요약 : Gmail on Tuesday faced a global outage, which also affected India, wherein certain users complained they faced a '404 error' message while trying to sign-in to their accounts.\n",
      "The error message read: \"The requested URL was not found on this server.\n",
      "That's all we know.\" Google responded saying \"problem with Gmail should be resolved (now).\n",
      "\n",
      "\n",
      "원문 : Shiv Sena chief Uddhav Thackeray has asked the BJP to decide about the alliance with the Sena within 15 days and said the BJP should make a concrete proposal on the alliance. Thackeray added that only if the BJP agrees to Sena's terms and conditions, the party will agree for an alliance. Sena is free to fight independently, he said. \n",
      "실제 요약 : Decide about an alliance within 15 days: Uddhav to BJP\n",
      "예측 요약 : Shiv Sena chief Uddhav Thackeray has asked the BJP to decide about the alliance with the Sena within 15 days and said the BJP should make a concrete proposal on the alliance.\n",
      "Thackeray added that only if the BJP agrees to Sena's terms and conditions, the party will agree for an alliance.\n",
      "\n",
      "\n",
      "원문 : BJP President Amit Shah on Wednesday took a dig at the Opposition's proposed grand alliance saying if the \"mahagathbandhan comes to power, each opposition leader will be a Prime Minister every day of the week\". He added, \"[The] country will go on...holiday on Sunday\". He said the Opposition is thinking about leading the country but does not have a leader.\n",
      "실제 요약 : Grand alliance, if wins, will see a new PM every day: Shah\n",
      "예측 요약 : BJP President Amit Shah on Wednesday took a dig at the Opposition's proposed grand alliance saying if the \"mahagathbandhan comes to power, each opposition leader will be a Prime Minister every day of the week\".\n",
      "He said the Opposition is thinking about leading the country but does not have a leader.\n",
      "\n",
      "\n",
      "원문 : Prime Minister Narendra Modi on Wednesday said his government's demonetisation decision made houses affordable for the aspiring youth. He added decisions like demonetisation and RERA have put a check on black money that used to be \"parked in the real estate sector\". He said 'UDAN' (Ude Desh ka Aam Nagrik) scheme has boosted the development of the country's aviation sector.\n",
      "실제 요약 : Demonetisation made homes affordable for youth: PM Modi\n",
      "예측 요약 : Prime Minister Narendra Modi on Wednesday said his government's demonetisation decision made houses affordable for the aspiring youth.\n",
      "He added decisions like demonetisation and RERA have put a check on black money that used to be \"parked in the real estate sector\".\n",
      "\n",
      "\n"
     ]
    }
   ],
   "source": [
    "for e in data.values[50:100]:\n",
    "    headlines, text = e[0], e[1]\n",
    "    print(\"원문 :\", text)\n",
    "    print(\"실제 요약 :\", headlines)\n",
    "    print(\"예측 요약 :\", summarize(text, words=50))\n",
    "    print(\"\\n\")"
   ]
  },
  {
   "cell_type": "markdown",
   "id": "lightweight-associate",
   "metadata": {},
   "source": [
    "## 비교\n",
    "Summa을 이용하였을 때 알수없는 문자, 공백, 괄호, 따옴표 등이 발생하지만 문법적 측면에서는 더 우수하다고 느껴진다."
   ]
  },
  {
   "cell_type": "markdown",
   "id": "responsible-steel",
   "metadata": {},
   "source": [
    "## 회고\n",
    "- 이번 프로젝트에서 어려웠던 점\n",
    "    - 요약하는 알고리즘을 처음 접하면서 모델을 파악하는데 많은 시간이 걸렸다.\n",
    "- 프로젝트를 진행하면서 알아낸 점 혹은 아직 모호한 점\n",
    "    - 어느 정도 이해는 됐지만, 정확히 어떤 방식으로 전처리를 해야할지 모호하다.\n",
    "- 자기 다짐\n",
    "    - 새로운 것을 계속 배우면서 점점 쌓는 방식으로 해야겠다."
   ]
  }
 ],
 "metadata": {
  "kernelspec": {
   "display_name": "Python 3",
   "language": "python",
   "name": "python3"
  },
  "language_info": {
   "codemirror_mode": {
    "name": "ipython",
    "version": 3
   },
   "file_extension": ".py",
   "mimetype": "text/x-python",
   "name": "python",
   "nbconvert_exporter": "python",
   "pygments_lexer": "ipython3",
   "version": "3.7.9"
  }
 },
 "nbformat": 4,
 "nbformat_minor": 5
}
