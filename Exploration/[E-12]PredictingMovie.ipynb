{
 "cells": [
  {
   "cell_type": "markdown",
   "id": "unsigned-arcade",
   "metadata": {},
   "source": [
    "# 라이브러리 import"
   ]
  },
  {
   "cell_type": "code",
   "execution_count": 183,
   "id": "caroline-prison",
   "metadata": {},
   "outputs": [],
   "source": [
    "import datetime as dt\n",
    "import time\n",
    "from pathlib import Path\n",
    "import os\n",
    "\n",
    "import numpy as np\n",
    "import pandas as pd\n",
    "import matplotlib.pyplot as plt\n",
    "import warnings\n",
    "warnings.filterwarnings('ignore')\n",
    "\n",
    "import numpy as np\n",
    "import tensorflow as tf\n",
    "from tensorflow.keras.layers import Input, Dense, Dropout, GRU\n",
    "from tensorflow.keras.losses import categorical_crossentropy\n",
    "from tensorflow.keras.models import Model\n",
    "from tensorflow.keras.optimizers import Adam\n",
    "from tensorflow.keras.utils import to_categorical\n",
    "from tqdm import tqdm"
   ]
  },
  {
   "cell_type": "markdown",
   "id": "alternative-disposal",
   "metadata": {},
   "source": [
    "# 데이터 로드"
   ]
  },
  {
   "cell_type": "code",
   "execution_count": 184,
   "id": "streaming-humor",
   "metadata": {},
   "outputs": [
    {
     "data": {
      "text/html": [
       "<div>\n",
       "<style scoped>\n",
       "    .dataframe tbody tr th:only-of-type {\n",
       "        vertical-align: middle;\n",
       "    }\n",
       "\n",
       "    .dataframe tbody tr th {\n",
       "        vertical-align: top;\n",
       "    }\n",
       "\n",
       "    .dataframe thead th {\n",
       "        text-align: right;\n",
       "    }\n",
       "</style>\n",
       "<table border=\"1\" class=\"dataframe\">\n",
       "  <thead>\n",
       "    <tr style=\"text-align: right;\">\n",
       "      <th></th>\n",
       "      <th>UserId</th>\n",
       "      <th>ItemId</th>\n",
       "      <th>Rating</th>\n",
       "      <th>Time</th>\n",
       "    </tr>\n",
       "  </thead>\n",
       "  <tbody>\n",
       "    <tr>\n",
       "      <th>31</th>\n",
       "      <td>1</td>\n",
       "      <td>3186</td>\n",
       "      <td>4</td>\n",
       "      <td>978300019</td>\n",
       "    </tr>\n",
       "    <tr>\n",
       "      <th>22</th>\n",
       "      <td>1</td>\n",
       "      <td>1270</td>\n",
       "      <td>5</td>\n",
       "      <td>978300055</td>\n",
       "    </tr>\n",
       "    <tr>\n",
       "      <th>27</th>\n",
       "      <td>1</td>\n",
       "      <td>1721</td>\n",
       "      <td>4</td>\n",
       "      <td>978300055</td>\n",
       "    </tr>\n",
       "    <tr>\n",
       "      <th>37</th>\n",
       "      <td>1</td>\n",
       "      <td>1022</td>\n",
       "      <td>5</td>\n",
       "      <td>978300055</td>\n",
       "    </tr>\n",
       "    <tr>\n",
       "      <th>24</th>\n",
       "      <td>1</td>\n",
       "      <td>2340</td>\n",
       "      <td>3</td>\n",
       "      <td>978300103</td>\n",
       "    </tr>\n",
       "    <tr>\n",
       "      <th>...</th>\n",
       "      <td>...</td>\n",
       "      <td>...</td>\n",
       "      <td>...</td>\n",
       "      <td>...</td>\n",
       "    </tr>\n",
       "    <tr>\n",
       "      <th>1000019</th>\n",
       "      <td>6040</td>\n",
       "      <td>2917</td>\n",
       "      <td>4</td>\n",
       "      <td>997454429</td>\n",
       "    </tr>\n",
       "    <tr>\n",
       "      <th>999988</th>\n",
       "      <td>6040</td>\n",
       "      <td>1921</td>\n",
       "      <td>4</td>\n",
       "      <td>997454464</td>\n",
       "    </tr>\n",
       "    <tr>\n",
       "      <th>1000172</th>\n",
       "      <td>6040</td>\n",
       "      <td>1784</td>\n",
       "      <td>3</td>\n",
       "      <td>997454464</td>\n",
       "    </tr>\n",
       "    <tr>\n",
       "      <th>1000167</th>\n",
       "      <td>6040</td>\n",
       "      <td>161</td>\n",
       "      <td>3</td>\n",
       "      <td>997454486</td>\n",
       "    </tr>\n",
       "    <tr>\n",
       "      <th>1000042</th>\n",
       "      <td>6040</td>\n",
       "      <td>1221</td>\n",
       "      <td>4</td>\n",
       "      <td>998315055</td>\n",
       "    </tr>\n",
       "  </tbody>\n",
       "</table>\n",
       "<p>1000209 rows × 4 columns</p>\n",
       "</div>"
      ],
      "text/plain": [
       "         UserId  ItemId  Rating       Time\n",
       "31            1    3186       4  978300019\n",
       "22            1    1270       5  978300055\n",
       "27            1    1721       4  978300055\n",
       "37            1    1022       5  978300055\n",
       "24            1    2340       3  978300103\n",
       "...         ...     ...     ...        ...\n",
       "1000019    6040    2917       4  997454429\n",
       "999988     6040    1921       4  997454464\n",
       "1000172    6040    1784       3  997454464\n",
       "1000167    6040     161       3  997454486\n",
       "1000042    6040    1221       4  998315055\n",
       "\n",
       "[1000209 rows x 4 columns]"
      ]
     },
     "execution_count": 184,
     "metadata": {},
     "output_type": "execute_result"
    }
   ],
   "source": [
    "data_path = Path(os.getenv('HOME')+'/aiffel/yoochoose/data/') \n",
    "train_path = data_path / 'ratings.dat'\n",
    "\n",
    "def load_data(data_path: Path, nrows=None):\n",
    "    data = pd.read_csv(data_path, sep='::', header=None, usecols=[0, 1, 2, 3], dtype={0: np.int32, 1: np.int32, 2: np.int32}, nrows=nrows)\n",
    "    data.columns = ['UserId', 'ItemId', 'Rating', 'Time']\n",
    "    return data\n",
    "\n",
    "data = load_data(train_path, None)\n",
    "data.sort_values(['UserId', 'Time'], inplace=True)\n",
    "data"
   ]
  },
  {
   "cell_type": "code",
   "execution_count": 185,
   "id": "fixed-arizona",
   "metadata": {},
   "outputs": [
    {
     "data": {
      "text/plain": [
       "6040"
      ]
     },
     "execution_count": 185,
     "metadata": {},
     "output_type": "execute_result"
    }
   ],
   "source": [
    "# user 수\n",
    "data['UserId'].nunique()"
   ]
  },
  {
   "cell_type": "code",
   "execution_count": 186,
   "id": "lined-workshop",
   "metadata": {},
   "outputs": [
    {
     "data": {
      "text/plain": [
       "3706"
      ]
     },
     "execution_count": 186,
     "metadata": {},
     "output_type": "execute_result"
    }
   ],
   "source": [
    "# item 수\n",
    "data['ItemId'].nunique()"
   ]
  },
  {
   "cell_type": "markdown",
   "id": "overall-symbol",
   "metadata": {},
   "source": [
    "# 데이터 전처리"
   ]
  },
  {
   "cell_type": "code",
   "execution_count": 187,
   "id": "suited-maine",
   "metadata": {},
   "outputs": [
    {
     "data": {
      "text/plain": [
       "UserId\n",
       "1        53\n",
       "2       129\n",
       "3        51\n",
       "4        21\n",
       "5       198\n",
       "       ... \n",
       "6036    888\n",
       "6037    202\n",
       "6038     20\n",
       "6039    123\n",
       "6040    341\n",
       "Length: 6040, dtype: int64"
      ]
     },
     "execution_count": 187,
     "metadata": {},
     "output_type": "execute_result"
    }
   ],
   "source": [
    "# user 당 몇 번의 영화평가를 남겼는지 체크 \n",
    "user_length = data.groupby('UserId').size()\n",
    "user_length"
   ]
  },
  {
   "cell_type": "code",
   "execution_count": 188,
   "id": "structural-accident",
   "metadata": {},
   "outputs": [
    {
     "data": {
      "text/plain": [
       "96.0"
      ]
     },
     "execution_count": 188,
     "metadata": {},
     "output_type": "execute_result"
    }
   ],
   "source": [
    "# user들의 영화평가 횟수 중앙값\n",
    "user_length.median()"
   ]
  },
  {
   "cell_type": "code",
   "execution_count": 189,
   "id": "resistant-block",
   "metadata": {},
   "outputs": [
    {
     "data": {
      "text/plain": [
       "165.5975165562914"
      ]
     },
     "execution_count": 189,
     "metadata": {},
     "output_type": "execute_result"
    }
   ],
   "source": [
    "# user들의 영화평가 횟수 평균\n",
    "user_length.mean()"
   ]
  },
  {
   "cell_type": "code",
   "execution_count": 190,
   "id": "structural-appeal",
   "metadata": {},
   "outputs": [
    {
     "data": {
      "text/plain": [
       "20"
      ]
     },
     "execution_count": 190,
     "metadata": {},
     "output_type": "execute_result"
    }
   ],
   "source": [
    "# user 영화평가 최저 횟수\n",
    "user_length.min()"
   ]
  },
  {
   "cell_type": "code",
   "execution_count": 191,
   "id": "clean-combat",
   "metadata": {},
   "outputs": [
    {
     "data": {
      "text/plain": [
       "2314"
      ]
     },
     "execution_count": 191,
     "metadata": {},
     "output_type": "execute_result"
    }
   ],
   "source": [
    "# user 영화평가 최대 횟수\n",
    "user_length.max()"
   ]
  },
  {
   "cell_type": "code",
   "execution_count": 192,
   "id": "precise-breeding",
   "metadata": {},
   "outputs": [
    {
     "data": {
      "text/plain": [
       "1343.181000000005"
      ]
     },
     "execution_count": 192,
     "metadata": {},
     "output_type": "execute_result"
    }
   ],
   "source": [
    "# 99.9%의 user들의 영화평가 횟수\n",
    "user_length.quantile(0.999)"
   ]
  },
  {
   "cell_type": "code",
   "execution_count": 194,
   "id": "normal-assistant",
   "metadata": {},
   "outputs": [
    {
     "data": {
      "text/plain": [
       "UserId\n",
       "889     1518\n",
       "1181    1521\n",
       "1680    1850\n",
       "1941    1595\n",
       "3618    1344\n",
       "4169    2314\n",
       "4277    1743\n",
       "dtype: int64"
      ]
     },
     "execution_count": 194,
     "metadata": {},
     "output_type": "execute_result"
    }
   ],
   "source": [
    "# 1343.2 회 이상 평가를 남긴 유저 확인\n",
    "long_user = user_length[user_length > 1343.18]\n",
    "long_user"
   ]
  },
  {
   "cell_type": "markdown",
   "id": "early-badge",
   "metadata": {},
   "source": [
    "### 이 결과로 7 명의 유저가 1343.2회 이상 영화평가를 남긴 것을 알 수 있었다."
   ]
  },
  {
   "cell_type": "markdown",
   "id": "talented-narrative",
   "metadata": {},
   "source": [
    "## 유저 길이 기준 하위 99.9%까지의 분포 누적합을 시각화"
   ]
  },
  {
   "cell_type": "code",
   "execution_count": 195,
   "id": "positive-roots",
   "metadata": {},
   "outputs": [
    {
     "data": {
      "text/plain": [
       "20      0.014238\n",
       "21      0.029305\n",
       "22      0.042053\n",
       "23      0.055464\n",
       "24      0.068874\n",
       "          ...   \n",
       "1271    0.998179\n",
       "1277    0.998344\n",
       "1286    0.998510\n",
       "1302    0.998675\n",
       "1323    0.998841\n",
       "Length: 736, dtype: float64"
      ]
     },
     "execution_count": 195,
     "metadata": {},
     "output_type": "execute_result"
    }
   ],
   "source": [
    "length_count = user_length.groupby(user_length).size()\n",
    "length_percent_cumsum = length_count.cumsum() / length_count.sum()\n",
    "length_percent_cumsum_999 = length_percent_cumsum[length_percent_cumsum < 0.999]\n",
    "\n",
    "length_percent_cumsum_999"
   ]
  },
  {
   "cell_type": "code",
   "execution_count": 196,
   "id": "raising-allen",
   "metadata": {},
   "outputs": [
    {
     "data": {
      "image/png": "[encoded data removed]",
      "text/plain": [
       "<Figure size 1440x720 with 1 Axes>"
      ]
     },
     "metadata": {
      "needs_background": "light"
     },
     "output_type": "display_data"
    }
   ],
   "source": [
    "plt.figure(figsize=(20, 10))\n",
    "plt.bar(x=length_percent_cumsum_999.index,\n",
    "        height=length_percent_cumsum_999, color='red')\n",
    "plt.xticks(length_percent_cumsum_999.index)\n",
    "plt.yticks(np.arange(0, 1.01, 0.05))\n",
    "plt.title('Cumsum Percentage Until 0.999', size=20)\n",
    "plt.show()"
   ]
  },
  {
   "cell_type": "markdown",
   "id": "hispanic-milton",
   "metadata": {},
   "source": [
    "## user들이 영화평가를 남긴 시간에 대한 정리"
   ]
  },
  {
   "cell_type": "code",
   "execution_count": 197,
   "id": "fresh-messaging",
   "metadata": {},
   "outputs": [
    {
     "name": "stdout",
     "output_type": "stream",
     "text": [
      "956703932\n",
      "1046454590\n"
     ]
    }
   ],
   "source": [
    "# 가장 오래된 평가와 최근 평가\n",
    "oldest, latest = data['Time'].min(), data['Time'].max()\n",
    "print(oldest) \n",
    "print(latest)"
   ]
  },
  {
   "cell_type": "code",
   "execution_count": 198,
   "id": "expired-spirit",
   "metadata": {},
   "outputs": [
    {
     "data": {
      "text/plain": [
       "numpy.int64"
      ]
     },
     "execution_count": 198,
     "metadata": {},
     "output_type": "execute_result"
    }
   ],
   "source": [
    "type(latest)"
   ]
  },
  {
   "cell_type": "code",
   "execution_count": 199,
   "id": "noble-chancellor",
   "metadata": {},
   "outputs": [
    {
     "name": "stdout",
     "output_type": "stream",
     "text": [
      "2000-04-25 23:05:32\n"
     ]
    }
   ],
   "source": [
    "# timestamp 형식으로 되어있으므로 datetime으로 형변환\n",
    "oldest_time = dt.datetime.fromtimestamp(oldest)\n",
    "print(oldest_time)"
   ]
  },
  {
   "cell_type": "code",
   "execution_count": 200,
   "id": "attractive-kitty",
   "metadata": {},
   "outputs": [
    {
     "name": "stdout",
     "output_type": "stream",
     "text": [
      "2003-02-28 17:49:50\n"
     ]
    }
   ],
   "source": [
    "# timestamp 형식으로 되어있으므로 datetime으로 형변환\n",
    "latest_time = dt.datetime.fromtimestamp(latest)\n",
    "print(latest_time)"
   ]
  },
  {
   "cell_type": "markdown",
   "id": "hidden-arthur",
   "metadata": {},
   "source": [
    "### 이 정보를 통해 2000년 4월 25일부터 2003년 2월 28일까지 약 3년 (34개월) 간의 데이터가 있음을 확인하였다."
   ]
  },
  {
   "cell_type": "markdown",
   "id": "pressing-functionality",
   "metadata": {},
   "source": [
    "## 영화 선택은 짧은 시간에 바뀌지 않는 개인의 취향이기 때문에 긴 시간의 데이터를 사용하기로 결정하였다."
   ]
  },
  {
   "cell_type": "code",
   "execution_count": 233,
   "id": "quality-confusion",
   "metadata": {},
   "outputs": [
    {
     "data": {
      "text/plain": [
       "960054590"
      ]
     },
     "execution_count": 233,
     "metadata": {},
     "output_type": "execute_result"
    }
   ],
   "source": [
    "# 최종 날짜로부터 1000일 이전의 timestamp를 찾음\n",
    "time_ago = latest_time - dt.timedelta(1000)\n",
    "time_ago_timestamp = int(time.mktime(time_ago.timetuple()))\n",
    "time_ago_timestamp"
   ]
  },
  {
   "cell_type": "code",
   "execution_count": 202,
   "id": "committed-suggestion",
   "metadata": {},
   "outputs": [
    {
     "data": {
      "text/html": [
       "<div>\n",
       "<style scoped>\n",
       "    .dataframe tbody tr th:only-of-type {\n",
       "        vertical-align: middle;\n",
       "    }\n",
       "\n",
       "    .dataframe tbody tr th {\n",
       "        vertical-align: top;\n",
       "    }\n",
       "\n",
       "    .dataframe thead th {\n",
       "        text-align: right;\n",
       "    }\n",
       "</style>\n",
       "<table border=\"1\" class=\"dataframe\">\n",
       "  <thead>\n",
       "    <tr style=\"text-align: right;\">\n",
       "      <th></th>\n",
       "      <th>UserId</th>\n",
       "      <th>ItemId</th>\n",
       "      <th>Rating</th>\n",
       "      <th>Time</th>\n",
       "    </tr>\n",
       "  </thead>\n",
       "  <tbody>\n",
       "    <tr>\n",
       "      <th>0</th>\n",
       "      <td>1</td>\n",
       "      <td>3186</td>\n",
       "      <td>4</td>\n",
       "      <td>978300019</td>\n",
       "    </tr>\n",
       "    <tr>\n",
       "      <th>1</th>\n",
       "      <td>1</td>\n",
       "      <td>1270</td>\n",
       "      <td>5</td>\n",
       "      <td>978300055</td>\n",
       "    </tr>\n",
       "    <tr>\n",
       "      <th>2</th>\n",
       "      <td>1</td>\n",
       "      <td>1721</td>\n",
       "      <td>4</td>\n",
       "      <td>978300055</td>\n",
       "    </tr>\n",
       "    <tr>\n",
       "      <th>3</th>\n",
       "      <td>1</td>\n",
       "      <td>1022</td>\n",
       "      <td>5</td>\n",
       "      <td>978300055</td>\n",
       "    </tr>\n",
       "    <tr>\n",
       "      <th>4</th>\n",
       "      <td>1</td>\n",
       "      <td>2340</td>\n",
       "      <td>3</td>\n",
       "      <td>978300103</td>\n",
       "    </tr>\n",
       "    <tr>\n",
       "      <th>...</th>\n",
       "      <td>...</td>\n",
       "      <td>...</td>\n",
       "      <td>...</td>\n",
       "      <td>...</td>\n",
       "    </tr>\n",
       "    <tr>\n",
       "      <th>913130</th>\n",
       "      <td>6040</td>\n",
       "      <td>2917</td>\n",
       "      <td>4</td>\n",
       "      <td>997454429</td>\n",
       "    </tr>\n",
       "    <tr>\n",
       "      <th>913131</th>\n",
       "      <td>6040</td>\n",
       "      <td>1921</td>\n",
       "      <td>4</td>\n",
       "      <td>997454464</td>\n",
       "    </tr>\n",
       "    <tr>\n",
       "      <th>913132</th>\n",
       "      <td>6040</td>\n",
       "      <td>1784</td>\n",
       "      <td>3</td>\n",
       "      <td>997454464</td>\n",
       "    </tr>\n",
       "    <tr>\n",
       "      <th>913133</th>\n",
       "      <td>6040</td>\n",
       "      <td>161</td>\n",
       "      <td>3</td>\n",
       "      <td>997454486</td>\n",
       "    </tr>\n",
       "    <tr>\n",
       "      <th>913134</th>\n",
       "      <td>6040</td>\n",
       "      <td>1221</td>\n",
       "      <td>4</td>\n",
       "      <td>998315055</td>\n",
       "    </tr>\n",
       "  </tbody>\n",
       "</table>\n",
       "<p>913135 rows × 4 columns</p>\n",
       "</div>"
      ],
      "text/plain": [
       "        UserId  ItemId  Rating       Time\n",
       "0            1    3186       4  978300019\n",
       "1            1    1270       5  978300055\n",
       "2            1    1721       4  978300055\n",
       "3            1    1022       5  978300055\n",
       "4            1    2340       3  978300103\n",
       "...        ...     ...     ...        ...\n",
       "913130    6040    2917       4  997454429\n",
       "913131    6040    1921       4  997454464\n",
       "913132    6040    1784       3  997454464\n",
       "913133    6040     161       3  997454486\n",
       "913134    6040    1221       4  998315055\n",
       "\n",
       "[913135 rows x 4 columns]"
      ]
     },
     "execution_count": 202,
     "metadata": {},
     "output_type": "execute_result"
    }
   ],
   "source": [
    "# 최종 날짜로부터 1000일 이전의 데이터만 구함\n",
    "temp_data = data[data['Time'] > time_ago_timestamp]\n",
    "cropped_data = temp_data.reset_index(drop=True)\n",
    "cropped_data"
   ]
  },
  {
   "cell_type": "markdown",
   "id": "equivalent-incidence",
   "metadata": {},
   "source": [
    "# data cleansing"
   ]
  },
  {
   "cell_type": "markdown",
   "id": "chief-sleeping",
   "metadata": {},
   "source": [
    "### 20개 이상의 영화를 본 사람과 최소 5명 이상의 사람이 본 영화만을 남긴다. (가장 적은 영화 평가를 남긴 사람이 20개이므로 조절 가능)"
   ]
  },
  {
   "cell_type": "code",
   "execution_count": 234,
   "id": "initial-horizon",
   "metadata": {},
   "outputs": [],
   "source": [
    "# short_session을 제거한 다음 unpopular item을 제거하면 다시 길이가 'shortest' 보다 작은 session이 생길 수 있다.\n",
    "# 이를 위해 반복문을 통해 지속적으로 제거 합니다.\n",
    "def cleanse_recursive(data: pd.DataFrame, shortest, least_watch) -> pd.DataFrame:\n",
    "    while True:\n",
    "        before_len = len(data)\n",
    "        data = cleanse_short_session(data, shortest)\n",
    "        data = cleanse_unpopular_item(data, least_watch)\n",
    "        after_len = len(data)\n",
    "        if before_len == after_len:\n",
    "            break\n",
    "    return data\n",
    "\n",
    "\n",
    "def cleanse_short_session(data: pd.DataFrame, shortest):\n",
    "    session_len = data.groupby('UserId').size()\n",
    "    session_use = session_len[session_len >= shortest].index\n",
    "    data = data[data['UserId'].isin(session_use)]\n",
    "    return data\n",
    "\n",
    "\n",
    "def cleanse_unpopular_item(data: pd.DataFrame, least_watch):\n",
    "    item_popular = data.groupby('ItemId').size()\n",
    "    item_use = item_popular[item_popular >= least_watch].index\n",
    "    data = data[data['ItemId'].isin(item_use)]\n",
    "    return data"
   ]
  },
  {
   "cell_type": "code",
   "execution_count": 235,
   "id": "smoking-concept",
   "metadata": {},
   "outputs": [
    {
     "data": {
      "text/plain": [
       "912020"
      ]
     },
     "execution_count": 235,
     "metadata": {},
     "output_type": "execute_result"
    }
   ],
   "source": [
    "cleaned_data = cleanse_recursive(cropped_data, shortest=20, least_watch=5)\n",
    "len(cleaned_data)"
   ]
  },
  {
   "cell_type": "markdown",
   "id": "lyric-picnic",
   "metadata": {},
   "source": [
    "# train / val / test 데이터 분리"
   ]
  },
  {
   "cell_type": "code",
   "execution_count": 236,
   "id": "agricultural-latino",
   "metadata": {},
   "outputs": [],
   "source": [
    "# data에서 시간이 timestamp로 되어있기 때문에 최근일을 기준으로 찾는 형식으로 했다. \n",
    "def split_by_date(data: pd.DataFrame, n_days: int):\n",
    "    # 최종 날짜로부터 n일 이전의 timestamp를 찾음\n",
    "    n_days_ago = latest_time - dt.timedelta(n_days)\n",
    "    n_days_ago_timestamp = int(time.mktime(n_days_ago.timetuple()))\n",
    "    \n",
    "    final_time = data['Time'].max()\n",
    "    session_last_time = data.groupby('UserId')['Time'].max()\n",
    "    session_in_train = session_last_time[session_last_time < n_days_ago_timestamp].index\n",
    "    session_in_test = session_last_time[session_last_time >= n_days_ago_timestamp].index\n",
    "\n",
    "    before_date = data[data['UserId'].isin(session_in_train)]\n",
    "    after_date = data[data['UserId'].isin(session_in_test)]\n",
    "    after_date = after_date[after_date['ItemId'].isin(before_date['ItemId'])]\n",
    "    return before_date, after_date"
   ]
  },
  {
   "cell_type": "code",
   "execution_count": 261,
   "id": "proved-honor",
   "metadata": {},
   "outputs": [],
   "source": [
    "# train : val : test = 6 : 2 : 2 정도의 비율로 하기 위해 설정했다\n",
    "tr, test = split_by_date(cleaned_data, n_days=350)\n",
    "tr, val = split_by_date(tr, n_days=800)"
   ]
  },
  {
   "cell_type": "code",
   "execution_count": 262,
   "id": "specialized-device",
   "metadata": {},
   "outputs": [],
   "source": [
    "# data에 대한 정보를 살펴봅니다.\n",
    "def stats_info(data: pd.DataFrame, status: str):\n",
    "    print(f'* {status} Set Stats Info\\n'\n",
    "          f'\\t Events: {len(data)}\\n'\n",
    "          f'\\t Users: {data[\"UserId\"].nunique()}\\n'\n",
    "          f'\\t Items: {data[\"ItemId\"].nunique()}\\n'\n",
    "          f'\\t First Time : {data[\"Time\"].min()}\\n'\n",
    "          f'\\t Last Time : {data[\"Time\"].max()}\\n')"
   ]
  },
  {
   "cell_type": "code",
   "execution_count": 263,
   "id": "intellectual-warrant",
   "metadata": {},
   "outputs": [
    {
     "name": "stdout",
     "output_type": "stream",
     "text": [
      "* train Set Stats Info\n",
      "\t Events: 550892\n",
      "\t Users: 4234\n",
      "\t Items: 3396\n",
      "\t First Time : 960055528\n",
      "\t Last Time : 977294538\n",
      "\n",
      "* valid Set Stats Info\n",
      "\t Events: 184010\n",
      "\t Users: 833\n",
      "\t Items: 3328\n",
      "\t First Time : 960075689\n",
      "\t Last Time : 1016198312\n",
      "\n",
      "* test Set Stats Info\n",
      "\t Events: 177089\n",
      "\t Users: 478\n",
      "\t Items: 3363\n",
      "\t First Time : 960054593\n",
      "\t Last Time : 1046454590\n",
      "\n"
     ]
    }
   ],
   "source": [
    "stats_info(tr, 'train')\n",
    "stats_info(val, 'valid')\n",
    "stats_info(test, 'test')"
   ]
  },
  {
   "cell_type": "code",
   "execution_count": 266,
   "id": "reasonable-rating",
   "metadata": {},
   "outputs": [],
   "source": [
    "# train set에 없는 아이템이 val, test기간에 생길 수 있으므로 train data를 기준으로 인덱싱\n",
    "id2idx = {item_id : index for index, item_id in enumerate(tr['ItemId'].unique())}\n",
    "\n",
    "def indexing(df, id2idx):\n",
    "    df['item_idx'] = df['ItemId'].map(lambda x: id2idx.get(x, -1))\n",
    "    return df\n",
    "\n",
    "tr = indexing(tr, id2idx)\n",
    "val = indexing(val, id2idx)\n",
    "test = indexing(test, id2idx)"
   ]
  },
  {
   "cell_type": "code",
   "execution_count": 267,
   "id": "piano-bahamas",
   "metadata": {},
   "outputs": [
    {
     "data": {
      "text/plain": [
       "(550892, 184010, 177089)"
      ]
     },
     "execution_count": 267,
     "metadata": {},
     "output_type": "execute_result"
    }
   ],
   "source": [
    "len(tr), len(val), len(test)"
   ]
  },
  {
   "cell_type": "code",
   "execution_count": 268,
   "id": "experimental-excuse",
   "metadata": {},
   "outputs": [],
   "source": [
    "# 데이터 저장\n",
    "save_path = data_path / 'processed'\n",
    "save_path.mkdir(parents=True, exist_ok=True)\n",
    "\n",
    "tr.to_pickle(save_path / 'train.pkl')\n",
    "val.to_pickle(save_path / 'valid.pkl')\n",
    "test.to_pickle(save_path / 'test.pkl')"
   ]
  },
  {
   "cell_type": "markdown",
   "id": "given-orange",
   "metadata": {},
   "source": [
    "# 미니배치 구성"
   ]
  },
  {
   "cell_type": "code",
   "execution_count": 269,
   "id": "written-knowing",
   "metadata": {},
   "outputs": [],
   "source": [
    "# 세션이 시작되는 인덱스를 담는 값과 세션을 새로 인덱싱한 값을 갖는 클래스 생성\n",
    "class SessionDataset:\n",
    "    def __init__(self, data):\n",
    "        self.df = data\n",
    "        self.click_offsets = self.get_click_offsets()\n",
    "        self.session_idx = np.arange(self.df['UserId'].nunique())\n",
    "\n",
    "    def get_click_offsets(self):\n",
    "        \"\"\"\n",
    "        Return the indexes of the first click of each User IDs,\n",
    "        \"\"\"\n",
    "        offsets = np.zeros(self.df['UserId'].nunique() + 1, dtype=np.int32)\n",
    "        offsets[1:] = self.df.groupby('UserId').size().cumsum()\n",
    "        return offsets"
   ]
  },
  {
   "cell_type": "code",
   "execution_count": 270,
   "id": "median-vector",
   "metadata": {},
   "outputs": [
    {
     "data": {
      "text/html": [
       "<div>\n",
       "<style scoped>\n",
       "    .dataframe tbody tr th:only-of-type {\n",
       "        vertical-align: middle;\n",
       "    }\n",
       "\n",
       "    .dataframe tbody tr th {\n",
       "        vertical-align: top;\n",
       "    }\n",
       "\n",
       "    .dataframe thead th {\n",
       "        text-align: right;\n",
       "    }\n",
       "</style>\n",
       "<table border=\"1\" class=\"dataframe\">\n",
       "  <thead>\n",
       "    <tr style=\"text-align: right;\">\n",
       "      <th></th>\n",
       "      <th>UserId</th>\n",
       "      <th>ItemId</th>\n",
       "      <th>Rating</th>\n",
       "      <th>Time</th>\n",
       "      <th>item_idx</th>\n",
       "    </tr>\n",
       "  </thead>\n",
       "  <tbody>\n",
       "    <tr>\n",
       "      <th>21004</th>\n",
       "      <td>152</td>\n",
       "      <td>839</td>\n",
       "      <td>4</td>\n",
       "      <td>977268684</td>\n",
       "      <td>0</td>\n",
       "    </tr>\n",
       "    <tr>\n",
       "      <th>21005</th>\n",
       "      <td>152</td>\n",
       "      <td>2279</td>\n",
       "      <td>2</td>\n",
       "      <td>977268702</td>\n",
       "      <td>1</td>\n",
       "    </tr>\n",
       "    <tr>\n",
       "      <th>21006</th>\n",
       "      <td>152</td>\n",
       "      <td>1721</td>\n",
       "      <td>1</td>\n",
       "      <td>977268731</td>\n",
       "      <td>2</td>\n",
       "    </tr>\n",
       "    <tr>\n",
       "      <th>21007</th>\n",
       "      <td>152</td>\n",
       "      <td>10</td>\n",
       "      <td>4</td>\n",
       "      <td>977268731</td>\n",
       "      <td>3</td>\n",
       "    </tr>\n",
       "    <tr>\n",
       "      <th>21008</th>\n",
       "      <td>152</td>\n",
       "      <td>1753</td>\n",
       "      <td>5</td>\n",
       "      <td>977268750</td>\n",
       "      <td>4</td>\n",
       "    </tr>\n",
       "    <tr>\n",
       "      <th>21009</th>\n",
       "      <td>152</td>\n",
       "      <td>1968</td>\n",
       "      <td>5</td>\n",
       "      <td>977268750</td>\n",
       "      <td>5</td>\n",
       "    </tr>\n",
       "    <tr>\n",
       "      <th>21010</th>\n",
       "      <td>152</td>\n",
       "      <td>3114</td>\n",
       "      <td>4</td>\n",
       "      <td>977268843</td>\n",
       "      <td>6</td>\n",
       "    </tr>\n",
       "    <tr>\n",
       "      <th>21011</th>\n",
       "      <td>152</td>\n",
       "      <td>3255</td>\n",
       "      <td>4</td>\n",
       "      <td>977268843</td>\n",
       "      <td>7</td>\n",
       "    </tr>\n",
       "    <tr>\n",
       "      <th>21012</th>\n",
       "      <td>152</td>\n",
       "      <td>2804</td>\n",
       "      <td>4</td>\n",
       "      <td>977268843</td>\n",
       "      <td>8</td>\n",
       "    </tr>\n",
       "    <tr>\n",
       "      <th>21013</th>\n",
       "      <td>152</td>\n",
       "      <td>180</td>\n",
       "      <td>5</td>\n",
       "      <td>977268843</td>\n",
       "      <td>9</td>\n",
       "    </tr>\n",
       "  </tbody>\n",
       "</table>\n",
       "</div>"
      ],
      "text/plain": [
       "       UserId  ItemId  Rating       Time  item_idx\n",
       "21004     152     839       4  977268684         0\n",
       "21005     152    2279       2  977268702         1\n",
       "21006     152    1721       1  977268731         2\n",
       "21007     152      10       4  977268731         3\n",
       "21008     152    1753       5  977268750         4\n",
       "21009     152    1968       5  977268750         5\n",
       "21010     152    3114       4  977268843         6\n",
       "21011     152    3255       4  977268843         7\n",
       "21012     152    2804       4  977268843         8\n",
       "21013     152     180       5  977268843         9"
      ]
     },
     "execution_count": 270,
     "metadata": {},
     "output_type": "execute_result"
    }
   ],
   "source": [
    "tr_dataset = SessionDataset(tr)\n",
    "tr_dataset.df.head(10)"
   ]
  },
  {
   "cell_type": "code",
   "execution_count": 271,
   "id": "closing-waters",
   "metadata": {},
   "outputs": [
    {
     "data": {
      "text/plain": [
       "array([     0,     24,     68, ..., 550604, 550865, 550892], dtype=int32)"
      ]
     },
     "execution_count": 271,
     "metadata": {},
     "output_type": "execute_result"
    }
   ],
   "source": [
    "# 각 세션이 시작된 인덱스\n",
    "tr_dataset.click_offsets"
   ]
  },
  {
   "cell_type": "code",
   "execution_count": 272,
   "id": "offshore-windsor",
   "metadata": {},
   "outputs": [
    {
     "data": {
      "text/plain": [
       "array([   0,    1,    2, ..., 4231, 4232, 4233])"
      ]
     },
     "execution_count": 272,
     "metadata": {},
     "output_type": "execute_result"
    }
   ],
   "source": [
    "# 각 세션을 인덱싱한 np.array\n",
    "tr_dataset.session_idx"
   ]
  },
  {
   "cell_type": "code",
   "execution_count": 273,
   "id": "american-passenger",
   "metadata": {},
   "outputs": [],
   "source": [
    "# SessionDataset 객체를 받아서 Session-Parallel mini-batch를 만드는 클래스\n",
    "class SessionDataLoader:\n",
    "    def __init__(self, dataset: SessionDataset, batch_size=50):\n",
    "        self.dataset = dataset\n",
    "        self.batch_size = batch_size\n",
    "\n",
    "    def __iter__(self):\n",
    "        \"\"\" Returns the iterator for producing session-parallel training mini-batches.\n",
    "        Yields:\n",
    "            input (B,):  Item indices that will be encoded as one-hot vectors later.\n",
    "            target (B,): a Variable that stores the target item indices\n",
    "            masks: Numpy array indicating the positions of the sessions to be terminated\n",
    "        \"\"\"\n",
    "\n",
    "        start, end, mask, last_session, finished = self.initialize()\n",
    "        \"\"\"\n",
    "        start : Index Where Session Start\n",
    "        end : Index Where Session End\n",
    "        mask : indicator for the sessions to be terminated\n",
    "        \"\"\"\n",
    "\n",
    "        while not finished:\n",
    "            min_len = (end - start).min() - 1  # Shortest Length Among Sessions\n",
    "            for i in range(min_len):\n",
    "                # Build inputs & targets\n",
    "                inp = self.dataset.df['item_idx'].values[start + i]\n",
    "                target = self.dataset.df['item_idx'].values[start + i + 1]\n",
    "                yield inp, target, mask\n",
    "\n",
    "            start, end, mask, last_session, finished = self.update_status(start, end, min_len, last_session, finished)\n",
    "\n",
    "    def initialize(self):\n",
    "        first_iters = np.arange(self.batch_size)    # 첫 배치에 사용할 세션 Index를 가져옵니다.\n",
    "        last_session = self.batch_size - 1    # 마지막으로 다루고 있는 세션 Index를 저장해둡니다.\n",
    "        start = self.dataset.click_offsets[self.dataset.session_idx[first_iters]]       # data 상에서 session이 시작된 위치를 가져옵니다.\n",
    "        end = self.dataset.click_offsets[self.dataset.session_idx[first_iters] + 1]  # session이 끝난 위치 바로 다음 위치를 가져옵니다.\n",
    "        mask = np.array([])   # session의 모든 아이템을 다 돌은 경우 mask에 추가해줄 것입니다.\n",
    "        finished = False         # data를 전부 돌았는지 기록하기 위한 변수입니다.\n",
    "        return start, end, mask, last_session, finished\n",
    "\n",
    "    def update_status(self, start: np.ndarray, end: np.ndarray, min_len: int, last_session: int, finished: bool):  \n",
    "        # 다음 배치 데이터를 생성하기 위해 상태를 update합니다.\n",
    "        \n",
    "        start += min_len   # __iter__에서 min_len 만큼 for문을 돌았으므로 start를 min_len 만큼 더해줍니다.\n",
    "        mask = np.arange(self.batch_size)[(end - start) == 1]  \n",
    "        # end는 다음 세션이 시작되는 위치인데 start와 한 칸 차이난다는 것은 session이 끝났다는 뜻입니다. mask에 기록해줍니다.\n",
    "\n",
    "        for i, idx in enumerate(mask, start=1):  # mask에 추가된 세션 개수만큼 새로운 세션을 돌것입니다.\n",
    "            new_session = last_session + i  \n",
    "            if new_session > self.dataset.session_idx[-1]:  # 만약 새로운 세션이 마지막 세션 index보다 크다면 모든 학습데이터를 돈 것입니다.\n",
    "                finished = True\n",
    "                break\n",
    "            # update the next starting/ending point\n",
    "            start[idx] = self.dataset.click_offsets[self.dataset.session_idx[new_session]]     # 종료된 세션 대신 새로운 세션의 시작점을 기록합니다.\n",
    "            end[idx] = self.dataset.click_offsets[self.dataset.session_idx[new_session] + 1]\n",
    "\n",
    "        last_session += len(mask)  # 마지막 세션의 위치를 기록해둡니다.\n",
    "        return start, end, mask, last_session, finished"
   ]
  },
  {
   "cell_type": "code",
   "execution_count": 274,
   "id": "working-exhibit",
   "metadata": {},
   "outputs": [
    {
     "data": {
      "text/html": [
       "<div>\n",
       "<style scoped>\n",
       "    .dataframe tbody tr th:only-of-type {\n",
       "        vertical-align: middle;\n",
       "    }\n",
       "\n",
       "    .dataframe tbody tr th {\n",
       "        vertical-align: top;\n",
       "    }\n",
       "\n",
       "    .dataframe thead th {\n",
       "        text-align: right;\n",
       "    }\n",
       "</style>\n",
       "<table border=\"1\" class=\"dataframe\">\n",
       "  <thead>\n",
       "    <tr style=\"text-align: right;\">\n",
       "      <th></th>\n",
       "      <th>UserId</th>\n",
       "      <th>ItemId</th>\n",
       "      <th>Rating</th>\n",
       "      <th>Time</th>\n",
       "      <th>item_idx</th>\n",
       "    </tr>\n",
       "  </thead>\n",
       "  <tbody>\n",
       "    <tr>\n",
       "      <th>21004</th>\n",
       "      <td>152</td>\n",
       "      <td>839</td>\n",
       "      <td>4</td>\n",
       "      <td>977268684</td>\n",
       "      <td>0</td>\n",
       "    </tr>\n",
       "    <tr>\n",
       "      <th>21005</th>\n",
       "      <td>152</td>\n",
       "      <td>2279</td>\n",
       "      <td>2</td>\n",
       "      <td>977268702</td>\n",
       "      <td>1</td>\n",
       "    </tr>\n",
       "    <tr>\n",
       "      <th>21006</th>\n",
       "      <td>152</td>\n",
       "      <td>1721</td>\n",
       "      <td>1</td>\n",
       "      <td>977268731</td>\n",
       "      <td>2</td>\n",
       "    </tr>\n",
       "    <tr>\n",
       "      <th>21007</th>\n",
       "      <td>152</td>\n",
       "      <td>10</td>\n",
       "      <td>4</td>\n",
       "      <td>977268731</td>\n",
       "      <td>3</td>\n",
       "    </tr>\n",
       "    <tr>\n",
       "      <th>21008</th>\n",
       "      <td>152</td>\n",
       "      <td>1753</td>\n",
       "      <td>5</td>\n",
       "      <td>977268750</td>\n",
       "      <td>4</td>\n",
       "    </tr>\n",
       "    <tr>\n",
       "      <th>21009</th>\n",
       "      <td>152</td>\n",
       "      <td>1968</td>\n",
       "      <td>5</td>\n",
       "      <td>977268750</td>\n",
       "      <td>5</td>\n",
       "    </tr>\n",
       "    <tr>\n",
       "      <th>21010</th>\n",
       "      <td>152</td>\n",
       "      <td>3114</td>\n",
       "      <td>4</td>\n",
       "      <td>977268843</td>\n",
       "      <td>6</td>\n",
       "    </tr>\n",
       "    <tr>\n",
       "      <th>21011</th>\n",
       "      <td>152</td>\n",
       "      <td>3255</td>\n",
       "      <td>4</td>\n",
       "      <td>977268843</td>\n",
       "      <td>7</td>\n",
       "    </tr>\n",
       "    <tr>\n",
       "      <th>21012</th>\n",
       "      <td>152</td>\n",
       "      <td>2804</td>\n",
       "      <td>4</td>\n",
       "      <td>977268843</td>\n",
       "      <td>8</td>\n",
       "    </tr>\n",
       "    <tr>\n",
       "      <th>21013</th>\n",
       "      <td>152</td>\n",
       "      <td>180</td>\n",
       "      <td>5</td>\n",
       "      <td>977268843</td>\n",
       "      <td>9</td>\n",
       "    </tr>\n",
       "    <tr>\n",
       "      <th>21014</th>\n",
       "      <td>152</td>\n",
       "      <td>2716</td>\n",
       "      <td>4</td>\n",
       "      <td>977268859</td>\n",
       "      <td>10</td>\n",
       "    </tr>\n",
       "    <tr>\n",
       "      <th>21015</th>\n",
       "      <td>152</td>\n",
       "      <td>2396</td>\n",
       "      <td>4</td>\n",
       "      <td>977268879</td>\n",
       "      <td>11</td>\n",
       "    </tr>\n",
       "    <tr>\n",
       "      <th>21016</th>\n",
       "      <td>152</td>\n",
       "      <td>1884</td>\n",
       "      <td>5</td>\n",
       "      <td>977268879</td>\n",
       "      <td>12</td>\n",
       "    </tr>\n",
       "    <tr>\n",
       "      <th>21017</th>\n",
       "      <td>152</td>\n",
       "      <td>1136</td>\n",
       "      <td>5</td>\n",
       "      <td>977268879</td>\n",
       "      <td>13</td>\n",
       "    </tr>\n",
       "    <tr>\n",
       "      <th>21018</th>\n",
       "      <td>152</td>\n",
       "      <td>1</td>\n",
       "      <td>4</td>\n",
       "      <td>977268921</td>\n",
       "      <td>14</td>\n",
       "    </tr>\n",
       "  </tbody>\n",
       "</table>\n",
       "</div>"
      ],
      "text/plain": [
       "       UserId  ItemId  Rating       Time  item_idx\n",
       "21004     152     839       4  977268684         0\n",
       "21005     152    2279       2  977268702         1\n",
       "21006     152    1721       1  977268731         2\n",
       "21007     152      10       4  977268731         3\n",
       "21008     152    1753       5  977268750         4\n",
       "21009     152    1968       5  977268750         5\n",
       "21010     152    3114       4  977268843         6\n",
       "21011     152    3255       4  977268843         7\n",
       "21012     152    2804       4  977268843         8\n",
       "21013     152     180       5  977268843         9\n",
       "21014     152    2716       4  977268859        10\n",
       "21015     152    2396       4  977268879        11\n",
       "21016     152    1884       5  977268879        12\n",
       "21017     152    1136       5  977268879        13\n",
       "21018     152       1       4  977268921        14"
      ]
     },
     "execution_count": 274,
     "metadata": {},
     "output_type": "execute_result"
    }
   ],
   "source": [
    "tr_data_loader = SessionDataLoader(tr_dataset, batch_size=4)\n",
    "tr_dataset.df.head(15)"
   ]
  },
  {
   "cell_type": "code",
   "execution_count": 275,
   "id": "cooked-baseline",
   "metadata": {},
   "outputs": [],
   "source": [
    "iter_ex = iter(tr_data_loader)"
   ]
  },
  {
   "cell_type": "code",
   "execution_count": 276,
   "id": "aging-conservation",
   "metadata": {},
   "outputs": [
    {
     "name": "stdout",
     "output_type": "stream",
     "text": [
      "Model Input Item Idx are : [  0  24  65 156]\n",
      "Label Item Idx are :       [  1  25  25 157]\n",
      "Previous Masked Input Idx are []\n"
     ]
    }
   ],
   "source": [
    "inputs, labels, mask =  next(iter_ex)\n",
    "print(f'Model Input Item Idx are : {inputs}')\n",
    "print(f'Label Item Idx are : {\"\":5} {labels}')\n",
    "print(f'Previous Masked Input Idx are {mask}')"
   ]
  },
  {
   "cell_type": "markdown",
   "id": "seasonal-pressure",
   "metadata": {},
   "source": [
    "# 모델 구성"
   ]
  },
  {
   "cell_type": "code",
   "execution_count": 277,
   "id": "absent-serbia",
   "metadata": {},
   "outputs": [],
   "source": [
    "# 평가 지표로 순서에 민감한 지표인 MRR외 recall의 개념을 확장한 Recall@k 사용\n",
    "def mrr_k(pred, truth: int, k: int):\n",
    "    indexing = np.where(pred[:k] == truth)[0]\n",
    "    if len(indexing) > 0:\n",
    "        return 1 / (indexing[0] + 1)\n",
    "    else:\n",
    "        return 0\n",
    "\n",
    "\n",
    "def recall_k(pred, truth: int, k: int) -> int:\n",
    "    answer = truth in pred[:k]\n",
    "    return int(answer)"
   ]
  },
  {
   "cell_type": "code",
   "execution_count": 278,
   "id": "authorized-mattress",
   "metadata": {},
   "outputs": [],
   "source": [
    "# 모델 구조 정의\n",
    "def create_model(args):\n",
    "    inputs = Input(batch_shape=(args.batch_size, 1, args.num_items))\n",
    "    gru, _ = GRU(args.hsz, stateful=True, return_state=True, name='GRU')(inputs)\n",
    "    dropout = Dropout(args.drop_rate)(gru)\n",
    "    predictions = Dense(args.num_items, activation='softmax')(dropout)\n",
    "    model = Model(inputs=inputs, outputs=[predictions])\n",
    "    model.compile(loss=categorical_crossentropy, optimizer=Adam(args.lr), metrics=['accuracy'])\n",
    "    model.summary()\n",
    "    return model"
   ]
  },
  {
   "cell_type": "code",
   "execution_count": 279,
   "id": "numerous-heaven",
   "metadata": {},
   "outputs": [],
   "source": [
    "# 모델에서 사용할 하이퍼 파라미터 정의\n",
    "class Args:\n",
    "    def __init__(self, tr, val, test, batch_size, hsz, drop_rate, lr, epochs, k):\n",
    "        self.tr = tr\n",
    "        self.val = val\n",
    "        self.test = test\n",
    "        self.num_items = tr['ItemId'].nunique()\n",
    "        self.num_sessions = tr['UserId'].nunique()\n",
    "        self.batch_size = batch_size\n",
    "        self.hsz = hsz\n",
    "        self.drop_rate = drop_rate\n",
    "        self.lr = lr\n",
    "        self.epochs = epochs\n",
    "        self.k = k\n",
    "\n",
    "args = Args(tr, val, test, batch_size=128, hsz=50, drop_rate=0.1, lr=0.001, epochs=3, k=20)"
   ]
  },
  {
   "cell_type": "code",
   "execution_count": 280,
   "id": "legislative-serbia",
   "metadata": {},
   "outputs": [
    {
     "name": "stdout",
     "output_type": "stream",
     "text": [
      "Model: \"model_5\"\n",
      "_________________________________________________________________\n",
      "Layer (type)                 Output Shape              Param #   \n",
      "=================================================================\n",
      "input_6 (InputLayer)         [(128, 1, 3396)]          0         \n",
      "_________________________________________________________________\n",
      "GRU (GRU)                    [(128, 50), (128, 50)]    517200    \n",
      "_________________________________________________________________\n",
      "dropout_5 (Dropout)          (128, 50)                 0         \n",
      "_________________________________________________________________\n",
      "dense_5 (Dense)              (128, 3396)               173196    \n",
      "=================================================================\n",
      "Total params: 690,396\n",
      "Trainable params: 690,396\n",
      "Non-trainable params: 0\n",
      "_________________________________________________________________\n"
     ]
    }
   ],
   "source": [
    "# 모델 생성\n",
    "model = create_model(args)"
   ]
  },
  {
   "cell_type": "markdown",
   "id": "female-split",
   "metadata": {},
   "source": [
    "# 모델 학습"
   ]
  },
  {
   "cell_type": "code",
   "execution_count": 281,
   "id": "convinced-miller",
   "metadata": {},
   "outputs": [],
   "source": [
    "# train 데이터로 학습, val 데이터로 검증\n",
    "def train_model(model, args):\n",
    "    train_dataset = SessionDataset(args.tr)\n",
    "    train_loader = SessionDataLoader(train_dataset, batch_size=args.batch_size)\n",
    "\n",
    "    for epoch in range(1, args.epochs + 1):\n",
    "        total_step = len(args.tr) - args.tr['UserId'].nunique()\n",
    "        tr_loader = tqdm(train_loader, total=total_step // args.batch_size, desc='Train', mininterval=1)\n",
    "        for feat, target, mask in tr_loader:\n",
    "            reset_hidden_states(model, mask)  # 종료된 session은 hidden_state를 초기화\n",
    "\n",
    "            input_ohe = to_categorical(feat, num_classes=args.num_items)\n",
    "            input_ohe = np.expand_dims(input_ohe, axis=1)\n",
    "            target_ohe = to_categorical(target, num_classes=args.num_items)\n",
    "\n",
    "            result = model.train_on_batch(input_ohe, target_ohe)\n",
    "            tr_loader.set_postfix(train_loss=result[0], accuracy = result[1])\n",
    "\n",
    "        val_recall, val_mrr = get_metrics(args.val, model, args, args.k)  # val 검증\n",
    "\n",
    "        print(f\"\\t - Recall@{args.k} epoch {epoch}: {val_recall:3f}\")\n",
    "        print(f\"\\t - MRR@{args.k}    epoch {epoch}: {val_mrr:3f}\\n\")\n",
    "\n",
    "\n",
    "def reset_hidden_states(model, mask):\n",
    "    gru_layer = model.get_layer(name='GRU')  # model에서 gru layer를 가져옴\n",
    "    hidden_states = gru_layer.states[0].numpy()  # gru_layer의 parameter 가져옴\n",
    "    for elt in mask:  # mask된 인덱스 즉, 종료된 세션의 인덱스를 돌면서\n",
    "        hidden_states[elt, :] = 0  # parameter 초기화\n",
    "    gru_layer.reset_states(states=hidden_states)\n",
    "\n",
    "\n",
    "def get_metrics(data, model, args, k: int):  # valid / test 평가 \n",
    "                                             # train과 거의 같지만 mrr, recall을 구하는 라인\n",
    "    dataset = SessionDataset(data)\n",
    "    loader = SessionDataLoader(dataset, batch_size=args.batch_size)\n",
    "    recall_list, mrr_list = [], []\n",
    "\n",
    "    total_step = len(data) - data['UserId'].nunique()\n",
    "    for inputs, label, mask in tqdm(loader, total=total_step // args.batch_size, desc='Evaluation', mininterval=1):\n",
    "        reset_hidden_states(model, mask)\n",
    "        input_ohe = to_categorical(inputs, num_classes=args.num_items)\n",
    "        input_ohe = np.expand_dims(input_ohe, axis=1)\n",
    "\n",
    "        pred = model.predict(input_ohe, batch_size=args.batch_size)\n",
    "        pred_arg = tf.argsort(pred, direction='DESCENDING')  # softmax 값이 큰 순서대로 sorting \n",
    "\n",
    "        length = len(inputs)\n",
    "        recall_list.extend([recall_k(pred_arg[i], label[i], k) for i in range(length)])\n",
    "        mrr_list.extend([mrr_k(pred_arg[i], label[i], k) for i in range(length)])\n",
    "\n",
    "    recall, mrr = np.mean(recall_list), np.mean(mrr_list)\n",
    "    return recall, mrr"
   ]
  },
  {
   "cell_type": "code",
   "execution_count": 282,
   "id": "accompanied-monthly",
   "metadata": {},
   "outputs": [
    {
     "name": "stderr",
     "output_type": "stream",
     "text": [
      "Train:  97%|█████████▋| 4153/4270 [01:21<00:02, 51.27it/s, accuracy=0.0156, train_loss=6.51] \n",
      "Evaluation:  87%|████████▋ | 1243/1431 [18:58<02:52,  1.09it/s]\n",
      "Train:   0%|          | 0/4270 [00:00<?, ?it/s, accuracy=0.0391, train_loss=6.26] "
     ]
    },
    {
     "name": "stdout",
     "output_type": "stream",
     "text": [
      "\t - Recall@20 epoch 1: 0.166074\n",
      "\t - MRR@20    epoch 1: 0.039628\n",
      "\n"
     ]
    },
    {
     "name": "stderr",
     "output_type": "stream",
     "text": [
      "Train:  97%|█████████▋| 4153/4270 [01:17<00:02, 53.58it/s, accuracy=0.0234, train_loss=6.03] \n",
      "Evaluation:  87%|████████▋ | 1243/1431 [18:05<02:44,  1.15it/s]\n",
      "Train:   0%|          | 0/4270 [00:00<?, ?it/s, accuracy=0.0625, train_loss=5.71] "
     ]
    },
    {
     "name": "stdout",
     "output_type": "stream",
     "text": [
      "\t - Recall@20 epoch 2: 0.248492\n",
      "\t - MRR@20    epoch 2: 0.064779\n",
      "\n"
     ]
    },
    {
     "name": "stderr",
     "output_type": "stream",
     "text": [
      "Train:  97%|█████████▋| 4153/4270 [01:20<00:02, 51.65it/s, accuracy=0.0625, train_loss=5.84] \n",
      "Evaluation:  87%|████████▋ | 1243/1431 [17:41<02:40,  1.17it/s]"
     ]
    },
    {
     "name": "stdout",
     "output_type": "stream",
     "text": [
      "\t - Recall@20 epoch 3: 0.282633\n",
      "\t - MRR@20    epoch 3: 0.077990\n",
      "\n"
     ]
    },
    {
     "name": "stderr",
     "output_type": "stream",
     "text": [
      "\n"
     ]
    }
   ],
   "source": [
    "# 모델 학습\n",
    "train_model(model, args)"
   ]
  },
  {
   "cell_type": "markdown",
   "id": "removable-agriculture",
   "metadata": {},
   "source": [
    "## 모델 테스트"
   ]
  },
  {
   "cell_type": "code",
   "execution_count": 283,
   "id": "circular-retreat",
   "metadata": {},
   "outputs": [
    {
     "name": "stderr",
     "output_type": "stream",
     "text": [
      "Evaluation:  82%|████████▏ | 1128/1379 [16:33<03:41,  1.13it/s]"
     ]
    },
    {
     "name": "stdout",
     "output_type": "stream",
     "text": [
      "\t - Recall@20: 0.234257\n",
      "\t - MRR@20: 0.063089\n",
      "\n"
     ]
    },
    {
     "name": "stderr",
     "output_type": "stream",
     "text": [
      "\n"
     ]
    }
   ],
   "source": [
    "def test_model(model, args, test):\n",
    "    test_recall, test_mrr = get_metrics(test, model, args, 20)\n",
    "    print(f\"\\t - Recall@{args.k}: {test_recall:3f}\")\n",
    "    print(f\"\\t - MRR@{args.k}: {test_mrr:3f}\\n\")\n",
    "\n",
    "test_model(model, args, test)"
   ]
  },
  {
   "cell_type": "markdown",
   "id": "hired-syndication",
   "metadata": {},
   "source": [
    "### 학습에 소요되는 시간이 길기 때문에 두번째 시도에서는 모델의 하이퍼 파라미터를 조절하여 첫번째 시도와 비교할 예정이고, 이때 찾은 하이퍼 파라미터를 사용해 세번째 시도에서는 데이터 전처리 과정을 변형하고 학습을 진행해보려고 한다."
   ]
  },
  {
   "cell_type": "markdown",
   "id": "interested-function",
   "metadata": {},
   "source": [
    "# 2nd Try"
   ]
  },
  {
   "cell_type": "code",
   "execution_count": 284,
   "id": "solid-citation",
   "metadata": {},
   "outputs": [],
   "source": [
    "# 모델에서 사용할 하이퍼 파라미터 변경\n",
    "class Args:\n",
    "    def __init__(self, tr, val, test, batch_size, hsz, drop_rate, lr, epochs, k):\n",
    "        self.tr = tr\n",
    "        self.val = val\n",
    "        self.test = test\n",
    "        self.num_items = tr['ItemId'].nunique()\n",
    "        self.num_sessions = tr['UserId'].nunique()\n",
    "        self.batch_size = batch_size\n",
    "        self.hsz = hsz\n",
    "        self.drop_rate = drop_rate\n",
    "        self.lr = lr\n",
    "        self.epochs = epochs\n",
    "        self.k = k\n",
    "\n",
    "args2 = Args(tr, val, test, batch_size=256, hsz=30, drop_rate=0.5, lr=0.001, epochs=10, k=20)"
   ]
  },
  {
   "cell_type": "code",
   "execution_count": 285,
   "id": "younger-dividend",
   "metadata": {},
   "outputs": [
    {
     "name": "stdout",
     "output_type": "stream",
     "text": [
      "Model: \"model_6\"\n",
      "_________________________________________________________________\n",
      "Layer (type)                 Output Shape              Param #   \n",
      "=================================================================\n",
      "input_7 (InputLayer)         [(256, 1, 3396)]          0         \n",
      "_________________________________________________________________\n",
      "GRU (GRU)                    [(256, 30), (256, 30)]    308520    \n",
      "_________________________________________________________________\n",
      "dropout_6 (Dropout)          (256, 30)                 0         \n",
      "_________________________________________________________________\n",
      "dense_6 (Dense)              (256, 3396)               105276    \n",
      "=================================================================\n",
      "Total params: 413,796\n",
      "Trainable params: 413,796\n",
      "Non-trainable params: 0\n",
      "_________________________________________________________________\n"
     ]
    }
   ],
   "source": [
    "# 모델 생성\n",
    "model2 = create_model(args2)"
   ]
  },
  {
   "cell_type": "code",
   "execution_count": 286,
   "id": "prompt-selling",
   "metadata": {},
   "outputs": [
    {
     "name": "stderr",
     "output_type": "stream",
     "text": [
      "Train:  94%|█████████▎| 1999/2135 [00:53<00:03, 37.17it/s, accuracy=0, train_loss=7.23]      \n",
      "Evaluation:  73%|███████▎  | 521/715 [16:28<06:08,  1.90s/it]\n",
      "Train:   0%|          | 0/2135 [00:00<?, ?it/s, accuracy=0.0234, train_loss=7.16] "
     ]
    },
    {
     "name": "stdout",
     "output_type": "stream",
     "text": [
      "\t - Recall@20 epoch 1: 0.066864\n",
      "\t - MRR@20    epoch 1: 0.013575\n",
      "\n"
     ]
    },
    {
     "name": "stderr",
     "output_type": "stream",
     "text": [
      "Train:  94%|█████████▎| 1999/2135 [00:52<00:03, 38.04it/s, accuracy=0.0312, train_loss=6.89] \n",
      "Evaluation:  73%|███████▎  | 521/715 [16:06<05:59,  1.86s/it]\n",
      "Train:   0%|          | 0/2135 [00:00<?, ?it/s, accuracy=0, train_loss=7.13]      "
     ]
    },
    {
     "name": "stdout",
     "output_type": "stream",
     "text": [
      "\t - Recall@20 epoch 2: 0.111279\n",
      "\t - MRR@20    epoch 2: 0.024617\n",
      "\n"
     ]
    },
    {
     "name": "stderr",
     "output_type": "stream",
     "text": [
      "Train:  94%|█████████▎| 1999/2135 [00:51<00:03, 38.56it/s, accuracy=0.0156, train_loss=6.64] \n",
      "Evaluation:  73%|███████▎  | 521/715 [15:33<05:47,  1.79s/it]\n",
      "Train:   0%|          | 0/2135 [00:00<?, ?it/s, accuracy=0.0273, train_loss=6.76] "
     ]
    },
    {
     "name": "stdout",
     "output_type": "stream",
     "text": [
      "\t - Recall@20 epoch 3: 0.174852\n",
      "\t - MRR@20    epoch 3: 0.041374\n",
      "\n"
     ]
    },
    {
     "name": "stderr",
     "output_type": "stream",
     "text": [
      "Train:  94%|█████████▎| 1999/2135 [00:52<00:03, 38.33it/s, accuracy=0.0273, train_loss=6.44] \n",
      "Evaluation:  73%|███████▎  | 521/715 [15:15<05:40,  1.76s/it]\n",
      "Train:   0%|          | 0/2135 [00:00<?, ?it/s, accuracy=0.0234, train_loss=6.62] "
     ]
    },
    {
     "name": "stdout",
     "output_type": "stream",
     "text": [
      "\t - Recall@20 epoch 4: 0.214634\n",
      "\t - MRR@20    epoch 4: 0.053155\n",
      "\n"
     ]
    },
    {
     "name": "stderr",
     "output_type": "stream",
     "text": [
      "Train:  94%|█████████▎| 1999/2135 [00:51<00:03, 39.04it/s, accuracy=0.0234, train_loss=6.31] \n",
      "Evaluation:  73%|███████▎  | 521/715 [14:58<05:34,  1.72s/it]\n",
      "Train:   0%|          | 0/2135 [00:00<?, ?it/s, accuracy=0.0391, train_loss=6.51] "
     ]
    },
    {
     "name": "stdout",
     "output_type": "stream",
     "text": [
      "\t - Recall@20 epoch 5: 0.243125\n",
      "\t - MRR@20    epoch 5: 0.061360\n",
      "\n"
     ]
    },
    {
     "name": "stderr",
     "output_type": "stream",
     "text": [
      "Train:  94%|█████████▎| 1999/2135 [00:52<00:03, 37.82it/s, accuracy=0.0195, train_loss=6.23] \n",
      "Evaluation:  73%|███████▎  | 521/715 [14:48<05:30,  1.71s/it]\n",
      "Train:   0%|          | 0/2135 [00:00<?, ?it/s, accuracy=0.0391, train_loss=6.96] "
     ]
    },
    {
     "name": "stdout",
     "output_type": "stream",
     "text": [
      "\t - Recall@20 epoch 6: 0.260144\n",
      "\t - MRR@20    epoch 6: 0.067224\n",
      "\n"
     ]
    },
    {
     "name": "stderr",
     "output_type": "stream",
     "text": [
      "Train:  94%|█████████▎| 1999/2135 [00:51<00:03, 38.48it/s, accuracy=0.0195, train_loss=6.27] \n",
      "Evaluation:  73%|███████▎  | 521/715 [14:40<05:27,  1.69s/it]\n",
      "Train:   0%|          | 0/2135 [00:00<?, ?it/s, accuracy=0.0391, train_loss=6.44] "
     ]
    },
    {
     "name": "stdout",
     "output_type": "stream",
     "text": [
      "\t - Recall@20 epoch 7: 0.271848\n",
      "\t - MRR@20    epoch 7: 0.071096\n",
      "\n"
     ]
    },
    {
     "name": "stderr",
     "output_type": "stream",
     "text": [
      "Train:  94%|█████████▎| 1999/2135 [00:52<00:03, 37.83it/s, accuracy=0.0352, train_loss=6.21] \n",
      "Evaluation:  73%|███████▎  | 521/715 [14:29<05:23,  1.67s/it]\n",
      "Train:   0%|          | 0/2135 [00:00<?, ?it/s, accuracy=0.0547, train_loss=6.36] "
     ]
    },
    {
     "name": "stdout",
     "output_type": "stream",
     "text": [
      "\t - Recall@20 epoch 8: 0.280448\n",
      "\t - MRR@20    epoch 8: 0.074318\n",
      "\n"
     ]
    },
    {
     "name": "stderr",
     "output_type": "stream",
     "text": [
      "Train:  94%|█████████▎| 1999/2135 [00:54<00:03, 36.73it/s, accuracy=0.00391, train_loss=6.15]\n",
      "Evaluation:  73%|███████▎  | 521/715 [14:27<05:22,  1.66s/it]\n",
      "Train:   0%|          | 0/2135 [00:00<?, ?it/s, accuracy=0.0508, train_loss=6.3]  "
     ]
    },
    {
     "name": "stdout",
     "output_type": "stream",
     "text": [
      "\t - Recall@20 epoch 9: 0.287758\n",
      "\t - MRR@20    epoch 9: 0.077470\n",
      "\n"
     ]
    },
    {
     "name": "stderr",
     "output_type": "stream",
     "text": [
      "Train:  94%|█████████▎| 1999/2135 [00:53<00:03, 37.37it/s, accuracy=0.0273, train_loss=6.23] \n",
      "Evaluation:  73%|███████▎  | 521/715 [14:24<05:21,  1.66s/it]"
     ]
    },
    {
     "name": "stdout",
     "output_type": "stream",
     "text": [
      "\t - Recall@20 epoch 10: 0.292264\n",
      "\t - MRR@20    epoch 10: 0.079057\n",
      "\n"
     ]
    },
    {
     "name": "stderr",
     "output_type": "stream",
     "text": [
      "\n"
     ]
    }
   ],
   "source": [
    "# 모델 학습\n",
    "train_model(model2, args2)"
   ]
  },
  {
   "cell_type": "code",
   "execution_count": 287,
   "id": "combined-richards",
   "metadata": {},
   "outputs": [
    {
     "name": "stderr",
     "output_type": "stream",
     "text": [
      "Evaluation:  59%|█████▉    | 409/689 [11:35<07:55,  1.70s/it]"
     ]
    },
    {
     "name": "stdout",
     "output_type": "stream",
     "text": [
      "\t - Recall@20: 0.256265\n",
      "\t - MRR@20: 0.067813\n",
      "\n"
     ]
    },
    {
     "name": "stderr",
     "output_type": "stream",
     "text": [
      "\n"
     ]
    }
   ],
   "source": [
    "# 모델 테스트\n",
    "test_model(model2, args2, test)"
   ]
  },
  {
   "cell_type": "markdown",
   "id": "awful-veteran",
   "metadata": {},
   "source": [
    "첫번째 시도보다 조금 더 높은 정확도를 보였지만 epoch수와 시간을 감안하면 상당히 비효율적이고, 오히려 첫번째 시도와 같은 하이퍼파라미터에 epoch수를 증가시키는 것이 효율적이라고 판단하였다."
   ]
  },
  {
   "cell_type": "markdown",
   "id": "greater-indie",
   "metadata": {},
   "source": [
    "# 3rd Try"
   ]
  },
  {
   "cell_type": "markdown",
   "id": "accepting-knitting",
   "metadata": {},
   "source": [
    "별점이 영화선택에 큰 영향을 줄 것이라고 판단하여 별점이 기준 이하인 경우 데이터에서 제거하기로 결정했다."
   ]
  },
  {
   "cell_type": "code",
   "execution_count": 288,
   "id": "dense-department",
   "metadata": {},
   "outputs": [
    {
     "data": {
      "text/plain": [
       "524101"
      ]
     },
     "execution_count": 288,
     "metadata": {},
     "output_type": "execute_result"
    }
   ],
   "source": [
    "# 별점 3이하 제거\n",
    "rating_4_data = cropped_data[cropped_data['Rating']>3]\n",
    "len(rating_4_data)"
   ]
  },
  {
   "cell_type": "code",
   "execution_count": 289,
   "id": "jewish-stomach",
   "metadata": {},
   "outputs": [
    {
     "data": {
      "text/plain": [
       "763367"
      ]
     },
     "execution_count": 289,
     "metadata": {},
     "output_type": "execute_result"
    }
   ],
   "source": [
    "# 별점 2이하 제거\n",
    "rating_3_data = cropped_data[cropped_data['Rating']>2]\n",
    "len(rating_3_data)"
   ]
  },
  {
   "cell_type": "markdown",
   "id": "asian-parade",
   "metadata": {},
   "source": [
    "별점 3개 이하를 제거한 경우 데이터의 수가 반정도로 줄어들어서 별점 2개 이하만 지우기로 결정했다."
   ]
  },
  {
   "cell_type": "markdown",
   "id": "prostate-monitor",
   "metadata": {},
   "source": [
    "이전까지는 유저의 99.9%가 분포한 범위 내에서 데이터를 사용했는데, 누적분포에서 적은 부분을 차지하는 앞부분을 제거하여 많은 유저들이 분포하는 범위인 데이터를 사용하여 학습을 진행해보려고 한다. 그래서 유저와 아이템 모두 하위 20% 이상인 데이터만 사용하기로 결정했다."
   ]
  },
  {
   "cell_type": "code",
   "execution_count": 299,
   "id": "functioning-indonesian",
   "metadata": {},
   "outputs": [
    {
     "data": {
      "text/plain": [
       "20    0.014238\n",
       "21    0.029305\n",
       "22    0.042053\n",
       "23    0.055464\n",
       "24    0.068874\n",
       "25    0.081291\n",
       "26    0.091556\n",
       "27    0.102483\n",
       "28    0.112417\n",
       "29    0.124338\n",
       "30    0.133940\n",
       "31    0.142384\n",
       "32    0.151490\n",
       "33    0.161755\n",
       "34    0.169040\n",
       "35    0.178642\n",
       "36    0.190397\n",
       "37    0.199503\n",
       "38    0.207616\n",
       "39    0.215728\n",
       "dtype: float64"
      ]
     },
     "execution_count": 299,
     "metadata": {},
     "output_type": "execute_result"
    }
   ],
   "source": [
    "# 유저 길이의 분포 누적합 확인\n",
    "length_count = user_length.groupby(user_length).size()\n",
    "length_percent_cumsum = length_count.cumsum() / length_count.sum()\n",
    "length_percent_cumsum_999 = length_percent_cumsum[length_percent_cumsum < 0.999]\n",
    "\n",
    "length_percent_cumsum_999.head(20)"
   ]
  },
  {
   "cell_type": "code",
   "execution_count": 300,
   "id": "likely-signal",
   "metadata": {},
   "outputs": [
    {
     "data": {
      "text/plain": [
       "ItemId\n",
       "1       1878\n",
       "2        638\n",
       "3        449\n",
       "4        146\n",
       "5        265\n",
       "        ... \n",
       "3948     862\n",
       "3949     304\n",
       "3950      54\n",
       "3951      40\n",
       "3952     388\n",
       "Length: 3701, dtype: int64"
      ]
     },
     "execution_count": 300,
     "metadata": {},
     "output_type": "execute_result"
    }
   ],
   "source": [
    "# item 당 몇 명의 사람들이 봤는지 체크 \n",
    "item_length = cropped_data.groupby('ItemId').size()\n",
    "item_length"
   ]
  },
  {
   "cell_type": "code",
   "execution_count": 303,
   "id": "induced-nowhere",
   "metadata": {},
   "outputs": [
    {
     "data": {
      "text/plain": [
       "1     0.033234\n",
       "2     0.055120\n",
       "3     0.067009\n",
       "4     0.079708\n",
       "5     0.089976\n",
       "6     0.099162\n",
       "7     0.107268\n",
       "8     0.116455\n",
       "9     0.124831\n",
       "10    0.131316\n",
       "11    0.139962\n",
       "12    0.145907\n",
       "13    0.153202\n",
       "14    0.157255\n",
       "15    0.162659\n",
       "16    0.168603\n",
       "17    0.174277\n",
       "18    0.180762\n",
       "19    0.188057\n",
       "20    0.192921\n",
       "21    0.198055\n",
       "22    0.205080\n",
       "23    0.209403\n",
       "24    0.216428\n",
       "25    0.220211\n",
       "dtype: float64"
      ]
     },
     "execution_count": 303,
     "metadata": {},
     "output_type": "execute_result"
    }
   ],
   "source": [
    "# 아이템 시청 인원 길이의 분포 누적합 확인\n",
    "item_length_count = item_length.groupby(item_length).size()\n",
    "item_length_percent_cumsum = item_length_count.cumsum() / item_length_count.sum()\n",
    "item_length_percent_cumsum_999 = item_length_percent_cumsum[item_length_percent_cumsum < 0.999]\n",
    "\n",
    "item_length_percent_cumsum_999.head(25)"
   ]
  },
  {
   "cell_type": "code",
   "execution_count": 304,
   "id": "dramatic-cause",
   "metadata": {},
   "outputs": [
    {
     "data": {
      "text/plain": [
       "875266"
      ]
     },
     "execution_count": 304,
     "metadata": {},
     "output_type": "execute_result"
    }
   ],
   "source": [
    "# 38개 이상의 영화를 본 사람과 최소 22명 이상의 사람이 본 영화만을 남김\n",
    "cleaned_data2 = cleanse_recursive(cropped_data, shortest=38, least_watch=22)\n",
    "len(cleaned_data2)"
   ]
  },
  {
   "cell_type": "code",
   "execution_count": 313,
   "id": "chemical-treasury",
   "metadata": {},
   "outputs": [],
   "source": [
    "# train : val : test = 6 : 2 : 2 정도의 비율로 하기 위해 설정했다\n",
    "tr2, test2 = split_by_date(cleaned_data2, n_days=300)\n",
    "tr2, val2 = split_by_date(tr2, n_days=770)"
   ]
  },
  {
   "cell_type": "code",
   "execution_count": 314,
   "id": "clinical-mobile",
   "metadata": {},
   "outputs": [
    {
     "name": "stdout",
     "output_type": "stream",
     "text": [
      "* train Set Stats Info\n",
      "\t Events: 553220\n",
      "\t Users: 3387\n",
      "\t Items: 2953\n",
      "\t First Time : 960055528\n",
      "\t Last Time : 979918771\n",
      "\n",
      "* valid Set Stats Info\n",
      "\t Events: 157056\n",
      "\t Users: 599\n",
      "\t Items: 2951\n",
      "\t First Time : 960075689\n",
      "\t Last Time : 1020462626\n",
      "\n",
      "* test Set Stats Info\n",
      "\t Events: 164980\n",
      "\t Users: 428\n",
      "\t Items: 2953\n",
      "\t First Time : 960054593\n",
      "\t Last Time : 1046454590\n",
      "\n"
     ]
    }
   ],
   "source": [
    "stats_info(tr2, 'train')\n",
    "stats_info(val2, 'valid')\n",
    "stats_info(test2, 'test')"
   ]
  },
  {
   "cell_type": "code",
   "execution_count": 315,
   "id": "brief-highlight",
   "metadata": {},
   "outputs": [],
   "source": [
    "# train set에 없는 아이템이 val, test기간에 생길 수 있으므로 train data를 기준으로 인덱싱\n",
    "id2idx2 = {item_id : index for index, item_id in enumerate(tr2['ItemId'].unique())}\n",
    "\n",
    "tr2 = indexing(tr2, id2idx2)\n",
    "val2 = indexing(val2, id2idx2)\n",
    "test2 = indexing(test2, id2idx2)"
   ]
  },
  {
   "cell_type": "code",
   "execution_count": 316,
   "id": "western-catalyst",
   "metadata": {},
   "outputs": [
    {
     "data": {
      "text/plain": [
       "(553220, 157056, 164980)"
      ]
     },
     "execution_count": 316,
     "metadata": {},
     "output_type": "execute_result"
    }
   ],
   "source": [
    "len(tr2), len(val2), len(test2)"
   ]
  },
  {
   "cell_type": "code",
   "execution_count": 317,
   "id": "unlimited-mission",
   "metadata": {},
   "outputs": [],
   "source": [
    "# 데이터 저장\n",
    "save_path = data_path / 'processed'\n",
    "save_path.mkdir(parents=True, exist_ok=True)\n",
    "\n",
    "tr2.to_pickle(save_path / 'train2.pkl')\n",
    "val2.to_pickle(save_path / 'valid2.pkl')\n",
    "test2.to_pickle(save_path / 'test2.pkl')"
   ]
  },
  {
   "cell_type": "code",
   "execution_count": 318,
   "id": "electoral-conditions",
   "metadata": {},
   "outputs": [
    {
     "data": {
      "text/html": [
       "<div>\n",
       "<style scoped>\n",
       "    .dataframe tbody tr th:only-of-type {\n",
       "        vertical-align: middle;\n",
       "    }\n",
       "\n",
       "    .dataframe tbody tr th {\n",
       "        vertical-align: top;\n",
       "    }\n",
       "\n",
       "    .dataframe thead th {\n",
       "        text-align: right;\n",
       "    }\n",
       "</style>\n",
       "<table border=\"1\" class=\"dataframe\">\n",
       "  <thead>\n",
       "    <tr style=\"text-align: right;\">\n",
       "      <th></th>\n",
       "      <th>UserId</th>\n",
       "      <th>ItemId</th>\n",
       "      <th>Rating</th>\n",
       "      <th>Time</th>\n",
       "      <th>item_idx</th>\n",
       "    </tr>\n",
       "  </thead>\n",
       "  <tbody>\n",
       "    <tr>\n",
       "      <th>0</th>\n",
       "      <td>1</td>\n",
       "      <td>3186</td>\n",
       "      <td>4</td>\n",
       "      <td>978300019</td>\n",
       "      <td>0</td>\n",
       "    </tr>\n",
       "    <tr>\n",
       "      <th>1</th>\n",
       "      <td>1</td>\n",
       "      <td>1270</td>\n",
       "      <td>5</td>\n",
       "      <td>978300055</td>\n",
       "      <td>1</td>\n",
       "    </tr>\n",
       "    <tr>\n",
       "      <th>2</th>\n",
       "      <td>1</td>\n",
       "      <td>1721</td>\n",
       "      <td>4</td>\n",
       "      <td>978300055</td>\n",
       "      <td>2</td>\n",
       "    </tr>\n",
       "    <tr>\n",
       "      <th>3</th>\n",
       "      <td>1</td>\n",
       "      <td>1022</td>\n",
       "      <td>5</td>\n",
       "      <td>978300055</td>\n",
       "      <td>3</td>\n",
       "    </tr>\n",
       "    <tr>\n",
       "      <th>4</th>\n",
       "      <td>1</td>\n",
       "      <td>2340</td>\n",
       "      <td>3</td>\n",
       "      <td>978300103</td>\n",
       "      <td>4</td>\n",
       "    </tr>\n",
       "    <tr>\n",
       "      <th>5</th>\n",
       "      <td>1</td>\n",
       "      <td>1836</td>\n",
       "      <td>5</td>\n",
       "      <td>978300172</td>\n",
       "      <td>5</td>\n",
       "    </tr>\n",
       "    <tr>\n",
       "      <th>6</th>\n",
       "      <td>1</td>\n",
       "      <td>3408</td>\n",
       "      <td>4</td>\n",
       "      <td>978300275</td>\n",
       "      <td>6</td>\n",
       "    </tr>\n",
       "    <tr>\n",
       "      <th>7</th>\n",
       "      <td>1</td>\n",
       "      <td>2804</td>\n",
       "      <td>5</td>\n",
       "      <td>978300719</td>\n",
       "      <td>7</td>\n",
       "    </tr>\n",
       "    <tr>\n",
       "      <th>8</th>\n",
       "      <td>1</td>\n",
       "      <td>1207</td>\n",
       "      <td>4</td>\n",
       "      <td>978300719</td>\n",
       "      <td>8</td>\n",
       "    </tr>\n",
       "    <tr>\n",
       "      <th>9</th>\n",
       "      <td>1</td>\n",
       "      <td>1193</td>\n",
       "      <td>5</td>\n",
       "      <td>978300760</td>\n",
       "      <td>9</td>\n",
       "    </tr>\n",
       "  </tbody>\n",
       "</table>\n",
       "</div>"
      ],
      "text/plain": [
       "   UserId  ItemId  Rating       Time  item_idx\n",
       "0       1    3186       4  978300019         0\n",
       "1       1    1270       5  978300055         1\n",
       "2       1    1721       4  978300055         2\n",
       "3       1    1022       5  978300055         3\n",
       "4       1    2340       3  978300103         4\n",
       "5       1    1836       5  978300172         5\n",
       "6       1    3408       4  978300275         6\n",
       "7       1    2804       5  978300719         7\n",
       "8       1    1207       4  978300719         8\n",
       "9       1    1193       5  978300760         9"
      ]
     },
     "execution_count": 318,
     "metadata": {},
     "output_type": "execute_result"
    }
   ],
   "source": [
    "# 미니배치 구성\n",
    "tr_dataset2 = SessionDataset(tr2)\n",
    "tr_dataset2.df.head(10)"
   ]
  },
  {
   "cell_type": "code",
   "execution_count": 319,
   "id": "proprietary-sodium",
   "metadata": {},
   "outputs": [
    {
     "data": {
      "text/html": [
       "<div>\n",
       "<style scoped>\n",
       "    .dataframe tbody tr th:only-of-type {\n",
       "        vertical-align: middle;\n",
       "    }\n",
       "\n",
       "    .dataframe tbody tr th {\n",
       "        vertical-align: top;\n",
       "    }\n",
       "\n",
       "    .dataframe thead th {\n",
       "        text-align: right;\n",
       "    }\n",
       "</style>\n",
       "<table border=\"1\" class=\"dataframe\">\n",
       "  <thead>\n",
       "    <tr style=\"text-align: right;\">\n",
       "      <th></th>\n",
       "      <th>UserId</th>\n",
       "      <th>ItemId</th>\n",
       "      <th>Rating</th>\n",
       "      <th>Time</th>\n",
       "      <th>item_idx</th>\n",
       "    </tr>\n",
       "  </thead>\n",
       "  <tbody>\n",
       "    <tr>\n",
       "      <th>0</th>\n",
       "      <td>1</td>\n",
       "      <td>3186</td>\n",
       "      <td>4</td>\n",
       "      <td>978300019</td>\n",
       "      <td>0</td>\n",
       "    </tr>\n",
       "    <tr>\n",
       "      <th>1</th>\n",
       "      <td>1</td>\n",
       "      <td>1270</td>\n",
       "      <td>5</td>\n",
       "      <td>978300055</td>\n",
       "      <td>1</td>\n",
       "    </tr>\n",
       "    <tr>\n",
       "      <th>2</th>\n",
       "      <td>1</td>\n",
       "      <td>1721</td>\n",
       "      <td>4</td>\n",
       "      <td>978300055</td>\n",
       "      <td>2</td>\n",
       "    </tr>\n",
       "    <tr>\n",
       "      <th>3</th>\n",
       "      <td>1</td>\n",
       "      <td>1022</td>\n",
       "      <td>5</td>\n",
       "      <td>978300055</td>\n",
       "      <td>3</td>\n",
       "    </tr>\n",
       "    <tr>\n",
       "      <th>4</th>\n",
       "      <td>1</td>\n",
       "      <td>2340</td>\n",
       "      <td>3</td>\n",
       "      <td>978300103</td>\n",
       "      <td>4</td>\n",
       "    </tr>\n",
       "    <tr>\n",
       "      <th>5</th>\n",
       "      <td>1</td>\n",
       "      <td>1836</td>\n",
       "      <td>5</td>\n",
       "      <td>978300172</td>\n",
       "      <td>5</td>\n",
       "    </tr>\n",
       "    <tr>\n",
       "      <th>6</th>\n",
       "      <td>1</td>\n",
       "      <td>3408</td>\n",
       "      <td>4</td>\n",
       "      <td>978300275</td>\n",
       "      <td>6</td>\n",
       "    </tr>\n",
       "    <tr>\n",
       "      <th>7</th>\n",
       "      <td>1</td>\n",
       "      <td>2804</td>\n",
       "      <td>5</td>\n",
       "      <td>978300719</td>\n",
       "      <td>7</td>\n",
       "    </tr>\n",
       "    <tr>\n",
       "      <th>8</th>\n",
       "      <td>1</td>\n",
       "      <td>1207</td>\n",
       "      <td>4</td>\n",
       "      <td>978300719</td>\n",
       "      <td>8</td>\n",
       "    </tr>\n",
       "    <tr>\n",
       "      <th>9</th>\n",
       "      <td>1</td>\n",
       "      <td>1193</td>\n",
       "      <td>5</td>\n",
       "      <td>978300760</td>\n",
       "      <td>9</td>\n",
       "    </tr>\n",
       "    <tr>\n",
       "      <th>10</th>\n",
       "      <td>1</td>\n",
       "      <td>720</td>\n",
       "      <td>3</td>\n",
       "      <td>978300760</td>\n",
       "      <td>10</td>\n",
       "    </tr>\n",
       "    <tr>\n",
       "      <th>11</th>\n",
       "      <td>1</td>\n",
       "      <td>260</td>\n",
       "      <td>4</td>\n",
       "      <td>978300760</td>\n",
       "      <td>11</td>\n",
       "    </tr>\n",
       "    <tr>\n",
       "      <th>12</th>\n",
       "      <td>1</td>\n",
       "      <td>919</td>\n",
       "      <td>4</td>\n",
       "      <td>978301368</td>\n",
       "      <td>12</td>\n",
       "    </tr>\n",
       "    <tr>\n",
       "      <th>13</th>\n",
       "      <td>1</td>\n",
       "      <td>608</td>\n",
       "      <td>4</td>\n",
       "      <td>978301398</td>\n",
       "      <td>13</td>\n",
       "    </tr>\n",
       "    <tr>\n",
       "      <th>14</th>\n",
       "      <td>1</td>\n",
       "      <td>2692</td>\n",
       "      <td>4</td>\n",
       "      <td>978301570</td>\n",
       "      <td>14</td>\n",
       "    </tr>\n",
       "  </tbody>\n",
       "</table>\n",
       "</div>"
      ],
      "text/plain": [
       "    UserId  ItemId  Rating       Time  item_idx\n",
       "0        1    3186       4  978300019         0\n",
       "1        1    1270       5  978300055         1\n",
       "2        1    1721       4  978300055         2\n",
       "3        1    1022       5  978300055         3\n",
       "4        1    2340       3  978300103         4\n",
       "5        1    1836       5  978300172         5\n",
       "6        1    3408       4  978300275         6\n",
       "7        1    2804       5  978300719         7\n",
       "8        1    1207       4  978300719         8\n",
       "9        1    1193       5  978300760         9\n",
       "10       1     720       3  978300760        10\n",
       "11       1     260       4  978300760        11\n",
       "12       1     919       4  978301368        12\n",
       "13       1     608       4  978301398        13\n",
       "14       1    2692       4  978301570        14"
      ]
     },
     "execution_count": 319,
     "metadata": {},
     "output_type": "execute_result"
    }
   ],
   "source": [
    "tr_data_loader2 = SessionDataLoader(tr_dataset2, batch_size=4)\n",
    "tr_dataset2.df.head(15)"
   ]
  },
  {
   "cell_type": "code",
   "execution_count": 320,
   "id": "promotional-thumbnail",
   "metadata": {},
   "outputs": [],
   "source": [
    "iter_ex2 = iter(tr_data_loader2)"
   ]
  },
  {
   "cell_type": "code",
   "execution_count": 321,
   "id": "controlled-hebrew",
   "metadata": {},
   "outputs": [
    {
     "name": "stdout",
     "output_type": "stream",
     "text": [
      "Model Input Item Idx are : [ 0 53 65 56]\n",
      "Label Item Idx are :       [  1  54  62 208]\n",
      "Previous Masked Input Idx are []\n"
     ]
    }
   ],
   "source": [
    "inputs2, labels2, mask2 =  next(iter_ex2)\n",
    "print(f'Model Input Item Idx are : {inputs2}')\n",
    "print(f'Label Item Idx are : {\"\":5} {labels2}')\n",
    "print(f'Previous Masked Input Idx are {mask2}')"
   ]
  },
  {
   "cell_type": "code",
   "execution_count": 322,
   "id": "artificial-novelty",
   "metadata": {},
   "outputs": [],
   "source": [
    "# 모델에서 사용할 하이퍼 파라미터 변경\n",
    "class Args:\n",
    "    def __init__(self, tr, val, test, batch_size, hsz, drop_rate, lr, epochs, k):\n",
    "        self.tr = tr\n",
    "        self.val = val\n",
    "        self.test = test\n",
    "        self.num_items = tr['ItemId'].nunique()\n",
    "        self.num_sessions = tr['UserId'].nunique()\n",
    "        self.batch_size = batch_size\n",
    "        self.hsz = hsz\n",
    "        self.drop_rate = drop_rate\n",
    "        self.lr = lr\n",
    "        self.epochs = epochs\n",
    "        self.k = k\n",
    "\n",
    "args3 = Args(tr2, val2, test2, batch_size=128, hsz=50, drop_rate=0.1, lr=0.001, epochs=5, k=20)"
   ]
  },
  {
   "cell_type": "code",
   "execution_count": 323,
   "id": "ethical-heavy",
   "metadata": {},
   "outputs": [
    {
     "name": "stdout",
     "output_type": "stream",
     "text": [
      "Model: \"model_7\"\n",
      "_________________________________________________________________\n",
      "Layer (type)                 Output Shape              Param #   \n",
      "=================================================================\n",
      "input_8 (InputLayer)         [(128, 1, 2953)]          0         \n",
      "_________________________________________________________________\n",
      "GRU (GRU)                    [(128, 50), (128, 50)]    450750    \n",
      "_________________________________________________________________\n",
      "dropout_7 (Dropout)          (128, 50)                 0         \n",
      "_________________________________________________________________\n",
      "dense_7 (Dense)              (128, 2953)               150603    \n",
      "=================================================================\n",
      "Total params: 601,353\n",
      "Trainable params: 601,353\n",
      "Non-trainable params: 0\n",
      "_________________________________________________________________\n"
     ]
    }
   ],
   "source": [
    "# 모델 생성\n",
    "model3 = create_model(args3)"
   ]
  },
  {
   "cell_type": "code",
   "execution_count": 324,
   "id": "iraqi-newspaper",
   "metadata": {},
   "outputs": [
    {
     "name": "stderr",
     "output_type": "stream",
     "text": [
      "Train:  97%|█████████▋| 4174/4295 [01:18<00:02, 53.21it/s, accuracy=0.0312, train_loss=6.65] \n",
      "Evaluation:  84%|████████▍ | 1029/1222 [15:33<02:55,  1.10it/s]\n",
      "Train:   0%|          | 0/4295 [00:00<?, ?it/s, accuracy=0.0391, train_loss=6.24] "
     ]
    },
    {
     "name": "stdout",
     "output_type": "stream",
     "text": [
      "\t - Recall@20 epoch 1: 0.166796\n",
      "\t - MRR@20    epoch 1: 0.039632\n",
      "\n"
     ]
    },
    {
     "name": "stderr",
     "output_type": "stream",
     "text": [
      "Train:  97%|█████████▋| 4174/4295 [01:16<00:02, 54.66it/s, accuracy=0.0234, train_loss=6.35] \n",
      "Evaluation:  84%|████████▍ | 1029/1222 [15:00<02:48,  1.14it/s]\n",
      "Train:   0%|          | 0/4295 [00:00<?, ?it/s, accuracy=0.0469, train_loss=5.61] "
     ]
    },
    {
     "name": "stdout",
     "output_type": "stream",
     "text": [
      "\t - Recall@20 epoch 2: 0.247267\n",
      "\t - MRR@20    epoch 2: 0.064687\n",
      "\n"
     ]
    },
    {
     "name": "stderr",
     "output_type": "stream",
     "text": [
      "Train:  97%|█████████▋| 4174/4295 [01:16<00:02, 54.67it/s, accuracy=0.0391, train_loss=6.26] \n",
      "Evaluation:  84%|████████▍ | 1029/1222 [14:40<02:45,  1.17it/s]\n",
      "Train:   0%|          | 0/4295 [00:00<?, ?it/s, accuracy=0.0703, train_loss=5.41] "
     ]
    },
    {
     "name": "stdout",
     "output_type": "stream",
     "text": [
      "\t - Recall@20 epoch 3: 0.278145\n",
      "\t - MRR@20    epoch 3: 0.077989\n",
      "\n"
     ]
    },
    {
     "name": "stderr",
     "output_type": "stream",
     "text": [
      "Train:  97%|█████████▋| 4174/4295 [01:18<00:02, 53.49it/s, accuracy=0.0469, train_loss=6.13] \n",
      "Evaluation:  84%|████████▍ | 1029/1222 [14:26<02:42,  1.19it/s]\n",
      "Train:   0%|          | 0/4295 [00:00<?, ?it/s, accuracy=0.0547, train_loss=5.35] "
     ]
    },
    {
     "name": "stdout",
     "output_type": "stream",
     "text": [
      "\t - Recall@20 epoch 4: 0.296602\n",
      "\t - MRR@20    epoch 4: 0.086237\n",
      "\n"
     ]
    },
    {
     "name": "stderr",
     "output_type": "stream",
     "text": [
      "Train:  97%|█████████▋| 4174/4295 [01:18<00:02, 53.29it/s, accuracy=0.0312, train_loss=6.01] \n",
      "Evaluation:  84%|████████▍ | 1029/1222 [16:53<03:10,  1.02it/s]"
     ]
    },
    {
     "name": "stdout",
     "output_type": "stream",
     "text": [
      "\t - Recall@20 epoch 5: 0.306472\n",
      "\t - MRR@20    epoch 5: 0.090741\n",
      "\n"
     ]
    },
    {
     "name": "stderr",
     "output_type": "stream",
     "text": [
      "\n"
     ]
    }
   ],
   "source": [
    "# 모델 학습\n",
    "train_model(model3, args3)"
   ]
  },
  {
   "cell_type": "code",
   "execution_count": 325,
   "id": "separate-cabin",
   "metadata": {},
   "outputs": [
    {
     "name": "stderr",
     "output_type": "stream",
     "text": [
      "Evaluation:  80%|███████▉  | 1026/1285 [17:31<04:25,  1.02s/it]"
     ]
    },
    {
     "name": "stdout",
     "output_type": "stream",
     "text": [
      "\t - Recall@20: 0.265762\n",
      "\t - MRR@20: 0.076481\n",
      "\n"
     ]
    },
    {
     "name": "stderr",
     "output_type": "stream",
     "text": [
      "\n"
     ]
    }
   ],
   "source": [
    "# 모델 테스트\n",
    "test_model(model3, args3, test2)"
   ]
  },
  {
   "cell_type": "markdown",
   "id": "growing-stand",
   "metadata": {},
   "source": [
    "# 결론"
   ]
  },
  {
   "cell_type": "markdown",
   "id": "south-chicago",
   "metadata": {},
   "source": [
    "첫번째와 세번째의 학습 정보들이 거의 비슷하기 때문에 세번째 시도에서 적용한 인원과 아이템 하위 20%이상과 별점의 역할은 미미하다는 것을 알 수 있었다. 따라서 주어진 조건에서는 epoch 수를 늘리면 더 좋은 결과를 얻을 것이라고 예상된다."
   ]
  },
  {
   "cell_type": "markdown",
   "id": "advisory-commerce",
   "metadata": {},
   "source": [
    "# 회고\n",
    "- 이번 프로젝트에서 어려웠던 점\n",
    "    - RNN 이나 LSTM 이나 GRU 모델들의 작동원리를 아직 제대로 파악하지 못했다.\n",
    "- 프로젝트를 진행하면서 알아낸 점 혹은 아직 모호한 점\n",
    "    - 처음보는 mode를 평가 지표들이었다.\n",
    "- 자기 다짐\n",
    "    - CS231n 다음 수업이 RNN이어서 빨리 들어봐야 겠다."
   ]
  }
 ],
 "metadata": {
  "kernelspec": {
   "display_name": "Python 3",
   "language": "python",
   "name": "python3"
  },
  "language_info": {
   "codemirror_mode": {
    "name": "ipython",
    "version": 3
   },
   "file_extension": ".py",
   "mimetype": "text/x-python",
   "name": "python",
   "nbconvert_exporter": "python",
   "pygments_lexer": "ipython3",
   "version": "3.7.9"
  }
 },
 "nbformat": 4,
 "nbformat_minor": 5
}
